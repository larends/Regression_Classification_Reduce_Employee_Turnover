{
 "cells": [
  {
   "cell_type": "markdown",
   "metadata": {},
   "source": [
    "# Business Problem"
   ]
  },
  {
   "cell_type": "markdown",
   "metadata": {},
   "source": [
    "The company is concerned about its employee turnover and wants to use their HR data to: \n",
    "\n",
    "- predict employee engagement and satisfaction\n",
    "- predict who is likely to terminate their employment\n",
    "\n",
    "They also want recommendations on what interventions may help to reduce employee turnover."
   ]
  },
  {
   "cell_type": "markdown",
   "metadata": {},
   "source": [
    "# Business Value\n",
    "\n",
    "It is more cost-effective for the company to address the underlying issues behind employee termination than to hire and train new employees. By predicting who is likely to terminate employment (without relying on employee disclosure on survey data), the company can intervene before employment is terminated. "
   ]
  },
  {
   "cell_type": "markdown",
   "metadata": {},
   "source": [
    "# Methodology\n",
    "\n",
    "- Prepare the data for modeling\n",
    "- Use regression to predict a continuous target that measures employee satisfaction and engagement\n",
    "- Use classification to predict which employees are likely to terminate their employment\n",
    "- Use statistical analysis and data visualizations to summarize the findings and make recommendations\n",
    "- Create a Tableau storyboard to present the findings\n"
   ]
  },
  {
   "cell_type": "code",
   "execution_count": 1,
   "metadata": {
    "ExecuteTime": {
     "end_time": "2021-12-17T21:26:10.060187Z",
     "start_time": "2021-12-17T21:26:08.902202Z"
    }
   },
   "outputs": [],
   "source": [
    "import numpy as np\n",
    "import pandas as pd\n",
    "\n",
    "import matplotlib.pyplot as plt\n",
    "import seaborn as sns\n",
    "\n",
    "from datetime import datetime\n",
    "from dateutil.relativedelta import relativedelta\n",
    "\n",
    "%matplotlib inline"
   ]
  },
  {
   "cell_type": "code",
   "execution_count": 2,
   "metadata": {
    "ExecuteTime": {
     "end_time": "2021-12-17T21:26:10.088866Z",
     "start_time": "2021-12-17T21:26:10.062663Z"
    },
    "scrolled": true
   },
   "outputs": [
    {
     "data": {
      "text/html": [
       "<div>\n",
       "<style scoped>\n",
       "    .dataframe tbody tr th:only-of-type {\n",
       "        vertical-align: middle;\n",
       "    }\n",
       "\n",
       "    .dataframe tbody tr th {\n",
       "        vertical-align: top;\n",
       "    }\n",
       "\n",
       "    .dataframe thead th {\n",
       "        text-align: right;\n",
       "    }\n",
       "</style>\n",
       "<table border=\"1\" class=\"dataframe\">\n",
       "  <thead>\n",
       "    <tr style=\"text-align: right;\">\n",
       "      <th></th>\n",
       "      <th>Employee_Name</th>\n",
       "      <th>EmpID</th>\n",
       "      <th>MarriedID</th>\n",
       "      <th>MaritalStatusID</th>\n",
       "      <th>GenderID</th>\n",
       "      <th>EmpStatusID</th>\n",
       "      <th>DeptID</th>\n",
       "      <th>PerfScoreID</th>\n",
       "      <th>FromDiversityJobFairID</th>\n",
       "      <th>Salary</th>\n",
       "      <th>...</th>\n",
       "      <th>ManagerName</th>\n",
       "      <th>ManagerID</th>\n",
       "      <th>RecruitmentSource</th>\n",
       "      <th>PerformanceScore</th>\n",
       "      <th>EngagementSurvey</th>\n",
       "      <th>EmpSatisfaction</th>\n",
       "      <th>SpecialProjectsCount</th>\n",
       "      <th>LastPerformanceReview_Date</th>\n",
       "      <th>DaysLateLast30</th>\n",
       "      <th>Absences</th>\n",
       "    </tr>\n",
       "  </thead>\n",
       "  <tbody>\n",
       "    <tr>\n",
       "      <th>0</th>\n",
       "      <td>Adinolfi, Wilson  K</td>\n",
       "      <td>10026</td>\n",
       "      <td>0</td>\n",
       "      <td>0</td>\n",
       "      <td>1</td>\n",
       "      <td>1</td>\n",
       "      <td>5</td>\n",
       "      <td>4</td>\n",
       "      <td>0</td>\n",
       "      <td>62506</td>\n",
       "      <td>...</td>\n",
       "      <td>Michael Albert</td>\n",
       "      <td>22.0</td>\n",
       "      <td>LinkedIn</td>\n",
       "      <td>Exceeds</td>\n",
       "      <td>4.60</td>\n",
       "      <td>5</td>\n",
       "      <td>0</td>\n",
       "      <td>1/17/2019</td>\n",
       "      <td>0</td>\n",
       "      <td>1</td>\n",
       "    </tr>\n",
       "    <tr>\n",
       "      <th>1</th>\n",
       "      <td>Ait Sidi, Karthikeyan</td>\n",
       "      <td>10084</td>\n",
       "      <td>1</td>\n",
       "      <td>1</td>\n",
       "      <td>1</td>\n",
       "      <td>5</td>\n",
       "      <td>3</td>\n",
       "      <td>3</td>\n",
       "      <td>0</td>\n",
       "      <td>104437</td>\n",
       "      <td>...</td>\n",
       "      <td>Simon Roup</td>\n",
       "      <td>4.0</td>\n",
       "      <td>Indeed</td>\n",
       "      <td>Fully Meets</td>\n",
       "      <td>4.96</td>\n",
       "      <td>3</td>\n",
       "      <td>6</td>\n",
       "      <td>2/24/2016</td>\n",
       "      <td>0</td>\n",
       "      <td>17</td>\n",
       "    </tr>\n",
       "    <tr>\n",
       "      <th>2</th>\n",
       "      <td>Akinkuolie, Sarah</td>\n",
       "      <td>10196</td>\n",
       "      <td>1</td>\n",
       "      <td>1</td>\n",
       "      <td>0</td>\n",
       "      <td>5</td>\n",
       "      <td>5</td>\n",
       "      <td>3</td>\n",
       "      <td>0</td>\n",
       "      <td>64955</td>\n",
       "      <td>...</td>\n",
       "      <td>Kissy Sullivan</td>\n",
       "      <td>20.0</td>\n",
       "      <td>LinkedIn</td>\n",
       "      <td>Fully Meets</td>\n",
       "      <td>3.02</td>\n",
       "      <td>3</td>\n",
       "      <td>0</td>\n",
       "      <td>5/15/2012</td>\n",
       "      <td>0</td>\n",
       "      <td>3</td>\n",
       "    </tr>\n",
       "    <tr>\n",
       "      <th>3</th>\n",
       "      <td>Alagbe,Trina</td>\n",
       "      <td>10088</td>\n",
       "      <td>1</td>\n",
       "      <td>1</td>\n",
       "      <td>0</td>\n",
       "      <td>1</td>\n",
       "      <td>5</td>\n",
       "      <td>3</td>\n",
       "      <td>0</td>\n",
       "      <td>64991</td>\n",
       "      <td>...</td>\n",
       "      <td>Elijiah Gray</td>\n",
       "      <td>16.0</td>\n",
       "      <td>Indeed</td>\n",
       "      <td>Fully Meets</td>\n",
       "      <td>4.84</td>\n",
       "      <td>5</td>\n",
       "      <td>0</td>\n",
       "      <td>1/3/2019</td>\n",
       "      <td>0</td>\n",
       "      <td>15</td>\n",
       "    </tr>\n",
       "    <tr>\n",
       "      <th>4</th>\n",
       "      <td>Anderson, Carol</td>\n",
       "      <td>10069</td>\n",
       "      <td>0</td>\n",
       "      <td>2</td>\n",
       "      <td>0</td>\n",
       "      <td>5</td>\n",
       "      <td>5</td>\n",
       "      <td>3</td>\n",
       "      <td>0</td>\n",
       "      <td>50825</td>\n",
       "      <td>...</td>\n",
       "      <td>Webster Butler</td>\n",
       "      <td>39.0</td>\n",
       "      <td>Google Search</td>\n",
       "      <td>Fully Meets</td>\n",
       "      <td>5.00</td>\n",
       "      <td>4</td>\n",
       "      <td>0</td>\n",
       "      <td>2/1/2016</td>\n",
       "      <td>0</td>\n",
       "      <td>2</td>\n",
       "    </tr>\n",
       "  </tbody>\n",
       "</table>\n",
       "<p>5 rows × 36 columns</p>\n",
       "</div>"
      ],
      "text/plain": [
       "              Employee_Name  EmpID  MarriedID  MaritalStatusID  GenderID  \\\n",
       "0       Adinolfi, Wilson  K  10026          0                0         1   \n",
       "1  Ait Sidi, Karthikeyan     10084          1                1         1   \n",
       "2         Akinkuolie, Sarah  10196          1                1         0   \n",
       "3              Alagbe,Trina  10088          1                1         0   \n",
       "4          Anderson, Carol   10069          0                2         0   \n",
       "\n",
       "   EmpStatusID  DeptID  PerfScoreID  FromDiversityJobFairID  Salary  ...  \\\n",
       "0            1       5            4                       0   62506  ...   \n",
       "1            5       3            3                       0  104437  ...   \n",
       "2            5       5            3                       0   64955  ...   \n",
       "3            1       5            3                       0   64991  ...   \n",
       "4            5       5            3                       0   50825  ...   \n",
       "\n",
       "      ManagerName  ManagerID RecruitmentSource PerformanceScore  \\\n",
       "0  Michael Albert       22.0          LinkedIn          Exceeds   \n",
       "1      Simon Roup        4.0            Indeed      Fully Meets   \n",
       "2  Kissy Sullivan       20.0          LinkedIn      Fully Meets   \n",
       "3    Elijiah Gray       16.0            Indeed      Fully Meets   \n",
       "4  Webster Butler       39.0     Google Search      Fully Meets   \n",
       "\n",
       "   EngagementSurvey EmpSatisfaction SpecialProjectsCount  \\\n",
       "0              4.60               5                    0   \n",
       "1              4.96               3                    6   \n",
       "2              3.02               3                    0   \n",
       "3              4.84               5                    0   \n",
       "4              5.00               4                    0   \n",
       "\n",
       "  LastPerformanceReview_Date DaysLateLast30 Absences  \n",
       "0                  1/17/2019              0        1  \n",
       "1                  2/24/2016              0       17  \n",
       "2                  5/15/2012              0        3  \n",
       "3                   1/3/2019              0       15  \n",
       "4                   2/1/2016              0        2  \n",
       "\n",
       "[5 rows x 36 columns]"
      ]
     },
     "execution_count": 2,
     "metadata": {},
     "output_type": "execute_result"
    }
   ],
   "source": [
    "df = pd.read_csv('HRDataset_v14.csv')\n",
    "df.head()"
   ]
  },
  {
   "cell_type": "code",
   "execution_count": 3,
   "metadata": {
    "ExecuteTime": {
     "end_time": "2021-12-17T21:26:10.099607Z",
     "start_time": "2021-12-17T21:26:10.090816Z"
    }
   },
   "outputs": [
    {
     "name": "stdout",
     "output_type": "stream",
     "text": [
      "<class 'pandas.core.frame.DataFrame'>\n",
      "RangeIndex: 311 entries, 0 to 310\n",
      "Data columns (total 36 columns):\n",
      " #   Column                      Non-Null Count  Dtype  \n",
      "---  ------                      --------------  -----  \n",
      " 0   Employee_Name               311 non-null    object \n",
      " 1   EmpID                       311 non-null    int64  \n",
      " 2   MarriedID                   311 non-null    int64  \n",
      " 3   MaritalStatusID             311 non-null    int64  \n",
      " 4   GenderID                    311 non-null    int64  \n",
      " 5   EmpStatusID                 311 non-null    int64  \n",
      " 6   DeptID                      311 non-null    int64  \n",
      " 7   PerfScoreID                 311 non-null    int64  \n",
      " 8   FromDiversityJobFairID      311 non-null    int64  \n",
      " 9   Salary                      311 non-null    int64  \n",
      " 10  Termd                       311 non-null    int64  \n",
      " 11  PositionID                  311 non-null    int64  \n",
      " 12  Position                    311 non-null    object \n",
      " 13  State                       311 non-null    object \n",
      " 14  Zip                         311 non-null    int64  \n",
      " 15  DOB                         311 non-null    object \n",
      " 16  Sex                         311 non-null    object \n",
      " 17  MaritalDesc                 311 non-null    object \n",
      " 18  CitizenDesc                 311 non-null    object \n",
      " 19  HispanicLatino              311 non-null    object \n",
      " 20  RaceDesc                    311 non-null    object \n",
      " 21  DateofHire                  311 non-null    object \n",
      " 22  DateofTermination           104 non-null    object \n",
      " 23  TermReason                  311 non-null    object \n",
      " 24  EmploymentStatus            311 non-null    object \n",
      " 25  Department                  311 non-null    object \n",
      " 26  ManagerName                 311 non-null    object \n",
      " 27  ManagerID                   303 non-null    float64\n",
      " 28  RecruitmentSource           311 non-null    object \n",
      " 29  PerformanceScore            311 non-null    object \n",
      " 30  EngagementSurvey            311 non-null    float64\n",
      " 31  EmpSatisfaction             311 non-null    int64  \n",
      " 32  SpecialProjectsCount        311 non-null    int64  \n",
      " 33  LastPerformanceReview_Date  311 non-null    object \n",
      " 34  DaysLateLast30              311 non-null    int64  \n",
      " 35  Absences                    311 non-null    int64  \n",
      "dtypes: float64(2), int64(16), object(18)\n",
      "memory usage: 87.6+ KB\n"
     ]
    }
   ],
   "source": [
    "df.info()"
   ]
  },
  {
   "cell_type": "markdown",
   "metadata": {
    "ExecuteTime": {
     "end_time": "2021-12-17T11:25:05.092598Z",
     "start_time": "2021-12-17T11:25:05.081454Z"
    }
   },
   "source": [
    "# Explore the Data and Engineer Features"
   ]
  },
  {
   "cell_type": "code",
   "execution_count": 4,
   "metadata": {
    "ExecuteTime": {
     "end_time": "2021-12-17T21:26:10.105124Z",
     "start_time": "2021-12-17T21:26:10.101637Z"
    }
   },
   "outputs": [
    {
     "data": {
      "text/plain": [
       "(311, 0)"
      ]
     },
     "execution_count": 4,
     "metadata": {},
     "output_type": "execute_result"
    }
   ],
   "source": [
    "# There are no repeated and no null values for employee name\n",
    "df['Employee_Name'].nunique(), (df['Employee_Name'].isna()).sum()"
   ]
  },
  {
   "cell_type": "code",
   "execution_count": 5,
   "metadata": {
    "ExecuteTime": {
     "end_time": "2021-12-17T21:26:10.110111Z",
     "start_time": "2021-12-17T21:26:10.106436Z"
    }
   },
   "outputs": [
    {
     "data": {
      "text/plain": [
       "(311, 0)"
      ]
     },
     "execution_count": 5,
     "metadata": {},
     "output_type": "execute_result"
    }
   ],
   "source": [
    "# There are no repeated and no null values for employee name\n",
    "df['EmpID'].nunique(), (df['EmpID'].isna()).sum()"
   ]
  },
  {
   "cell_type": "code",
   "execution_count": 6,
   "metadata": {
    "ExecuteTime": {
     "end_time": "2021-12-17T21:26:10.118242Z",
     "start_time": "2021-12-17T21:26:10.111491Z"
    }
   },
   "outputs": [
    {
     "data": {
      "text/plain": [
       "0    0.601286\n",
       "1    0.398714\n",
       "Name: MarriedID, dtype: float64"
      ]
     },
     "execution_count": 6,
     "metadata": {},
     "output_type": "execute_result"
    }
   ],
   "source": [
    "#60% of the employees are not married\n",
    "df['MarriedID'].value_counts(normalize=True)"
   ]
  },
  {
   "cell_type": "code",
   "execution_count": 7,
   "metadata": {
    "ExecuteTime": {
     "end_time": "2021-12-17T21:26:10.124525Z",
     "start_time": "2021-12-17T21:26:10.120131Z"
    },
    "scrolled": false
   },
   "outputs": [
    {
     "data": {
      "text/plain": [
       "0    0.440514\n",
       "1    0.398714\n",
       "2    0.096463\n",
       "3    0.038585\n",
       "4    0.025723\n",
       "Name: MaritalStatusID, dtype: float64"
      ]
     },
     "execution_count": 7,
     "metadata": {},
     "output_type": "execute_result"
    }
   ],
   "source": [
    "#Numerical coding of MaritalDesc column\n",
    "df['MaritalStatusID'].value_counts(normalize=True)"
   ]
  },
  {
   "cell_type": "code",
   "execution_count": 8,
   "metadata": {
    "ExecuteTime": {
     "end_time": "2021-12-17T21:26:10.133090Z",
     "start_time": "2021-12-17T21:26:10.127944Z"
    },
    "scrolled": false
   },
   "outputs": [
    {
     "data": {
      "text/plain": [
       "Single       0.440514\n",
       "Married      0.398714\n",
       "Divorced     0.096463\n",
       "Separated    0.038585\n",
       "Widowed      0.025723\n",
       "Name: MaritalDesc, dtype: float64"
      ]
     },
     "execution_count": 8,
     "metadata": {},
     "output_type": "execute_result"
    }
   ],
   "source": [
    "df['MaritalDesc'].value_counts(normalize=True)"
   ]
  },
  {
   "cell_type": "markdown",
   "metadata": {},
   "source": [
    "Because there is not an ordinal relationship between the marital categories, it does not make sense to have them numerically coded. Since these will need to be on-hot-encoded for any models, I am going to drop the numerical column and keep the one with the descriptions, as it is easier to use."
   ]
  },
  {
   "cell_type": "code",
   "execution_count": 9,
   "metadata": {
    "ExecuteTime": {
     "end_time": "2021-12-17T21:26:10.138799Z",
     "start_time": "2021-12-17T21:26:10.135588Z"
    }
   },
   "outputs": [],
   "source": [
    "df.drop('MaritalStatusID', axis=1, inplace=True)"
   ]
  },
  {
   "cell_type": "code",
   "execution_count": 10,
   "metadata": {
    "ExecuteTime": {
     "end_time": "2021-12-17T21:26:10.144947Z",
     "start_time": "2021-12-17T21:26:10.140215Z"
    }
   },
   "outputs": [
    {
     "data": {
      "text/plain": [
       "0    0.565916\n",
       "1    0.434084\n",
       "Name: GenderID, dtype: float64"
      ]
     },
     "execution_count": 10,
     "metadata": {},
     "output_type": "execute_result"
    }
   ],
   "source": [
    "#Numerical coding for Sex column; slight more than half of the employees are\n",
    "#female\n",
    "df['GenderID'].value_counts(normalize=True)"
   ]
  },
  {
   "cell_type": "code",
   "execution_count": 11,
   "metadata": {
    "ExecuteTime": {
     "end_time": "2021-12-17T21:26:10.150809Z",
     "start_time": "2021-12-17T21:26:10.146365Z"
    }
   },
   "outputs": [
    {
     "data": {
      "text/plain": [
       "F     0.565916\n",
       "M     0.434084\n",
       "Name: Sex, dtype: float64"
      ]
     },
     "execution_count": 11,
     "metadata": {},
     "output_type": "execute_result"
    }
   ],
   "source": [
    "df['Sex'].value_counts(normalize=True)"
   ]
  },
  {
   "cell_type": "code",
   "execution_count": 12,
   "metadata": {
    "ExecuteTime": {
     "end_time": "2021-12-17T21:26:10.156361Z",
     "start_time": "2021-12-17T21:26:10.152055Z"
    }
   },
   "outputs": [
    {
     "data": {
      "text/plain": [
       "1    0.591640\n",
       "5    0.282958\n",
       "4    0.045016\n",
       "3    0.045016\n",
       "2    0.035370\n",
       "Name: EmpStatusID, dtype: float64"
      ]
     },
     "execution_count": 12,
     "metadata": {},
     "output_type": "execute_result"
    }
   ],
   "source": [
    "df['EmpStatusID'].value_counts(normalize=True)"
   ]
  },
  {
   "cell_type": "code",
   "execution_count": 13,
   "metadata": {
    "ExecuteTime": {
     "end_time": "2021-12-17T21:26:10.162949Z",
     "start_time": "2021-12-17T21:26:10.157732Z"
    }
   },
   "outputs": [
    {
     "data": {
      "text/plain": [
       "Active                    0.665595\n",
       "Voluntarily Terminated    0.282958\n",
       "Terminated for Cause      0.051447\n",
       "Name: EmploymentStatus, dtype: float64"
      ]
     },
     "execution_count": 13,
     "metadata": {},
     "output_type": "execute_result"
    }
   ],
   "source": [
    "df['EmploymentStatus'].value_counts(normalize=True)"
   ]
  },
  {
   "cell_type": "markdown",
   "metadata": {},
   "source": [
    "The documentation states that these two columns should align. While 5 is clearly \"Voluntarily Terminated,\" the other values are unclear. I am going to remove the numerically encoded column since it is ambiguous and most likely is incorrectly showing a numerical relationship. "
   ]
  },
  {
   "cell_type": "code",
   "execution_count": 14,
   "metadata": {
    "ExecuteTime": {
     "end_time": "2021-12-17T21:26:10.168847Z",
     "start_time": "2021-12-17T21:26:10.165002Z"
    }
   },
   "outputs": [],
   "source": [
    "df.drop('EmpStatusID', axis=1, inplace=True)"
   ]
  },
  {
   "cell_type": "code",
   "execution_count": 15,
   "metadata": {
    "ExecuteTime": {
     "end_time": "2021-12-17T21:26:10.176806Z",
     "start_time": "2021-12-17T21:26:10.171525Z"
    }
   },
   "outputs": [
    {
     "data": {
      "text/plain": [
       "5    0.668810\n",
       "3    0.160772\n",
       "6    0.102894\n",
       "4    0.032154\n",
       "1    0.032154\n",
       "2    0.003215\n",
       "Name: DeptID, dtype: float64"
      ]
     },
     "execution_count": 15,
     "metadata": {},
     "output_type": "execute_result"
    }
   ],
   "source": [
    "df['DeptID'].value_counts(normalize=True)"
   ]
  },
  {
   "cell_type": "code",
   "execution_count": 16,
   "metadata": {
    "ExecuteTime": {
     "end_time": "2021-12-17T21:26:10.182941Z",
     "start_time": "2021-12-17T21:26:10.178794Z"
    }
   },
   "outputs": [
    {
     "data": {
      "text/plain": [
       "Production              0.672026\n",
       "IT/IS                   0.160772\n",
       "Sales                   0.099678\n",
       "Software Engineering    0.035370\n",
       "Admin Offices           0.028939\n",
       "Executive Office        0.003215\n",
       "Name: Department, dtype: float64"
      ]
     },
     "execution_count": 16,
     "metadata": {},
     "output_type": "execute_result"
    }
   ],
   "source": [
    "df[\"Department\"].value_counts(normalize=True)"
   ]
  },
  {
   "cell_type": "markdown",
   "metadata": {},
   "source": [
    "Department ID has the same issue as marital status. I will take the same approach with this column and with any others that are incorrectly coded to imply cardinality."
   ]
  },
  {
   "cell_type": "code",
   "execution_count": 17,
   "metadata": {
    "ExecuteTime": {
     "end_time": "2021-12-17T21:26:10.187378Z",
     "start_time": "2021-12-17T21:26:10.184285Z"
    }
   },
   "outputs": [],
   "source": [
    "df.drop('DeptID', axis=1, inplace=True)"
   ]
  },
  {
   "cell_type": "code",
   "execution_count": 18,
   "metadata": {
    "ExecuteTime": {
     "end_time": "2021-12-17T21:26:10.195009Z",
     "start_time": "2021-12-17T21:26:10.189043Z"
    }
   },
   "outputs": [
    {
     "data": {
      "text/plain": [
       "3    0.781350\n",
       "4    0.118971\n",
       "2    0.057878\n",
       "1    0.041801\n",
       "Name: PerfScoreID, dtype: float64"
      ]
     },
     "execution_count": 18,
     "metadata": {},
     "output_type": "execute_result"
    }
   ],
   "source": [
    "df['PerfScoreID'].value_counts(normalize=True)"
   ]
  },
  {
   "cell_type": "code",
   "execution_count": 19,
   "metadata": {
    "ExecuteTime": {
     "end_time": "2021-12-17T21:26:10.203022Z",
     "start_time": "2021-12-17T21:26:10.197294Z"
    }
   },
   "outputs": [
    {
     "data": {
      "text/plain": [
       "Fully Meets          0.781350\n",
       "Exceeds              0.118971\n",
       "Needs Improvement    0.057878\n",
       "PIP                  0.041801\n",
       "Name: PerformanceScore, dtype: float64"
      ]
     },
     "execution_count": 19,
     "metadata": {},
     "output_type": "execute_result"
    }
   ],
   "source": [
    "df[\"PerformanceScore\"].value_counts(normalize=True)"
   ]
  },
  {
   "cell_type": "code",
   "execution_count": 20,
   "metadata": {
    "ExecuteTime": {
     "end_time": "2021-12-17T21:26:10.208570Z",
     "start_time": "2021-12-17T21:26:10.205167Z"
    }
   },
   "outputs": [],
   "source": [
    "df.drop('PerfScoreID', axis=1, inplace=True)"
   ]
  },
  {
   "cell_type": "code",
   "execution_count": 21,
   "metadata": {
    "ExecuteTime": {
     "end_time": "2021-12-17T21:26:10.216226Z",
     "start_time": "2021-12-17T21:26:10.210833Z"
    }
   },
   "outputs": [
    {
     "data": {
      "text/plain": [
       "0    0.906752\n",
       "1    0.093248\n",
       "Name: FromDiversityJobFairID, dtype: float64"
      ]
     },
     "execution_count": 21,
     "metadata": {},
     "output_type": "execute_result"
    }
   ],
   "source": [
    "#Just under 10% of the employees came from a diversity job fair\n",
    "df['FromDiversityJobFairID'].value_counts(normalize=True)"
   ]
  },
  {
   "cell_type": "code",
   "execution_count": 22,
   "metadata": {
    "ExecuteTime": {
     "end_time": "2021-12-17T21:26:10.223585Z",
     "start_time": "2021-12-17T21:26:10.218107Z"
    }
   },
   "outputs": [
    {
     "data": {
      "text/plain": [
       "count       311.000000\n",
       "mean      69020.684887\n",
       "std       25156.636930\n",
       "min       45046.000000\n",
       "25%       55501.500000\n",
       "50%       62810.000000\n",
       "75%       72036.000000\n",
       "max      250000.000000\n",
       "Name: Salary, dtype: float64"
      ]
     },
     "execution_count": 22,
     "metadata": {},
     "output_type": "execute_result"
    }
   ],
   "source": [
    "#Salaries range from roughly $45,000 to $250,000. That is a reasonable range.\n",
    "df['Salary'].describe()"
   ]
  },
  {
   "cell_type": "code",
   "execution_count": 23,
   "metadata": {
    "ExecuteTime": {
     "end_time": "2021-12-17T21:26:10.369524Z",
     "start_time": "2021-12-17T21:26:10.229160Z"
    }
   },
   "outputs": [
    {
     "data": {
      "image/png": "[encoded data removed]",
      "text/plain": [
       "<Figure size 432x288 with 1 Axes>"
      ]
     },
     "metadata": {
      "needs_background": "light"
     },
     "output_type": "display_data"
    }
   ],
   "source": [
    "df['Salary'].hist(bins=20)\n",
    "plt.title('Distribution of Salary');"
   ]
  },
  {
   "cell_type": "markdown",
   "metadata": {},
   "source": [
    "The data are bimodal, with the largest number of employees making around \\\\$60,000 and another group (management?) clustered around \\\\$90,000."
   ]
  },
  {
   "cell_type": "code",
   "execution_count": 24,
   "metadata": {
    "ExecuteTime": {
     "end_time": "2021-12-17T21:26:10.378472Z",
     "start_time": "2021-12-17T21:26:10.373717Z"
    }
   },
   "outputs": [
    {
     "data": {
      "text/plain": [
       "0    207\n",
       "1    104\n",
       "Name: Termd, dtype: int64"
      ]
     },
     "execution_count": 24,
     "metadata": {},
     "output_type": "execute_result"
    }
   ],
   "source": [
    "df['Termd'].value_counts()"
   ]
  },
  {
   "cell_type": "code",
   "execution_count": 25,
   "metadata": {
    "ExecuteTime": {
     "end_time": "2021-12-17T21:26:10.385178Z",
     "start_time": "2021-12-17T21:26:10.380357Z"
    }
   },
   "outputs": [
    {
     "data": {
      "text/plain": [
       "19    0.440514\n",
       "20    0.183280\n",
       "3     0.086817\n",
       "18    0.041801\n",
       "24    0.028939\n",
       "14    0.025723\n",
       "9     0.025723\n",
       "15    0.016077\n",
       "28    0.016077\n",
       "8     0.016077\n",
       "4     0.012862\n",
       "13    0.012862\n",
       "2     0.009646\n",
       "1     0.009646\n",
       "21    0.009646\n",
       "22    0.009646\n",
       "23    0.006431\n",
       "26    0.006431\n",
       "27    0.006431\n",
       "16    0.003215\n",
       "29    0.003215\n",
       "17    0.003215\n",
       "12    0.003215\n",
       "11    0.003215\n",
       "10    0.003215\n",
       "7     0.003215\n",
       "6     0.003215\n",
       "5     0.003215\n",
       "25    0.003215\n",
       "30    0.003215\n",
       "Name: PositionID, dtype: float64"
      ]
     },
     "execution_count": 25,
     "metadata": {},
     "output_type": "execute_result"
    }
   ],
   "source": [
    "df['PositionID'].value_counts(normalize=True)"
   ]
  },
  {
   "cell_type": "code",
   "execution_count": 26,
   "metadata": {
    "ExecuteTime": {
     "end_time": "2021-12-17T21:26:10.391416Z",
     "start_time": "2021-12-17T21:26:10.386945Z"
    }
   },
   "outputs": [
    {
     "data": {
      "text/plain": [
       "Production Technician I         137\n",
       "Production Technician II         57\n",
       "Area Sales Manager               27\n",
       "Production Manager               14\n",
       "Software Engineer                10\n",
       "IT Support                        8\n",
       "Data Analyst                      7\n",
       "Sr. Network Engineer              5\n",
       "Database Administrator            5\n",
       "Network Engineer                  5\n",
       "BI Developer                      4\n",
       "Sales Manager                     3\n",
       "Senior BI Developer               3\n",
       "Administrative Assistant          3\n",
       "Accountant I                      3\n",
       "IT Manager - DB                   2\n",
       "Sr. Accountant                    2\n",
       "Sr. DBA                           2\n",
       "Shared Services Manager           1\n",
       "Principal Data Architect          1\n",
       "Data Architect                    1\n",
       "IT Director                       1\n",
       "Data Analyst                      1\n",
       "IT Manager - Support              1\n",
       "Director of Sales                 1\n",
       "IT Manager - Infra                1\n",
       "President & CEO                   1\n",
       "CIO                               1\n",
       "Software Engineering Manager      1\n",
       "BI Director                       1\n",
       "Director of Operations            1\n",
       "Enterprise Architect              1\n",
       "Name: Position, dtype: int64"
      ]
     },
     "execution_count": 26,
     "metadata": {},
     "output_type": "execute_result"
    }
   ],
   "source": [
    "df['Position'].value_counts()"
   ]
  },
  {
   "cell_type": "code",
   "execution_count": 27,
   "metadata": {
    "ExecuteTime": {
     "end_time": "2021-12-17T21:26:10.396115Z",
     "start_time": "2021-12-17T21:26:10.392937Z"
    }
   },
   "outputs": [],
   "source": [
    "df.drop('PositionID', axis=1, inplace=True)"
   ]
  },
  {
   "cell_type": "markdown",
   "metadata": {},
   "source": [
    "I may want to bin these by broad category later."
   ]
  },
  {
   "cell_type": "code",
   "execution_count": 28,
   "metadata": {
    "ExecuteTime": {
     "end_time": "2021-12-17T21:26:10.677770Z",
     "start_time": "2021-12-17T21:26:10.397473Z"
    }
   },
   "outputs": [
    {
     "data": {
      "image/png": "[encoded data removed]",
      "text/plain": [
       "<Figure size 864x1440 with 1 Axes>"
      ]
     },
     "metadata": {
      "needs_background": "light"
     },
     "output_type": "display_data"
    }
   ],
   "source": [
    "(df.groupby\n",
    "     ('Position')\n",
    "     ['Salary']\n",
    "    .mean()\n",
    "    .sort_values()\n",
    "    .plot(\n",
    "        kind='barh', \n",
    "        figsize=(12,20)\n",
    "    )\n",
    ")\n",
    "plt.title('Average Salary by Position');"
   ]
  },
  {
   "cell_type": "code",
   "execution_count": 29,
   "metadata": {
    "ExecuteTime": {
     "end_time": "2021-12-17T21:26:10.685292Z",
     "start_time": "2021-12-17T21:26:10.679825Z"
    }
   },
   "outputs": [
    {
     "data": {
      "text/plain": [
       "MA    0.887460\n",
       "CT    0.019293\n",
       "TX    0.009646\n",
       "VT    0.006431\n",
       "CO    0.003215\n",
       "ME    0.003215\n",
       "VA    0.003215\n",
       "MT    0.003215\n",
       "NC    0.003215\n",
       "NH    0.003215\n",
       "TN    0.003215\n",
       "NY    0.003215\n",
       "GA    0.003215\n",
       "UT    0.003215\n",
       "ND    0.003215\n",
       "IN    0.003215\n",
       "AL    0.003215\n",
       "RI    0.003215\n",
       "PA    0.003215\n",
       "OR    0.003215\n",
       "FL    0.003215\n",
       "AZ    0.003215\n",
       "KY    0.003215\n",
       "ID    0.003215\n",
       "OH    0.003215\n",
       "WA    0.003215\n",
       "NV    0.003215\n",
       "CA    0.003215\n",
       "Name: State, dtype: float64"
      ]
     },
     "execution_count": 29,
     "metadata": {},
     "output_type": "execute_result"
    }
   ],
   "source": [
    "df['State'].value_counts(normalize=True)"
   ]
  },
  {
   "cell_type": "markdown",
   "metadata": {},
   "source": [
    "The vast majority of the employees are from MA and perhaps the rest are remote. First, I will check to make sure that the non-MA addresses are not only associated with people no longer employed by the company who may have moved and had their address updated."
   ]
  },
  {
   "cell_type": "code",
   "execution_count": 30,
   "metadata": {
    "ExecuteTime": {
     "end_time": "2021-12-17T21:26:10.691834Z",
     "start_time": "2021-12-17T21:26:10.687086Z"
    }
   },
   "outputs": [
    {
     "data": {
      "text/plain": [
       "State\n",
       "AL     0\n",
       "AZ     0\n",
       "CA     0\n",
       "CO     0\n",
       "CT     1\n",
       "FL     0\n",
       "GA     0\n",
       "ID     0\n",
       "IN     0\n",
       "KY     0\n",
       "MA    99\n",
       "ME     0\n",
       "MT     0\n",
       "NC     0\n",
       "ND     0\n",
       "NH     0\n",
       "NV     0\n",
       "NY     0\n",
       "OH     1\n",
       "OR     0\n",
       "PA     1\n",
       "RI     0\n",
       "TN     1\n",
       "TX     0\n",
       "UT     0\n",
       "VA     1\n",
       "VT     0\n",
       "WA     0\n",
       "Name: Termd, dtype: int64"
      ]
     },
     "execution_count": 30,
     "metadata": {},
     "output_type": "execute_result"
    }
   ],
   "source": [
    "df.groupby('State')['Termd'].sum()"
   ]
  },
  {
   "cell_type": "markdown",
   "metadata": {},
   "source": [
    "It does not appear that there is a correlation between employees having an out of state address and no longer working for the company. Since the majority of employees are in MA (and there does not seem to be a reason to keep the granularity of the individual states), I am going to create a binary column to indicate if the employee is in MA."
   ]
  },
  {
   "cell_type": "code",
   "execution_count": 31,
   "metadata": {
    "ExecuteTime": {
     "end_time": "2021-12-17T21:26:10.696358Z",
     "start_time": "2021-12-17T21:26:10.693144Z"
    }
   },
   "outputs": [],
   "source": [
    "df['in_MA'] = np.where(df['State'] == 'MA', 1, 0)"
   ]
  },
  {
   "cell_type": "code",
   "execution_count": 32,
   "metadata": {
    "ExecuteTime": {
     "end_time": "2021-12-17T21:26:10.703837Z",
     "start_time": "2021-12-17T21:26:10.698188Z"
    }
   },
   "outputs": [
    {
     "data": {
      "text/plain": [
       "1886     0.041801\n",
       "2176     0.022508\n",
       "1810     0.022508\n",
       "2451     0.022508\n",
       "2045     0.022508\n",
       "           ...   \n",
       "1864     0.003215\n",
       "1876     0.003215\n",
       "1880     0.003215\n",
       "21851    0.003215\n",
       "1773     0.003215\n",
       "Name: Zip, Length: 158, dtype: float64"
      ]
     },
     "execution_count": 32,
     "metadata": {},
     "output_type": "execute_result"
    }
   ],
   "source": [
    "df['Zip'].value_counts(normalize=True)"
   ]
  },
  {
   "cell_type": "markdown",
   "metadata": {},
   "source": [
    "The values seem to mainly be 4-digit numbers. "
   ]
  },
  {
   "cell_type": "code",
   "execution_count": 33,
   "metadata": {
    "ExecuteTime": {
     "end_time": "2021-12-17T21:26:10.708948Z",
     "start_time": "2021-12-17T21:26:10.705445Z"
    }
   },
   "outputs": [
    {
     "data": {
      "text/plain": [
       "24"
      ]
     },
     "execution_count": 33,
     "metadata": {},
     "output_type": "execute_result"
    }
   ],
   "source": [
    "#Check how many values are 5-digits\n",
    "len([n for n in df['Zip'] if len(str(n)) == 5])"
   ]
  },
  {
   "cell_type": "markdown",
   "metadata": {},
   "source": [
    "Upon research, zip codes in MA have a leading 0, which has been truncated in the current integer format. I will leave this column as-is for now, since it will not be used for modeling and can be transformed later for visualization if needed. "
   ]
  },
  {
   "cell_type": "code",
   "execution_count": 34,
   "metadata": {
    "ExecuteTime": {
     "end_time": "2021-12-17T21:26:10.733676Z",
     "start_time": "2021-12-17T21:26:10.710821Z"
    }
   },
   "outputs": [],
   "source": [
    "#convert DOB to datetime\n",
    "df['DOB'] = pd.to_datetime(df['DOB'])"
   ]
  },
  {
   "cell_type": "code",
   "execution_count": 35,
   "metadata": {
    "ExecuteTime": {
     "end_time": "2021-12-17T21:26:10.738404Z",
     "start_time": "2021-12-17T21:26:10.734958Z"
    }
   },
   "outputs": [
    {
     "data": {
      "text/plain": [
       "(Timestamp('1971-07-10 00:00:00'), Timestamp('2070-12-22 00:00:00'))"
      ]
     },
     "execution_count": 35,
     "metadata": {},
     "output_type": "execute_result"
    }
   ],
   "source": [
    "#The oldest person was born in 1971 and there is at least one person coded as \n",
    "#being born in the future\n",
    "df['DOB'].min(), df['DOB'].max()"
   ]
  },
  {
   "cell_type": "code",
   "execution_count": 36,
   "metadata": {
    "ExecuteTime": {
     "end_time": "2021-12-17T21:26:10.766077Z",
     "start_time": "2021-12-17T21:26:10.739817Z"
    }
   },
   "outputs": [
    {
     "data": {
      "text/html": [
       "<div>\n",
       "<style scoped>\n",
       "    .dataframe tbody tr th:only-of-type {\n",
       "        vertical-align: middle;\n",
       "    }\n",
       "\n",
       "    .dataframe tbody tr th {\n",
       "        vertical-align: top;\n",
       "    }\n",
       "\n",
       "    .dataframe thead th {\n",
       "        text-align: right;\n",
       "    }\n",
       "</style>\n",
       "<table border=\"1\" class=\"dataframe\">\n",
       "  <thead>\n",
       "    <tr style=\"text-align: right;\">\n",
       "      <th></th>\n",
       "      <th>Employee_Name</th>\n",
       "      <th>EmpID</th>\n",
       "      <th>MarriedID</th>\n",
       "      <th>GenderID</th>\n",
       "      <th>FromDiversityJobFairID</th>\n",
       "      <th>Salary</th>\n",
       "      <th>Termd</th>\n",
       "      <th>Position</th>\n",
       "      <th>State</th>\n",
       "      <th>Zip</th>\n",
       "      <th>...</th>\n",
       "      <th>ManagerID</th>\n",
       "      <th>RecruitmentSource</th>\n",
       "      <th>PerformanceScore</th>\n",
       "      <th>EngagementSurvey</th>\n",
       "      <th>EmpSatisfaction</th>\n",
       "      <th>SpecialProjectsCount</th>\n",
       "      <th>LastPerformanceReview_Date</th>\n",
       "      <th>DaysLateLast30</th>\n",
       "      <th>Absences</th>\n",
       "      <th>in_MA</th>\n",
       "    </tr>\n",
       "  </thead>\n",
       "  <tbody>\n",
       "    <tr>\n",
       "      <th>8</th>\n",
       "      <td>Bachiochi, Linda</td>\n",
       "      <td>10114</td>\n",
       "      <td>0</td>\n",
       "      <td>0</td>\n",
       "      <td>1</td>\n",
       "      <td>47837</td>\n",
       "      <td>0</td>\n",
       "      <td>Production Technician I</td>\n",
       "      <td>MA</td>\n",
       "      <td>1902</td>\n",
       "      <td>...</td>\n",
       "      <td>12.0</td>\n",
       "      <td>Diversity Job Fair</td>\n",
       "      <td>Fully Meets</td>\n",
       "      <td>4.46</td>\n",
       "      <td>3</td>\n",
       "      <td>0</td>\n",
       "      <td>1/25/2019</td>\n",
       "      <td>0</td>\n",
       "      <td>4</td>\n",
       "      <td>1</td>\n",
       "    </tr>\n",
       "    <tr>\n",
       "      <th>16</th>\n",
       "      <td>Beak, Kimberly</td>\n",
       "      <td>10023</td>\n",
       "      <td>1</td>\n",
       "      <td>0</td>\n",
       "      <td>0</td>\n",
       "      <td>70131</td>\n",
       "      <td>0</td>\n",
       "      <td>Production Technician II</td>\n",
       "      <td>MA</td>\n",
       "      <td>2145</td>\n",
       "      <td>...</td>\n",
       "      <td>18.0</td>\n",
       "      <td>Employee Referral</td>\n",
       "      <td>Exceeds</td>\n",
       "      <td>4.40</td>\n",
       "      <td>3</td>\n",
       "      <td>0</td>\n",
       "      <td>1/14/2019</td>\n",
       "      <td>0</td>\n",
       "      <td>16</td>\n",
       "      <td>1</td>\n",
       "    </tr>\n",
       "    <tr>\n",
       "      <th>17</th>\n",
       "      <td>Beatrice, Courtney</td>\n",
       "      <td>10055</td>\n",
       "      <td>0</td>\n",
       "      <td>0</td>\n",
       "      <td>0</td>\n",
       "      <td>59026</td>\n",
       "      <td>0</td>\n",
       "      <td>Production Technician I</td>\n",
       "      <td>MA</td>\n",
       "      <td>1915</td>\n",
       "      <td>...</td>\n",
       "      <td>16.0</td>\n",
       "      <td>Google Search</td>\n",
       "      <td>Fully Meets</td>\n",
       "      <td>5.00</td>\n",
       "      <td>5</td>\n",
       "      <td>0</td>\n",
       "      <td>1/14/2019</td>\n",
       "      <td>0</td>\n",
       "      <td>12</td>\n",
       "      <td>1</td>\n",
       "    </tr>\n",
       "    <tr>\n",
       "      <th>20</th>\n",
       "      <td>Bernstein, Sean</td>\n",
       "      <td>10046</td>\n",
       "      <td>0</td>\n",
       "      <td>1</td>\n",
       "      <td>0</td>\n",
       "      <td>51044</td>\n",
       "      <td>0</td>\n",
       "      <td>Production Technician I</td>\n",
       "      <td>MA</td>\n",
       "      <td>2072</td>\n",
       "      <td>...</td>\n",
       "      <td>11.0</td>\n",
       "      <td>Google Search</td>\n",
       "      <td>Fully Meets</td>\n",
       "      <td>5.00</td>\n",
       "      <td>3</td>\n",
       "      <td>0</td>\n",
       "      <td>1/14/2019</td>\n",
       "      <td>0</td>\n",
       "      <td>13</td>\n",
       "      <td>1</td>\n",
       "    </tr>\n",
       "    <tr>\n",
       "      <th>21</th>\n",
       "      <td>Biden, Lowan  M</td>\n",
       "      <td>10226</td>\n",
       "      <td>0</td>\n",
       "      <td>0</td>\n",
       "      <td>0</td>\n",
       "      <td>64919</td>\n",
       "      <td>0</td>\n",
       "      <td>Production Technician I</td>\n",
       "      <td>MA</td>\n",
       "      <td>2027</td>\n",
       "      <td>...</td>\n",
       "      <td>19.0</td>\n",
       "      <td>Indeed</td>\n",
       "      <td>Fully Meets</td>\n",
       "      <td>4.20</td>\n",
       "      <td>3</td>\n",
       "      <td>0</td>\n",
       "      <td>1/10/2019</td>\n",
       "      <td>0</td>\n",
       "      <td>2</td>\n",
       "      <td>1</td>\n",
       "    </tr>\n",
       "    <tr>\n",
       "      <th>...</th>\n",
       "      <td>...</td>\n",
       "      <td>...</td>\n",
       "      <td>...</td>\n",
       "      <td>...</td>\n",
       "      <td>...</td>\n",
       "      <td>...</td>\n",
       "      <td>...</td>\n",
       "      <td>...</td>\n",
       "      <td>...</td>\n",
       "      <td>...</td>\n",
       "      <td>...</td>\n",
       "      <td>...</td>\n",
       "      <td>...</td>\n",
       "      <td>...</td>\n",
       "      <td>...</td>\n",
       "      <td>...</td>\n",
       "      <td>...</td>\n",
       "      <td>...</td>\n",
       "      <td>...</td>\n",
       "      <td>...</td>\n",
       "      <td>...</td>\n",
       "    </tr>\n",
       "    <tr>\n",
       "      <th>290</th>\n",
       "      <td>Vega, Vincent</td>\n",
       "      <td>10144</td>\n",
       "      <td>0</td>\n",
       "      <td>1</td>\n",
       "      <td>0</td>\n",
       "      <td>88976</td>\n",
       "      <td>0</td>\n",
       "      <td>Production Manager</td>\n",
       "      <td>MA</td>\n",
       "      <td>2169</td>\n",
       "      <td>...</td>\n",
       "      <td>2.0</td>\n",
       "      <td>Employee Referral</td>\n",
       "      <td>Fully Meets</td>\n",
       "      <td>3.93</td>\n",
       "      <td>3</td>\n",
       "      <td>0</td>\n",
       "      <td>2/27/2019</td>\n",
       "      <td>0</td>\n",
       "      <td>19</td>\n",
       "      <td>1</td>\n",
       "    </tr>\n",
       "    <tr>\n",
       "      <th>296</th>\n",
       "      <td>Wallace, Courtney  E</td>\n",
       "      <td>10274</td>\n",
       "      <td>1</td>\n",
       "      <td>0</td>\n",
       "      <td>1</td>\n",
       "      <td>80512</td>\n",
       "      <td>1</td>\n",
       "      <td>Production Manager</td>\n",
       "      <td>MA</td>\n",
       "      <td>2478</td>\n",
       "      <td>...</td>\n",
       "      <td>2.0</td>\n",
       "      <td>Diversity Job Fair</td>\n",
       "      <td>Fully Meets</td>\n",
       "      <td>4.50</td>\n",
       "      <td>3</td>\n",
       "      <td>0</td>\n",
       "      <td>1/2/2012</td>\n",
       "      <td>0</td>\n",
       "      <td>5</td>\n",
       "      <td>1</td>\n",
       "    </tr>\n",
       "    <tr>\n",
       "      <th>301</th>\n",
       "      <td>Wilber, Barry</td>\n",
       "      <td>10048</td>\n",
       "      <td>1</td>\n",
       "      <td>1</td>\n",
       "      <td>0</td>\n",
       "      <td>55140</td>\n",
       "      <td>1</td>\n",
       "      <td>Production Technician I</td>\n",
       "      <td>MA</td>\n",
       "      <td>2324</td>\n",
       "      <td>...</td>\n",
       "      <td>11.0</td>\n",
       "      <td>Website</td>\n",
       "      <td>Fully Meets</td>\n",
       "      <td>5.00</td>\n",
       "      <td>3</td>\n",
       "      <td>0</td>\n",
       "      <td>2/15/2015</td>\n",
       "      <td>0</td>\n",
       "      <td>7</td>\n",
       "      <td>1</td>\n",
       "    </tr>\n",
       "    <tr>\n",
       "      <th>303</th>\n",
       "      <td>Williams, Jacquelyn</td>\n",
       "      <td>10264</td>\n",
       "      <td>0</td>\n",
       "      <td>0</td>\n",
       "      <td>1</td>\n",
       "      <td>59728</td>\n",
       "      <td>1</td>\n",
       "      <td>Production Technician I</td>\n",
       "      <td>MA</td>\n",
       "      <td>2109</td>\n",
       "      <td>...</td>\n",
       "      <td>19.0</td>\n",
       "      <td>Diversity Job Fair</td>\n",
       "      <td>Fully Meets</td>\n",
       "      <td>4.30</td>\n",
       "      <td>4</td>\n",
       "      <td>0</td>\n",
       "      <td>6/2/2014</td>\n",
       "      <td>0</td>\n",
       "      <td>16</td>\n",
       "      <td>1</td>\n",
       "    </tr>\n",
       "    <tr>\n",
       "      <th>304</th>\n",
       "      <td>Winthrop, Jordan</td>\n",
       "      <td>10033</td>\n",
       "      <td>0</td>\n",
       "      <td>1</td>\n",
       "      <td>0</td>\n",
       "      <td>70507</td>\n",
       "      <td>1</td>\n",
       "      <td>Production Technician II</td>\n",
       "      <td>MA</td>\n",
       "      <td>2045</td>\n",
       "      <td>...</td>\n",
       "      <td>12.0</td>\n",
       "      <td>LinkedIn</td>\n",
       "      <td>Exceeds</td>\n",
       "      <td>5.00</td>\n",
       "      <td>3</td>\n",
       "      <td>0</td>\n",
       "      <td>1/19/2016</td>\n",
       "      <td>0</td>\n",
       "      <td>7</td>\n",
       "      <td>1</td>\n",
       "    </tr>\n",
       "  </tbody>\n",
       "</table>\n",
       "<p>61 rows × 32 columns</p>\n",
       "</div>"
      ],
      "text/plain": [
       "             Employee_Name  EmpID  MarriedID  GenderID  \\\n",
       "8         Bachiochi, Linda  10114          0         0   \n",
       "16        Beak, Kimberly    10023          1         0   \n",
       "17     Beatrice, Courtney   10055          0         0   \n",
       "20         Bernstein, Sean  10046          0         1   \n",
       "21         Biden, Lowan  M  10226          0         0   \n",
       "..                     ...    ...        ...       ...   \n",
       "290          Vega, Vincent  10144          0         1   \n",
       "296   Wallace, Courtney  E  10274          1         0   \n",
       "301          Wilber, Barry  10048          1         1   \n",
       "303  Williams, Jacquelyn    10264          0         0   \n",
       "304     Winthrop, Jordan    10033          0         1   \n",
       "\n",
       "     FromDiversityJobFairID  Salary  Termd                  Position State  \\\n",
       "8                         1   47837      0   Production Technician I    MA   \n",
       "16                        0   70131      0  Production Technician II    MA   \n",
       "17                        0   59026      0   Production Technician I    MA   \n",
       "20                        0   51044      0   Production Technician I    MA   \n",
       "21                        0   64919      0   Production Technician I    MA   \n",
       "..                      ...     ...    ...                       ...   ...   \n",
       "290                       0   88976      0        Production Manager    MA   \n",
       "296                       1   80512      1        Production Manager    MA   \n",
       "301                       0   55140      1   Production Technician I    MA   \n",
       "303                       1   59728      1   Production Technician I    MA   \n",
       "304                       0   70507      1  Production Technician II    MA   \n",
       "\n",
       "      Zip  ... ManagerID   RecruitmentSource PerformanceScore  \\\n",
       "8    1902  ...      12.0  Diversity Job Fair      Fully Meets   \n",
       "16   2145  ...      18.0   Employee Referral          Exceeds   \n",
       "17   1915  ...      16.0       Google Search      Fully Meets   \n",
       "20   2072  ...      11.0       Google Search      Fully Meets   \n",
       "21   2027  ...      19.0              Indeed      Fully Meets   \n",
       "..    ...  ...       ...                 ...              ...   \n",
       "290  2169  ...       2.0   Employee Referral      Fully Meets   \n",
       "296  2478  ...       2.0  Diversity Job Fair      Fully Meets   \n",
       "301  2324  ...      11.0             Website      Fully Meets   \n",
       "303  2109  ...      19.0  Diversity Job Fair      Fully Meets   \n",
       "304  2045  ...      12.0            LinkedIn          Exceeds   \n",
       "\n",
       "    EngagementSurvey EmpSatisfaction SpecialProjectsCount  \\\n",
       "8               4.46               3                    0   \n",
       "16              4.40               3                    0   \n",
       "17              5.00               5                    0   \n",
       "20              5.00               3                    0   \n",
       "21              4.20               3                    0   \n",
       "..               ...             ...                  ...   \n",
       "290             3.93               3                    0   \n",
       "296             4.50               3                    0   \n",
       "301             5.00               3                    0   \n",
       "303             4.30               4                    0   \n",
       "304             5.00               3                    0   \n",
       "\n",
       "    LastPerformanceReview_Date DaysLateLast30 Absences in_MA  \n",
       "8                    1/25/2019              0        4     1  \n",
       "16                   1/14/2019              0       16     1  \n",
       "17                   1/14/2019              0       12     1  \n",
       "20                   1/14/2019              0       13     1  \n",
       "21                   1/10/2019              0        2     1  \n",
       "..                         ...            ...      ...   ...  \n",
       "290                  2/27/2019              0       19     1  \n",
       "296                   1/2/2012              0        5     1  \n",
       "301                  2/15/2015              0        7     1  \n",
       "303                   6/2/2014              0       16     1  \n",
       "304                  1/19/2016              0        7     1  \n",
       "\n",
       "[61 rows x 32 columns]"
      ]
     },
     "execution_count": 36,
     "metadata": {},
     "output_type": "execute_result"
    }
   ],
   "source": [
    "#Since this data was updated in 2021, the maximum reasonable birth year is\n",
    "# 2007, so I will look at the records after that date\n",
    "df[df['DOB'] > '2007-01-01']"
   ]
  },
  {
   "cell_type": "markdown",
   "metadata": {},
   "source": [
    "There is nothing else in the data to suggest that these are demo accounts or otherwise accounts to ignore. This suggests that these may be a result of a data entry error when the data were updated. "
   ]
  },
  {
   "cell_type": "code",
   "execution_count": 37,
   "metadata": {
    "ExecuteTime": {
     "end_time": "2021-12-17T21:26:10.772727Z",
     "start_time": "2021-12-17T21:26:10.767501Z"
    }
   },
   "outputs": [
    {
     "data": {
      "text/plain": [
       "41    2051-01-02\n",
       "68    2051-02-25\n",
       "61    2052-01-18\n",
       "206   2052-02-11\n",
       "124   2052-08-18\n",
       "         ...    \n",
       "76    2070-07-09\n",
       "226   2070-09-22\n",
       "152   2070-10-08\n",
       "17    2070-10-27\n",
       "20    2070-12-22\n",
       "Name: DOB, Length: 61, dtype: datetime64[ns]"
      ]
     },
     "execution_count": 37,
     "metadata": {},
     "output_type": "execute_result"
    }
   ],
   "source": [
    "df[df['DOB'] > '2007-01-01']['DOB'].sort_values()"
   ]
  },
  {
   "cell_type": "code",
   "execution_count": 38,
   "metadata": {
    "ExecuteTime": {
     "end_time": "2021-12-17T21:26:10.779219Z",
     "start_time": "2021-12-17T21:26:10.774031Z"
    }
   },
   "outputs": [
    {
     "data": {
      "text/plain": [
       "104   1971-07-10\n",
       "108   1971-10-23\n",
       "42    1972-02-09\n",
       "157   1972-07-01\n",
       "234   1972-07-03\n",
       "         ...    \n",
       "288   1991-05-23\n",
       "80    1991-09-05\n",
       "135   1992-05-07\n",
       "110   1992-06-18\n",
       "189   1992-08-17\n",
       "Name: DOB, Length: 250, dtype: datetime64[ns]"
      ]
     },
     "execution_count": 38,
     "metadata": {},
     "output_type": "execute_result"
    }
   ],
   "source": [
    "df[df['DOB'] < '2007-01-01']['DOB'].sort_values()"
   ]
  },
  {
   "cell_type": "markdown",
   "metadata": {},
   "source": [
    "It indeed appears that '19' was keyed in as '20' for employees born prior to 1971. As an extra check, I will examine the hire dates for the employees with the impossible birth dates. "
   ]
  },
  {
   "cell_type": "code",
   "execution_count": 39,
   "metadata": {
    "ExecuteTime": {
     "end_time": "2021-12-17T21:26:10.785664Z",
     "start_time": "2021-12-17T21:26:10.780630Z"
    }
   },
   "outputs": [
    {
     "data": {
      "text/plain": [
       "24     1/10/2011\n",
       "76      1/5/2014\n",
       "254     1/5/2015\n",
       "225     1/6/2014\n",
       "142     1/6/2014\n",
       "         ...    \n",
       "278    9/29/2014\n",
       "41     9/29/2014\n",
       "27     9/30/2013\n",
       "140    9/30/2013\n",
       "98      9/6/2011\n",
       "Name: DateofHire, Length: 61, dtype: object"
      ]
     },
     "execution_count": 39,
     "metadata": {},
     "output_type": "execute_result"
    }
   ],
   "source": [
    "df[df['DOB'] > '2007-01-01']['DateofHire'].sort_values()"
   ]
  },
  {
   "cell_type": "markdown",
   "metadata": {},
   "source": [
    "Based on the evidence I have, I will amend the birthdates to reflect that they were born prior to 1971."
   ]
  },
  {
   "cell_type": "code",
   "execution_count": 40,
   "metadata": {
    "ExecuteTime": {
     "end_time": "2021-12-17T21:26:10.792121Z",
     "start_time": "2021-12-17T21:26:10.787368Z"
    }
   },
   "outputs": [],
   "source": [
    "def fix_dob(date):\n",
    "    \"Subtract 100 from the years after 2000 to correct the errors.\"\n",
    "    new_year = date.year\n",
    "    if new_year > 2000:\n",
    "        new_year = new_year - 100\n",
    "    return date.replace(year=new_year)\n",
    "        \n",
    "\n",
    "df['DOB'] = df['DOB'].apply(fix_dob)"
   ]
  },
  {
   "cell_type": "code",
   "execution_count": 41,
   "metadata": {
    "ExecuteTime": {
     "end_time": "2021-12-17T21:26:10.810646Z",
     "start_time": "2021-12-17T21:26:10.793451Z"
    }
   },
   "outputs": [],
   "source": [
    "#Add a current age column\n",
    "df['current_age'] = df['DOB'].apply(\n",
    "    lambda x: relativedelta(datetime.today(), \n",
    "                            x\n",
    "                           ).years\n",
    ")"
   ]
  },
  {
   "cell_type": "code",
   "execution_count": 42,
   "metadata": {
    "ExecuteTime": {
     "end_time": "2021-12-17T21:26:10.921116Z",
     "start_time": "2021-12-17T21:26:10.813034Z"
    },
    "scrolled": true
   },
   "outputs": [
    {
     "data": {
      "image/png": "[encoded data removed]",
      "text/plain": [
       "<Figure size 432x288 with 1 Axes>"
      ]
     },
     "metadata": {
      "needs_background": "light"
     },
     "output_type": "display_data"
    }
   ],
   "source": [
    "df['current_age'].hist()\n",
    "plt.title('Current Employee Age Distribution');"
   ]
  },
  {
   "cell_type": "code",
   "execution_count": 43,
   "metadata": {
    "ExecuteTime": {
     "end_time": "2021-12-17T21:26:10.928994Z",
     "start_time": "2021-12-17T21:26:10.923014Z"
    }
   },
   "outputs": [
    {
     "data": {
      "text/plain": [
       "count    311.000000\n",
       "mean      42.389068\n",
       "std        8.863467\n",
       "min       29.000000\n",
       "25%       35.000000\n",
       "50%       41.000000\n",
       "75%       48.000000\n",
       "max       70.000000\n",
       "Name: current_age, dtype: float64"
      ]
     },
     "execution_count": 43,
     "metadata": {},
     "output_type": "execute_result"
    }
   ],
   "source": [
    "df['current_age'].describe()"
   ]
  },
  {
   "cell_type": "markdown",
   "metadata": {},
   "source": [
    "The age distribution is bimodal, with the vast majority of employees having a current age between 35 and 45 and a smaller peak between 65 and 70."
   ]
  },
  {
   "cell_type": "code",
   "execution_count": 44,
   "metadata": {
    "ExecuteTime": {
     "end_time": "2021-12-17T21:26:11.079980Z",
     "start_time": "2021-12-17T21:26:10.930492Z"
    }
   },
   "outputs": [
    {
     "data": {
      "image/png": "[encoded data removed]",
      "text/plain": [
       "<Figure size 432x288 with 1 Axes>"
      ]
     },
     "metadata": {
      "needs_background": "light"
     },
     "output_type": "display_data"
    }
   ],
   "source": [
    "sns.scatterplot(data=df, x='current_age', y='Salary', hue='Termd')\n",
    "plt.title('Current Age vs Salary');"
   ]
  },
  {
   "cell_type": "markdown",
   "metadata": {},
   "source": [
    "At first glance, there is no clear correlation between current age, salary and employment status."
   ]
  },
  {
   "cell_type": "code",
   "execution_count": 45,
   "metadata": {
    "ExecuteTime": {
     "end_time": "2021-12-17T21:26:11.086639Z",
     "start_time": "2021-12-17T21:26:11.081937Z"
    }
   },
   "outputs": [
    {
     "data": {
      "text/plain": [
       "US Citizen             295\n",
       "Eligible NonCitizen     12\n",
       "Non-Citizen              4\n",
       "Name: CitizenDesc, dtype: int64"
      ]
     },
     "execution_count": 45,
     "metadata": {},
     "output_type": "execute_result"
    }
   ],
   "source": [
    "df['CitizenDesc'].value_counts()"
   ]
  },
  {
   "cell_type": "markdown",
   "metadata": {},
   "source": [
    "Because there are so few non-citizens, I am going to change this to a binary column with 1 (citizen) and 0 (non-citizen)."
   ]
  },
  {
   "cell_type": "code",
   "execution_count": 46,
   "metadata": {
    "ExecuteTime": {
     "end_time": "2021-12-17T21:26:11.092972Z",
     "start_time": "2021-12-17T21:26:11.088610Z"
    }
   },
   "outputs": [],
   "source": [
    "df['citizen'] = np.where(df['CitizenDesc'] == 'US Citizen', 1, 0)\n",
    "df.drop('CitizenDesc', axis=1, inplace=True)"
   ]
  },
  {
   "cell_type": "code",
   "execution_count": 47,
   "metadata": {
    "ExecuteTime": {
     "end_time": "2021-12-17T21:26:11.098507Z",
     "start_time": "2021-12-17T21:26:11.094283Z"
    },
    "scrolled": true
   },
   "outputs": [
    {
     "data": {
      "text/plain": [
       "No     282\n",
       "Yes     27\n",
       "no       1\n",
       "yes      1\n",
       "Name: HispanicLatino, dtype: int64"
      ]
     },
     "execution_count": 47,
     "metadata": {},
     "output_type": "execute_result"
    }
   ],
   "source": [
    "#Coded with two different capitalizations\n",
    "df['HispanicLatino'].value_counts()"
   ]
  },
  {
   "cell_type": "code",
   "execution_count": 48,
   "metadata": {
    "ExecuteTime": {
     "end_time": "2021-12-17T21:26:11.103010Z",
     "start_time": "2021-12-17T21:26:11.099793Z"
    }
   },
   "outputs": [],
   "source": [
    "#Replace with binary\n",
    "df['HispanicLatino'] = np.where(df['HispanicLatino'].str.lower() == 'yes', 1, 0)"
   ]
  },
  {
   "cell_type": "code",
   "execution_count": 49,
   "metadata": {
    "ExecuteTime": {
     "end_time": "2021-12-17T21:26:11.108570Z",
     "start_time": "2021-12-17T21:26:11.104285Z"
    }
   },
   "outputs": [
    {
     "data": {
      "text/plain": [
       "White                               0.601286\n",
       "Black or African American           0.257235\n",
       "Asian                               0.093248\n",
       "Two or more races                   0.035370\n",
       "American Indian or Alaska Native    0.009646\n",
       "Hispanic                            0.003215\n",
       "Name: RaceDesc, dtype: float64"
      ]
     },
     "execution_count": 49,
     "metadata": {},
     "output_type": "execute_result"
    }
   ],
   "source": [
    "df['RaceDesc'].value_counts(normalize=True)"
   ]
  },
  {
   "cell_type": "code",
   "execution_count": 50,
   "metadata": {
    "ExecuteTime": {
     "end_time": "2021-12-17T21:26:11.124222Z",
     "start_time": "2021-12-17T21:26:11.109866Z"
    }
   },
   "outputs": [
    {
     "data": {
      "text/html": [
       "<div>\n",
       "<style scoped>\n",
       "    .dataframe tbody tr th:only-of-type {\n",
       "        vertical-align: middle;\n",
       "    }\n",
       "\n",
       "    .dataframe tbody tr th {\n",
       "        vertical-align: top;\n",
       "    }\n",
       "\n",
       "    .dataframe thead th {\n",
       "        text-align: right;\n",
       "    }\n",
       "</style>\n",
       "<table border=\"1\" class=\"dataframe\">\n",
       "  <thead>\n",
       "    <tr style=\"text-align: right;\">\n",
       "      <th>FromDiversityJobFairID</th>\n",
       "      <th>0</th>\n",
       "      <th>1</th>\n",
       "    </tr>\n",
       "    <tr>\n",
       "      <th>RaceDesc</th>\n",
       "      <th></th>\n",
       "      <th></th>\n",
       "    </tr>\n",
       "  </thead>\n",
       "  <tbody>\n",
       "    <tr>\n",
       "      <th>American Indian or Alaska Native</th>\n",
       "      <td>3</td>\n",
       "      <td>0</td>\n",
       "    </tr>\n",
       "    <tr>\n",
       "      <th>Asian</th>\n",
       "      <td>29</td>\n",
       "      <td>0</td>\n",
       "    </tr>\n",
       "    <tr>\n",
       "      <th>Black or African American</th>\n",
       "      <td>51</td>\n",
       "      <td>29</td>\n",
       "    </tr>\n",
       "    <tr>\n",
       "      <th>Hispanic</th>\n",
       "      <td>1</td>\n",
       "      <td>0</td>\n",
       "    </tr>\n",
       "    <tr>\n",
       "      <th>Two or more races</th>\n",
       "      <td>11</td>\n",
       "      <td>0</td>\n",
       "    </tr>\n",
       "    <tr>\n",
       "      <th>White</th>\n",
       "      <td>187</td>\n",
       "      <td>0</td>\n",
       "    </tr>\n",
       "  </tbody>\n",
       "</table>\n",
       "</div>"
      ],
      "text/plain": [
       "FromDiversityJobFairID              0   1\n",
       "RaceDesc                                 \n",
       "American Indian or Alaska Native    3   0\n",
       "Asian                              29   0\n",
       "Black or African American          51  29\n",
       "Hispanic                            1   0\n",
       "Two or more races                  11   0\n",
       "White                             187   0"
      ]
     },
     "execution_count": 50,
     "metadata": {},
     "output_type": "execute_result"
    }
   ],
   "source": [
    "#All of the hires from the diversity job fair identify as Black or\n",
    "#African American\n",
    "pd.crosstab(df['RaceDesc'], df['FromDiversityJobFairID'])"
   ]
  },
  {
   "cell_type": "code",
   "execution_count": 51,
   "metadata": {
    "ExecuteTime": {
     "end_time": "2021-12-17T21:26:11.144439Z",
     "start_time": "2021-12-17T21:26:11.125511Z"
    }
   },
   "outputs": [],
   "source": [
    "df['DateofHire'] = pd.to_datetime(df['DateofHire'])"
   ]
  },
  {
   "cell_type": "code",
   "execution_count": 52,
   "metadata": {
    "ExecuteTime": {
     "end_time": "2021-12-17T21:26:11.150896Z",
     "start_time": "2021-12-17T21:26:11.146497Z"
    }
   },
   "outputs": [],
   "source": [
    "df['age_hired'] = df['DateofHire'] - df['DOB']\n",
    "df['age_hired'] =df['age_hired']//np.timedelta64(1,'Y')"
   ]
  },
  {
   "cell_type": "code",
   "execution_count": 53,
   "metadata": {
    "ExecuteTime": {
     "end_time": "2021-12-17T21:26:11.266336Z",
     "start_time": "2021-12-17T21:26:11.152558Z"
    }
   },
   "outputs": [
    {
     "data": {
      "image/png": "[encoded data removed]",
      "text/plain": [
       "<Figure size 432x288 with 1 Axes>"
      ]
     },
     "metadata": {
      "needs_background": "light"
     },
     "output_type": "display_data"
    }
   ],
   "source": [
    "#The shape of this distribution is similar to current age\n",
    "df['age_hired'].hist()\n",
    "plt.title('Distribution of Age Hired');"
   ]
  },
  {
   "cell_type": "code",
   "execution_count": 54,
   "metadata": {
    "ExecuteTime": {
     "end_time": "2021-12-17T21:26:11.276349Z",
     "start_time": "2021-12-17T21:26:11.268126Z"
    }
   },
   "outputs": [],
   "source": [
    "df['DateofTermination'] = pd.to_datetime(\n",
    "    df['DateofTermination'], \n",
    "    errors='coerce'\n",
    ")"
   ]
  },
  {
   "cell_type": "code",
   "execution_count": 55,
   "metadata": {
    "ExecuteTime": {
     "end_time": "2021-12-17T21:26:11.282054Z",
     "start_time": "2021-12-17T21:26:11.278086Z"
    }
   },
   "outputs": [],
   "source": [
    "df['employment_months'] = df['DateofTermination'] - df['DateofHire']\n",
    "df['employment_months'] = df['employment_months']//np.timedelta64(1,'M')"
   ]
  },
  {
   "cell_type": "code",
   "execution_count": 56,
   "metadata": {
    "ExecuteTime": {
     "end_time": "2021-12-17T21:26:11.394234Z",
     "start_time": "2021-12-17T21:26:11.283321Z"
    },
    "scrolled": true
   },
   "outputs": [
    {
     "data": {
      "image/png": "[encoded data removed]",
      "text/plain": [
       "<Figure size 432x288 with 1 Axes>"
      ]
     },
     "metadata": {
      "needs_background": "light"
     },
     "output_type": "display_data"
    }
   ],
   "source": [
    "df['employment_months'].hist()\n",
    "plt.title('Distrubution of Months Employed for Terminated Employees');"
   ]
  },
  {
   "cell_type": "code",
   "execution_count": 90,
   "metadata": {
    "ExecuteTime": {
     "end_time": "2021-12-17T21:34:23.618240Z",
     "start_time": "2021-12-17T21:34:23.501657Z"
    }
   },
   "outputs": [
    {
     "data": {
      "image/png": "[encoded data removed]",
      "text/plain": [
       "<Figure size 432x288 with 1 Axes>"
      ]
     },
     "metadata": {
      "needs_background": "light"
     },
     "output_type": "display_data"
    }
   ],
   "source": [
    "df['age_at_termination'] = df['DateofTermination'] - df['DOB']\n",
    "df['age_at_termination'] = df['age_at_termination']//np.timedelta64(1,'Y')\n",
    "df['age_at_termination'].hist()\n",
    "plt.title('Age at Termination');"
   ]
  },
  {
   "cell_type": "code",
   "execution_count": 57,
   "metadata": {
    "ExecuteTime": {
     "end_time": "2021-12-17T21:26:11.400583Z",
     "start_time": "2021-12-17T21:26:11.395911Z"
    },
    "scrolled": true
   },
   "outputs": [
    {
     "data": {
      "text/plain": [
       "N/A-StillEmployed                   207\n",
       "Another position                     20\n",
       "unhappy                              14\n",
       "more money                           11\n",
       "career change                         9\n",
       "hours                                 8\n",
       "attendance                            7\n",
       "relocation out of area                5\n",
       "return to school                      5\n",
       "military                              4\n",
       "no-call, no-show                      4\n",
       "retiring                              4\n",
       "performance                           4\n",
       "maternity leave - did not return      3\n",
       "medical issues                        3\n",
       "gross misconduct                      1\n",
       "Fatal attraction                      1\n",
       "Learned that he is a gangster         1\n",
       "Name: TermReason, dtype: int64"
      ]
     },
     "execution_count": 57,
     "metadata": {},
     "output_type": "execute_result"
    }
   ],
   "source": [
    "df['TermReason'].value_counts()"
   ]
  },
  {
   "cell_type": "code",
   "execution_count": 100,
   "metadata": {
    "ExecuteTime": {
     "end_time": "2021-12-17T21:44:07.520632Z",
     "start_time": "2021-12-17T21:44:07.515406Z"
    }
   },
   "outputs": [
    {
     "data": {
      "text/plain": [
       "Active                    0.665595\n",
       "Voluntarily Terminated    0.282958\n",
       "Terminated for Cause      0.051447\n",
       "Name: EmploymentStatus, dtype: float64"
      ]
     },
     "execution_count": 100,
     "metadata": {},
     "output_type": "execute_result"
    }
   ],
   "source": [
    "df['EmploymentStatus'].value_counts(normalize=True)"
   ]
  },
  {
   "cell_type": "code",
   "execution_count": 58,
   "metadata": {
    "ExecuteTime": {
     "end_time": "2021-12-17T21:26:11.405890Z",
     "start_time": "2021-12-17T21:26:11.402014Z"
    }
   },
   "outputs": [
    {
     "data": {
      "text/plain": [
       "Production              209\n",
       "IT/IS                    50\n",
       "Sales                    31\n",
       "Software Engineering     11\n",
       "Admin Offices             9\n",
       "Executive Office          1\n",
       "Name: Department, dtype: int64"
      ]
     },
     "execution_count": 58,
     "metadata": {},
     "output_type": "execute_result"
    }
   ],
   "source": [
    "df['Department'].value_counts()"
   ]
  },
  {
   "cell_type": "code",
   "execution_count": 59,
   "metadata": {
    "ExecuteTime": {
     "end_time": "2021-12-17T21:26:11.413635Z",
     "start_time": "2021-12-17T21:26:11.407207Z"
    }
   },
   "outputs": [],
   "source": [
    "by_department = df.groupby('Department').agg(\n",
    "    {\n",
    "        'EmpID': 'count', \n",
    "        'current_age':'mean',\n",
    "        'Salary':'mean',\n",
    "        'Termd': 'sum'\n",
    "    }\n",
    ")\n",
    "by_department.columns = ['count', 'mean_age', 'mean_salary', 'num_terminated']\n",
    "by_department['percent_terminated'] = round(by_department['num_terminated']/by_department['count']*100,2)"
   ]
  },
  {
   "cell_type": "code",
   "execution_count": 60,
   "metadata": {
    "ExecuteTime": {
     "end_time": "2021-12-17T21:26:11.423259Z",
     "start_time": "2021-12-17T21:26:11.415909Z"
    }
   },
   "outputs": [
    {
     "data": {
      "text/html": [
       "<div>\n",
       "<style scoped>\n",
       "    .dataframe tbody tr th:only-of-type {\n",
       "        vertical-align: middle;\n",
       "    }\n",
       "\n",
       "    .dataframe tbody tr th {\n",
       "        vertical-align: top;\n",
       "    }\n",
       "\n",
       "    .dataframe thead th {\n",
       "        text-align: right;\n",
       "    }\n",
       "</style>\n",
       "<table border=\"1\" class=\"dataframe\">\n",
       "  <thead>\n",
       "    <tr style=\"text-align: right;\">\n",
       "      <th></th>\n",
       "      <th>count</th>\n",
       "      <th>mean_age</th>\n",
       "      <th>mean_salary</th>\n",
       "      <th>num_terminated</th>\n",
       "      <th>percent_terminated</th>\n",
       "    </tr>\n",
       "    <tr>\n",
       "      <th>Department</th>\n",
       "      <th></th>\n",
       "      <th></th>\n",
       "      <th></th>\n",
       "      <th></th>\n",
       "      <th></th>\n",
       "    </tr>\n",
       "  </thead>\n",
       "  <tbody>\n",
       "    <tr>\n",
       "      <th>Admin Offices</th>\n",
       "      <td>9</td>\n",
       "      <td>35.777778</td>\n",
       "      <td>71791.888889</td>\n",
       "      <td>2</td>\n",
       "      <td>22.22</td>\n",
       "    </tr>\n",
       "    <tr>\n",
       "      <th>Executive Office</th>\n",
       "      <td>1</td>\n",
       "      <td>67.000000</td>\n",
       "      <td>250000.000000</td>\n",
       "      <td>0</td>\n",
       "      <td>0.00</td>\n",
       "    </tr>\n",
       "    <tr>\n",
       "      <th>IT/IS</th>\n",
       "      <td>50</td>\n",
       "      <td>41.580000</td>\n",
       "      <td>97064.640000</td>\n",
       "      <td>10</td>\n",
       "      <td>20.00</td>\n",
       "    </tr>\n",
       "    <tr>\n",
       "      <th>Production</th>\n",
       "      <td>209</td>\n",
       "      <td>42.889952</td>\n",
       "      <td>59953.545455</td>\n",
       "      <td>83</td>\n",
       "      <td>39.71</td>\n",
       "    </tr>\n",
       "    <tr>\n",
       "      <th>Sales</th>\n",
       "      <td>31</td>\n",
       "      <td>42.580645</td>\n",
       "      <td>69061.258065</td>\n",
       "      <td>5</td>\n",
       "      <td>16.13</td>\n",
       "    </tr>\n",
       "    <tr>\n",
       "      <th>Software Engineering</th>\n",
       "      <td>11</td>\n",
       "      <td>39.181818</td>\n",
       "      <td>94989.454545</td>\n",
       "      <td>4</td>\n",
       "      <td>36.36</td>\n",
       "    </tr>\n",
       "  </tbody>\n",
       "</table>\n",
       "</div>"
      ],
      "text/plain": [
       "                      count   mean_age    mean_salary  num_terminated  \\\n",
       "Department                                                              \n",
       "Admin Offices             9  35.777778   71791.888889               2   \n",
       "Executive Office          1  67.000000  250000.000000               0   \n",
       "IT/IS                    50  41.580000   97064.640000              10   \n",
       "Production              209  42.889952   59953.545455              83   \n",
       "Sales                    31  42.580645   69061.258065               5   \n",
       "Software Engineering     11  39.181818   94989.454545               4   \n",
       "\n",
       "                      percent_terminated  \n",
       "Department                                \n",
       "Admin Offices                      22.22  \n",
       "Executive Office                    0.00  \n",
       "IT/IS                              20.00  \n",
       "Production                         39.71  \n",
       "Sales                              16.13  \n",
       "Software Engineering               36.36  "
      ]
     },
     "execution_count": 60,
     "metadata": {},
     "output_type": "execute_result"
    }
   ],
   "source": [
    "by_department"
   ]
  },
  {
   "cell_type": "markdown",
   "metadata": {},
   "source": [
    "The departments with the highest turnover rates are production and software engineering. This will need to be investigated further. "
   ]
  },
  {
   "cell_type": "code",
   "execution_count": 61,
   "metadata": {
    "ExecuteTime": {
     "end_time": "2021-12-17T21:26:11.429430Z",
     "start_time": "2021-12-17T21:26:11.424671Z"
    }
   },
   "outputs": [
    {
     "data": {
      "text/plain": [
       "Michael Albert        22\n",
       "Brannon Miller        22\n",
       "Kelley Spirea         22\n",
       "Elijiah Gray          22\n",
       "Kissy Sullivan        22\n",
       "Amy Dunn              21\n",
       "Ketsia Liebig         21\n",
       "David Stanley         21\n",
       "Webster Butler        21\n",
       "Janet King            19\n",
       "Simon Roup            17\n",
       "Peter Monroe          14\n",
       "John Smith            14\n",
       "Lynn Daneault         13\n",
       "Alex Sweetwater        9\n",
       "Brian Champaigne       8\n",
       "Jennifer Zamora        7\n",
       "Brandon R. LeBlanc     7\n",
       "Eric Dougall           4\n",
       "Debra Houlihan         3\n",
       "Board of Directors     2\n",
       "Name: ManagerName, dtype: int64"
      ]
     },
     "execution_count": 61,
     "metadata": {},
     "output_type": "execute_result"
    }
   ],
   "source": [
    "#Examine the number of managers and the number of reports they have\n",
    "df['ManagerName'].value_counts()"
   ]
  },
  {
   "cell_type": "code",
   "execution_count": 62,
   "metadata": {
    "ExecuteTime": {
     "end_time": "2021-12-17T21:26:11.435271Z",
     "start_time": "2021-12-17T21:26:11.431655Z"
    }
   },
   "outputs": [
    {
     "data": {
      "text/plain": [
       "8"
      ]
     },
     "execution_count": 62,
     "metadata": {},
     "output_type": "execute_result"
    }
   ],
   "source": [
    "#There are no records missing a manager name, but 8 missing a manager ID\n",
    "df['ManagerID'].isna().sum()"
   ]
  },
  {
   "cell_type": "code",
   "execution_count": 63,
   "metadata": {
    "ExecuteTime": {
     "end_time": "2021-12-17T21:26:11.474401Z",
     "start_time": "2021-12-17T21:26:11.436627Z"
    }
   },
   "outputs": [
    {
     "data": {
      "text/plain": [
       "19     Webster Butler\n",
       "30     Webster Butler\n",
       "44     Webster Butler\n",
       "88     Webster Butler\n",
       "135    Webster Butler\n",
       "177    Webster Butler\n",
       "232    Webster Butler\n",
       "251    Webster Butler\n",
       "Name: ManagerName, dtype: object"
      ]
     },
     "execution_count": 63,
     "metadata": {},
     "output_type": "execute_result"
    }
   ],
   "source": [
    "df[df['ManagerID'].isna()]['ManagerName']"
   ]
  },
  {
   "cell_type": "code",
   "execution_count": 64,
   "metadata": {
    "ExecuteTime": {
     "end_time": "2021-12-17T21:26:11.488672Z",
     "start_time": "2021-12-17T21:26:11.483188Z"
    }
   },
   "outputs": [
    {
     "data": {
      "text/plain": [
       "39.0    13\n",
       "Name: ManagerID, dtype: int64"
      ]
     },
     "execution_count": 64,
     "metadata": {},
     "output_type": "execute_result"
    }
   ],
   "source": [
    "#The missing manager ID should be 39, to correspond to Webster Butler\n",
    "df[df['ManagerName'] == 'Webster Butler']['ManagerID'].value_counts()"
   ]
  },
  {
   "cell_type": "code",
   "execution_count": 65,
   "metadata": {
    "ExecuteTime": {
     "end_time": "2021-12-17T21:26:11.500363Z",
     "start_time": "2021-12-17T21:26:11.490748Z"
    }
   },
   "outputs": [],
   "source": [
    "#Impute the missing values\n",
    "df['ManagerID'].fillna(39, inplace=True)"
   ]
  },
  {
   "cell_type": "code",
   "execution_count": 111,
   "metadata": {
    "ExecuteTime": {
     "end_time": "2021-12-17T21:55:41.758762Z",
     "start_time": "2021-12-17T21:55:41.728789Z"
    },
    "scrolled": false
   },
   "outputs": [
    {
     "data": {
      "text/html": [
       "<div>\n",
       "<style scoped>\n",
       "    .dataframe tbody tr th:only-of-type {\n",
       "        vertical-align: middle;\n",
       "    }\n",
       "\n",
       "    .dataframe tbody tr th {\n",
       "        vertical-align: top;\n",
       "    }\n",
       "\n",
       "    .dataframe thead th {\n",
       "        text-align: right;\n",
       "    }\n",
       "</style>\n",
       "<table border=\"1\" class=\"dataframe\">\n",
       "  <thead>\n",
       "    <tr style=\"text-align: right;\">\n",
       "      <th>EmploymentStatus</th>\n",
       "      <th>Active</th>\n",
       "      <th>Terminated for Cause</th>\n",
       "      <th>Voluntarily Terminated</th>\n",
       "      <th>total</th>\n",
       "      <th>cause_percent</th>\n",
       "      <th>volun_percent</th>\n",
       "      <th>total_term_percent</th>\n",
       "      <th>cause_dif_from_mean</th>\n",
       "      <th>volun_dif_from_mean</th>\n",
       "      <th>total_term_dif_from_mean</th>\n",
       "    </tr>\n",
       "    <tr>\n",
       "      <th>ManagerName</th>\n",
       "      <th></th>\n",
       "      <th></th>\n",
       "      <th></th>\n",
       "      <th></th>\n",
       "      <th></th>\n",
       "      <th></th>\n",
       "      <th></th>\n",
       "      <th></th>\n",
       "      <th></th>\n",
       "      <th></th>\n",
       "    </tr>\n",
       "  </thead>\n",
       "  <tbody>\n",
       "    <tr>\n",
       "      <th>Alex Sweetwater</th>\n",
       "      <td>6</td>\n",
       "      <td>1</td>\n",
       "      <td>2</td>\n",
       "      <td>9</td>\n",
       "      <td>11.11</td>\n",
       "      <td>22.22</td>\n",
       "      <td>33.33</td>\n",
       "      <td>6.297619</td>\n",
       "      <td>-0.918571</td>\n",
       "      <td>5.379048</td>\n",
       "    </tr>\n",
       "    <tr>\n",
       "      <th>Amy Dunn</th>\n",
       "      <td>8</td>\n",
       "      <td>0</td>\n",
       "      <td>13</td>\n",
       "      <td>21</td>\n",
       "      <td>0.00</td>\n",
       "      <td>61.90</td>\n",
       "      <td>61.90</td>\n",
       "      <td>-4.812381</td>\n",
       "      <td>38.761429</td>\n",
       "      <td>33.949048</td>\n",
       "    </tr>\n",
       "    <tr>\n",
       "      <th>Board of Directors</th>\n",
       "      <td>2</td>\n",
       "      <td>0</td>\n",
       "      <td>0</td>\n",
       "      <td>2</td>\n",
       "      <td>0.00</td>\n",
       "      <td>0.00</td>\n",
       "      <td>0.00</td>\n",
       "      <td>-4.812381</td>\n",
       "      <td>-23.138571</td>\n",
       "      <td>-27.950952</td>\n",
       "    </tr>\n",
       "    <tr>\n",
       "      <th>Brandon R. LeBlanc</th>\n",
       "      <td>5</td>\n",
       "      <td>1</td>\n",
       "      <td>1</td>\n",
       "      <td>7</td>\n",
       "      <td>14.29</td>\n",
       "      <td>14.29</td>\n",
       "      <td>28.58</td>\n",
       "      <td>9.477619</td>\n",
       "      <td>-8.848571</td>\n",
       "      <td>0.629048</td>\n",
       "    </tr>\n",
       "    <tr>\n",
       "      <th>Brannon Miller</th>\n",
       "      <td>16</td>\n",
       "      <td>0</td>\n",
       "      <td>6</td>\n",
       "      <td>22</td>\n",
       "      <td>0.00</td>\n",
       "      <td>27.27</td>\n",
       "      <td>27.27</td>\n",
       "      <td>-4.812381</td>\n",
       "      <td>4.131429</td>\n",
       "      <td>-0.680952</td>\n",
       "    </tr>\n",
       "    <tr>\n",
       "      <th>Brian Champaigne</th>\n",
       "      <td>8</td>\n",
       "      <td>0</td>\n",
       "      <td>0</td>\n",
       "      <td>8</td>\n",
       "      <td>0.00</td>\n",
       "      <td>0.00</td>\n",
       "      <td>0.00</td>\n",
       "      <td>-4.812381</td>\n",
       "      <td>-23.138571</td>\n",
       "      <td>-27.950952</td>\n",
       "    </tr>\n",
       "    <tr>\n",
       "      <th>David Stanley</th>\n",
       "      <td>15</td>\n",
       "      <td>0</td>\n",
       "      <td>6</td>\n",
       "      <td>21</td>\n",
       "      <td>0.00</td>\n",
       "      <td>28.57</td>\n",
       "      <td>28.57</td>\n",
       "      <td>-4.812381</td>\n",
       "      <td>5.431429</td>\n",
       "      <td>0.619048</td>\n",
       "    </tr>\n",
       "    <tr>\n",
       "      <th>Debra Houlihan</th>\n",
       "      <td>2</td>\n",
       "      <td>0</td>\n",
       "      <td>1</td>\n",
       "      <td>3</td>\n",
       "      <td>0.00</td>\n",
       "      <td>33.33</td>\n",
       "      <td>33.33</td>\n",
       "      <td>-4.812381</td>\n",
       "      <td>10.191429</td>\n",
       "      <td>5.379048</td>\n",
       "    </tr>\n",
       "    <tr>\n",
       "      <th>Elijiah Gray</th>\n",
       "      <td>14</td>\n",
       "      <td>1</td>\n",
       "      <td>7</td>\n",
       "      <td>22</td>\n",
       "      <td>4.55</td>\n",
       "      <td>31.82</td>\n",
       "      <td>36.37</td>\n",
       "      <td>-0.262381</td>\n",
       "      <td>8.681429</td>\n",
       "      <td>8.419048</td>\n",
       "    </tr>\n",
       "    <tr>\n",
       "      <th>Eric Dougall</th>\n",
       "      <td>4</td>\n",
       "      <td>0</td>\n",
       "      <td>0</td>\n",
       "      <td>4</td>\n",
       "      <td>0.00</td>\n",
       "      <td>0.00</td>\n",
       "      <td>0.00</td>\n",
       "      <td>-4.812381</td>\n",
       "      <td>-23.138571</td>\n",
       "      <td>-27.950952</td>\n",
       "    </tr>\n",
       "    <tr>\n",
       "      <th>Janet King</th>\n",
       "      <td>13</td>\n",
       "      <td>1</td>\n",
       "      <td>5</td>\n",
       "      <td>19</td>\n",
       "      <td>5.26</td>\n",
       "      <td>26.32</td>\n",
       "      <td>31.58</td>\n",
       "      <td>0.447619</td>\n",
       "      <td>3.181429</td>\n",
       "      <td>3.629048</td>\n",
       "    </tr>\n",
       "    <tr>\n",
       "      <th>Jennifer Zamora</th>\n",
       "      <td>6</td>\n",
       "      <td>0</td>\n",
       "      <td>1</td>\n",
       "      <td>7</td>\n",
       "      <td>0.00</td>\n",
       "      <td>14.29</td>\n",
       "      <td>14.29</td>\n",
       "      <td>-4.812381</td>\n",
       "      <td>-8.848571</td>\n",
       "      <td>-13.660952</td>\n",
       "    </tr>\n",
       "    <tr>\n",
       "      <th>John Smith</th>\n",
       "      <td>11</td>\n",
       "      <td>1</td>\n",
       "      <td>2</td>\n",
       "      <td>14</td>\n",
       "      <td>7.14</td>\n",
       "      <td>14.29</td>\n",
       "      <td>21.43</td>\n",
       "      <td>2.327619</td>\n",
       "      <td>-8.848571</td>\n",
       "      <td>-6.520952</td>\n",
       "    </tr>\n",
       "    <tr>\n",
       "      <th>Kelley Spirea</th>\n",
       "      <td>16</td>\n",
       "      <td>2</td>\n",
       "      <td>4</td>\n",
       "      <td>22</td>\n",
       "      <td>9.09</td>\n",
       "      <td>18.18</td>\n",
       "      <td>27.27</td>\n",
       "      <td>4.277619</td>\n",
       "      <td>-4.958571</td>\n",
       "      <td>-0.680952</td>\n",
       "    </tr>\n",
       "    <tr>\n",
       "      <th>Ketsia Liebig</th>\n",
       "      <td>16</td>\n",
       "      <td>1</td>\n",
       "      <td>4</td>\n",
       "      <td>21</td>\n",
       "      <td>4.76</td>\n",
       "      <td>19.05</td>\n",
       "      <td>23.81</td>\n",
       "      <td>-0.052381</td>\n",
       "      <td>-4.088571</td>\n",
       "      <td>-4.140952</td>\n",
       "    </tr>\n",
       "    <tr>\n",
       "      <th>Kissy Sullivan</th>\n",
       "      <td>10</td>\n",
       "      <td>2</td>\n",
       "      <td>10</td>\n",
       "      <td>22</td>\n",
       "      <td>9.09</td>\n",
       "      <td>45.45</td>\n",
       "      <td>54.54</td>\n",
       "      <td>4.277619</td>\n",
       "      <td>22.311429</td>\n",
       "      <td>26.589048</td>\n",
       "    </tr>\n",
       "    <tr>\n",
       "      <th>Lynn Daneault</th>\n",
       "      <td>12</td>\n",
       "      <td>1</td>\n",
       "      <td>0</td>\n",
       "      <td>13</td>\n",
       "      <td>7.69</td>\n",
       "      <td>0.00</td>\n",
       "      <td>7.69</td>\n",
       "      <td>2.877619</td>\n",
       "      <td>-23.138571</td>\n",
       "      <td>-20.260952</td>\n",
       "    </tr>\n",
       "    <tr>\n",
       "      <th>Michael Albert</th>\n",
       "      <td>13</td>\n",
       "      <td>1</td>\n",
       "      <td>8</td>\n",
       "      <td>22</td>\n",
       "      <td>4.55</td>\n",
       "      <td>36.36</td>\n",
       "      <td>40.91</td>\n",
       "      <td>-0.262381</td>\n",
       "      <td>13.221429</td>\n",
       "      <td>12.959048</td>\n",
       "    </tr>\n",
       "    <tr>\n",
       "      <th>Peter Monroe</th>\n",
       "      <td>13</td>\n",
       "      <td>0</td>\n",
       "      <td>1</td>\n",
       "      <td>14</td>\n",
       "      <td>0.00</td>\n",
       "      <td>7.14</td>\n",
       "      <td>7.14</td>\n",
       "      <td>-4.812381</td>\n",
       "      <td>-15.998571</td>\n",
       "      <td>-20.810952</td>\n",
       "    </tr>\n",
       "    <tr>\n",
       "      <th>Simon Roup</th>\n",
       "      <td>9</td>\n",
       "      <td>4</td>\n",
       "      <td>4</td>\n",
       "      <td>17</td>\n",
       "      <td>23.53</td>\n",
       "      <td>23.53</td>\n",
       "      <td>47.06</td>\n",
       "      <td>18.717619</td>\n",
       "      <td>0.391429</td>\n",
       "      <td>19.109048</td>\n",
       "    </tr>\n",
       "    <tr>\n",
       "      <th>Webster Butler</th>\n",
       "      <td>8</td>\n",
       "      <td>0</td>\n",
       "      <td>13</td>\n",
       "      <td>21</td>\n",
       "      <td>0.00</td>\n",
       "      <td>61.90</td>\n",
       "      <td>61.90</td>\n",
       "      <td>-4.812381</td>\n",
       "      <td>38.761429</td>\n",
       "      <td>33.949048</td>\n",
       "    </tr>\n",
       "  </tbody>\n",
       "</table>\n",
       "</div>"
      ],
      "text/plain": [
       "EmploymentStatus    Active  Terminated for Cause  Voluntarily Terminated  \\\n",
       "ManagerName                                                                \n",
       "Alex Sweetwater          6                     1                       2   \n",
       "Amy Dunn                 8                     0                      13   \n",
       "Board of Directors       2                     0                       0   \n",
       "Brandon R. LeBlanc       5                     1                       1   \n",
       "Brannon Miller          16                     0                       6   \n",
       "Brian Champaigne         8                     0                       0   \n",
       "David Stanley           15                     0                       6   \n",
       "Debra Houlihan           2                     0                       1   \n",
       "Elijiah Gray            14                     1                       7   \n",
       "Eric Dougall             4                     0                       0   \n",
       "Janet King              13                     1                       5   \n",
       "Jennifer Zamora          6                     0                       1   \n",
       "John Smith              11                     1                       2   \n",
       "Kelley Spirea           16                     2                       4   \n",
       "Ketsia Liebig           16                     1                       4   \n",
       "Kissy Sullivan          10                     2                      10   \n",
       "Lynn Daneault           12                     1                       0   \n",
       "Michael Albert          13                     1                       8   \n",
       "Peter Monroe            13                     0                       1   \n",
       "Simon Roup               9                     4                       4   \n",
       "Webster Butler           8                     0                      13   \n",
       "\n",
       "EmploymentStatus    total  cause_percent  volun_percent  total_term_percent  \\\n",
       "ManagerName                                                                   \n",
       "Alex Sweetwater         9          11.11          22.22               33.33   \n",
       "Amy Dunn               21           0.00          61.90               61.90   \n",
       "Board of Directors      2           0.00           0.00                0.00   \n",
       "Brandon R. LeBlanc      7          14.29          14.29               28.58   \n",
       "Brannon Miller         22           0.00          27.27               27.27   \n",
       "Brian Champaigne        8           0.00           0.00                0.00   \n",
       "David Stanley          21           0.00          28.57               28.57   \n",
       "Debra Houlihan          3           0.00          33.33               33.33   \n",
       "Elijiah Gray           22           4.55          31.82               36.37   \n",
       "Eric Dougall            4           0.00           0.00                0.00   \n",
       "Janet King             19           5.26          26.32               31.58   \n",
       "Jennifer Zamora         7           0.00          14.29               14.29   \n",
       "John Smith             14           7.14          14.29               21.43   \n",
       "Kelley Spirea          22           9.09          18.18               27.27   \n",
       "Ketsia Liebig          21           4.76          19.05               23.81   \n",
       "Kissy Sullivan         22           9.09          45.45               54.54   \n",
       "Lynn Daneault          13           7.69           0.00                7.69   \n",
       "Michael Albert         22           4.55          36.36               40.91   \n",
       "Peter Monroe           14           0.00           7.14                7.14   \n",
       "Simon Roup             17          23.53          23.53               47.06   \n",
       "Webster Butler         21           0.00          61.90               61.90   \n",
       "\n",
       "EmploymentStatus    cause_dif_from_mean  volun_dif_from_mean  \\\n",
       "ManagerName                                                    \n",
       "Alex Sweetwater                6.297619            -0.918571   \n",
       "Amy Dunn                      -4.812381            38.761429   \n",
       "Board of Directors            -4.812381           -23.138571   \n",
       "Brandon R. LeBlanc             9.477619            -8.848571   \n",
       "Brannon Miller                -4.812381             4.131429   \n",
       "Brian Champaigne              -4.812381           -23.138571   \n",
       "David Stanley                 -4.812381             5.431429   \n",
       "Debra Houlihan                -4.812381            10.191429   \n",
       "Elijiah Gray                  -0.262381             8.681429   \n",
       "Eric Dougall                  -4.812381           -23.138571   \n",
       "Janet King                     0.447619             3.181429   \n",
       "Jennifer Zamora               -4.812381            -8.848571   \n",
       "John Smith                     2.327619            -8.848571   \n",
       "Kelley Spirea                  4.277619            -4.958571   \n",
       "Ketsia Liebig                 -0.052381            -4.088571   \n",
       "Kissy Sullivan                 4.277619            22.311429   \n",
       "Lynn Daneault                  2.877619           -23.138571   \n",
       "Michael Albert                -0.262381            13.221429   \n",
       "Peter Monroe                  -4.812381           -15.998571   \n",
       "Simon Roup                    18.717619             0.391429   \n",
       "Webster Butler                -4.812381            38.761429   \n",
       "\n",
       "EmploymentStatus    total_term_dif_from_mean  \n",
       "ManagerName                                   \n",
       "Alex Sweetwater                     5.379048  \n",
       "Amy Dunn                           33.949048  \n",
       "Board of Directors                -27.950952  \n",
       "Brandon R. LeBlanc                  0.629048  \n",
       "Brannon Miller                     -0.680952  \n",
       "Brian Champaigne                  -27.950952  \n",
       "David Stanley                       0.619048  \n",
       "Debra Houlihan                      5.379048  \n",
       "Elijiah Gray                        8.419048  \n",
       "Eric Dougall                      -27.950952  \n",
       "Janet King                          3.629048  \n",
       "Jennifer Zamora                   -13.660952  \n",
       "John Smith                         -6.520952  \n",
       "Kelley Spirea                      -0.680952  \n",
       "Ketsia Liebig                      -4.140952  \n",
       "Kissy Sullivan                     26.589048  \n",
       "Lynn Daneault                     -20.260952  \n",
       "Michael Albert                     12.959048  \n",
       "Peter Monroe                      -20.810952  \n",
       "Simon Roup                         19.109048  \n",
       "Webster Butler                     33.949048  "
      ]
     },
     "execution_count": 111,
     "metadata": {},
     "output_type": "execute_result"
    }
   ],
   "source": [
    "emp_by_manager = pd.crosstab(df['ManagerName'], df['EmploymentStatus'])\n",
    "\n",
    "emp_by_manager['total'] = (\n",
    "    emp_by_manager['Active'] + \n",
    "    emp_by_manager['Terminated for Cause'] + \n",
    "    emp_by_manager['Voluntarily Terminated']\n",
    ")\n",
    "\n",
    "emp_by_manager['cause_percent'] = round(\n",
    "    emp_by_manager['Terminated for Cause']/\n",
    "    emp_by_manager['total'],\n",
    "    4\n",
    ") *100\n",
    "\n",
    "emp_by_manager['volun_percent'] = round(\n",
    "    emp_by_manager['Voluntarily Terminated']/\n",
    "    emp_by_manager['total'],\n",
    "    4\n",
    ") *100\n",
    "\n",
    "emp_by_manager['total_term_percent'] = (\n",
    "    emp_by_manager['cause_percent'] +\n",
    "emp_by_manager['volun_percent'])\n",
    "\n",
    "emp_by_manager['cause_dif_from_mean'] = (\n",
    "    emp_by_manager['cause_percent'] - \n",
    "    emp_by_manager['cause_percent'].mean()\n",
    ")\n",
    "\n",
    "emp_by_manager['volun_dif_from_mean'] = (\n",
    "    emp_by_manager['volun_percent'] - \n",
    "    emp_by_manager['volun_percent'].mean()\n",
    ")\n",
    "\n",
    "emp_by_manager['total_term_dif_from_mean'] = (\n",
    "    emp_by_manager['total_term_percent'] - \n",
    "    emp_by_manager['total_term_percent'].mean()\n",
    ")\n",
    "\n",
    "\n",
    "emp_by_manager"
   ]
  },
  {
   "cell_type": "markdown",
   "metadata": {
    "ExecuteTime": {
     "end_time": "2021-12-17T21:53:26.744061Z",
     "start_time": "2021-12-17T21:53:26.736414Z"
    }
   },
   "source": [
    "There are definitely some patterns between employment status and manager that will need to be investigated further."
   ]
  },
  {
   "cell_type": "code",
   "execution_count": 66,
   "metadata": {
    "ExecuteTime": {
     "end_time": "2021-12-17T21:26:11.507649Z",
     "start_time": "2021-12-17T21:26:11.502041Z"
    }
   },
   "outputs": [
    {
     "data": {
      "text/plain": [
       "Indeed                     0.279743\n",
       "LinkedIn                   0.244373\n",
       "Google Search              0.157556\n",
       "Employee Referral          0.099678\n",
       "Diversity Job Fair         0.093248\n",
       "CareerBuilder              0.073955\n",
       "Website                    0.041801\n",
       "Other                      0.006431\n",
       "On-line Web application    0.003215\n",
       "Name: RecruitmentSource, dtype: float64"
      ]
     },
     "execution_count": 66,
     "metadata": {},
     "output_type": "execute_result"
    }
   ],
   "source": [
    "df['RecruitmentSource'].value_counts(normalize=True)"
   ]
  },
  {
   "cell_type": "markdown",
   "metadata": {},
   "source": [
    "The diversity job fair is already accounted for in another column, so is not needed here. Many of the other categories are too granular, since this data is not going to be used to change how job openings are posted or marketed. I'm going to bin these into job_board, referral and other."
   ]
  },
  {
   "cell_type": "code",
   "execution_count": 67,
   "metadata": {
    "ExecuteTime": {
     "end_time": "2021-12-17T21:26:11.513366Z",
     "start_time": "2021-12-17T21:26:11.509593Z"
    }
   },
   "outputs": [],
   "source": [
    "def bin_source(source):\n",
    "    \"\"\"Bins the recruitment source into three categories.\"\"\"\n",
    "    \n",
    "    if source in ['Indeed', 'LinkedIn', 'CareerBuilder']:\n",
    "        return 'job_board'\n",
    "    elif source == 'Employee Referral':\n",
    "        return 'referral'\n",
    "    return 'other'\n",
    "\n",
    "df['RecruitmentSource'] = df['RecruitmentSource'].apply(bin_source)"
   ]
  },
  {
   "cell_type": "code",
   "execution_count": 68,
   "metadata": {
    "ExecuteTime": {
     "end_time": "2021-12-17T21:26:11.527713Z",
     "start_time": "2021-12-17T21:26:11.523340Z"
    }
   },
   "outputs": [
    {
     "data": {
      "text/plain": [
       "job_board    186\n",
       "other         94\n",
       "referral      31\n",
       "Name: RecruitmentSource, dtype: int64"
      ]
     },
     "execution_count": 68,
     "metadata": {},
     "output_type": "execute_result"
    }
   ],
   "source": [
    "df['RecruitmentSource'].value_counts()"
   ]
  },
  {
   "cell_type": "code",
   "execution_count": 69,
   "metadata": {
    "ExecuteTime": {
     "end_time": "2021-12-17T21:26:11.534520Z",
     "start_time": "2021-12-17T21:26:11.530009Z"
    }
   },
   "outputs": [
    {
     "data": {
      "text/plain": [
       "Fully Meets          0.781350\n",
       "Exceeds              0.118971\n",
       "Needs Improvement    0.057878\n",
       "PIP                  0.041801\n",
       "Name: PerformanceScore, dtype: float64"
      ]
     },
     "execution_count": 69,
     "metadata": {},
     "output_type": "execute_result"
    }
   ],
   "source": [
    "df['PerformanceScore'].value_counts(normalize=True)"
   ]
  },
  {
   "cell_type": "code",
   "execution_count": 70,
   "metadata": {
    "ExecuteTime": {
     "end_time": "2021-12-17T21:26:11.551500Z",
     "start_time": "2021-12-17T21:26:11.535931Z"
    },
    "scrolled": true
   },
   "outputs": [
    {
     "data": {
      "text/html": [
       "<div>\n",
       "<style scoped>\n",
       "    .dataframe tbody tr th:only-of-type {\n",
       "        vertical-align: middle;\n",
       "    }\n",
       "\n",
       "    .dataframe tbody tr th {\n",
       "        vertical-align: top;\n",
       "    }\n",
       "\n",
       "    .dataframe thead th {\n",
       "        text-align: right;\n",
       "    }\n",
       "</style>\n",
       "<table border=\"1\" class=\"dataframe\">\n",
       "  <thead>\n",
       "    <tr style=\"text-align: right;\">\n",
       "      <th></th>\n",
       "      <th>employed</th>\n",
       "      <th>terminated</th>\n",
       "      <th>percent_term</th>\n",
       "    </tr>\n",
       "    <tr>\n",
       "      <th>PerformanceScore</th>\n",
       "      <th></th>\n",
       "      <th></th>\n",
       "      <th></th>\n",
       "    </tr>\n",
       "  </thead>\n",
       "  <tbody>\n",
       "    <tr>\n",
       "      <th>Exceeds</th>\n",
       "      <td>29</td>\n",
       "      <td>8</td>\n",
       "      <td>0.216216</td>\n",
       "    </tr>\n",
       "    <tr>\n",
       "      <th>Fully Meets</th>\n",
       "      <td>162</td>\n",
       "      <td>81</td>\n",
       "      <td>0.333333</td>\n",
       "    </tr>\n",
       "    <tr>\n",
       "      <th>Needs Improvement</th>\n",
       "      <td>8</td>\n",
       "      <td>10</td>\n",
       "      <td>0.555556</td>\n",
       "    </tr>\n",
       "    <tr>\n",
       "      <th>PIP</th>\n",
       "      <td>8</td>\n",
       "      <td>5</td>\n",
       "      <td>0.384615</td>\n",
       "    </tr>\n",
       "  </tbody>\n",
       "</table>\n",
       "</div>"
      ],
      "text/plain": [
       "                   employed  terminated  percent_term\n",
       "PerformanceScore                                     \n",
       "Exceeds                  29           8      0.216216\n",
       "Fully Meets             162          81      0.333333\n",
       "Needs Improvement         8          10      0.555556\n",
       "PIP                       8           5      0.384615"
      ]
     },
     "execution_count": 70,
     "metadata": {},
     "output_type": "execute_result"
    }
   ],
   "source": [
    "employment_by_performance = pd.crosstab(df['PerformanceScore'], df['Termd'])\n",
    "employment_by_performance.columns = ['employed', 'terminated']\n",
    "employment_by_performance['percent_term'] = (\n",
    "    employment_by_performance['terminated']/\n",
    "    (\n",
    "        employment_by_performance['terminated'] +\n",
    "        employment_by_performance['employed']\n",
    "    )\n",
    ")\n",
    "employment_by_performance"
   ]
  },
  {
   "cell_type": "code",
   "execution_count": 71,
   "metadata": {
    "ExecuteTime": {
     "end_time": "2021-12-17T21:26:11.569428Z",
     "start_time": "2021-12-17T21:26:11.552710Z"
    }
   },
   "outputs": [
    {
     "data": {
      "text/html": [
       "<div>\n",
       "<style scoped>\n",
       "    .dataframe tbody tr th:only-of-type {\n",
       "        vertical-align: middle;\n",
       "    }\n",
       "\n",
       "    .dataframe tbody tr th {\n",
       "        vertical-align: top;\n",
       "    }\n",
       "\n",
       "    .dataframe thead th {\n",
       "        text-align: right;\n",
       "    }\n",
       "</style>\n",
       "<table border=\"1\" class=\"dataframe\">\n",
       "  <thead>\n",
       "    <tr style=\"text-align: right;\">\n",
       "      <th>PerformanceScore</th>\n",
       "      <th>Exceeds</th>\n",
       "      <th>Fully Meets</th>\n",
       "      <th>Needs Improvement</th>\n",
       "      <th>PIP</th>\n",
       "    </tr>\n",
       "    <tr>\n",
       "      <th>TermReason</th>\n",
       "      <th></th>\n",
       "      <th></th>\n",
       "      <th></th>\n",
       "      <th></th>\n",
       "    </tr>\n",
       "  </thead>\n",
       "  <tbody>\n",
       "    <tr>\n",
       "      <th>Another position</th>\n",
       "      <td>2</td>\n",
       "      <td>17</td>\n",
       "      <td>0</td>\n",
       "      <td>1</td>\n",
       "    </tr>\n",
       "    <tr>\n",
       "      <th>Fatal attraction</th>\n",
       "      <td>0</td>\n",
       "      <td>0</td>\n",
       "      <td>0</td>\n",
       "      <td>1</td>\n",
       "    </tr>\n",
       "    <tr>\n",
       "      <th>Learned that he is a gangster</th>\n",
       "      <td>0</td>\n",
       "      <td>1</td>\n",
       "      <td>0</td>\n",
       "      <td>0</td>\n",
       "    </tr>\n",
       "    <tr>\n",
       "      <th>N/A-StillEmployed</th>\n",
       "      <td>29</td>\n",
       "      <td>162</td>\n",
       "      <td>8</td>\n",
       "      <td>8</td>\n",
       "    </tr>\n",
       "    <tr>\n",
       "      <th>attendance</th>\n",
       "      <td>0</td>\n",
       "      <td>4</td>\n",
       "      <td>3</td>\n",
       "      <td>0</td>\n",
       "    </tr>\n",
       "    <tr>\n",
       "      <th>career change</th>\n",
       "      <td>0</td>\n",
       "      <td>6</td>\n",
       "      <td>2</td>\n",
       "      <td>1</td>\n",
       "    </tr>\n",
       "    <tr>\n",
       "      <th>gross misconduct</th>\n",
       "      <td>1</td>\n",
       "      <td>0</td>\n",
       "      <td>0</td>\n",
       "      <td>0</td>\n",
       "    </tr>\n",
       "    <tr>\n",
       "      <th>hours</th>\n",
       "      <td>0</td>\n",
       "      <td>8</td>\n",
       "      <td>0</td>\n",
       "      <td>0</td>\n",
       "    </tr>\n",
       "    <tr>\n",
       "      <th>maternity leave - did not return</th>\n",
       "      <td>1</td>\n",
       "      <td>2</td>\n",
       "      <td>0</td>\n",
       "      <td>0</td>\n",
       "    </tr>\n",
       "    <tr>\n",
       "      <th>medical issues</th>\n",
       "      <td>0</td>\n",
       "      <td>3</td>\n",
       "      <td>0</td>\n",
       "      <td>0</td>\n",
       "    </tr>\n",
       "    <tr>\n",
       "      <th>military</th>\n",
       "      <td>0</td>\n",
       "      <td>3</td>\n",
       "      <td>1</td>\n",
       "      <td>0</td>\n",
       "    </tr>\n",
       "    <tr>\n",
       "      <th>more money</th>\n",
       "      <td>2</td>\n",
       "      <td>9</td>\n",
       "      <td>0</td>\n",
       "      <td>0</td>\n",
       "    </tr>\n",
       "    <tr>\n",
       "      <th>no-call, no-show</th>\n",
       "      <td>0</td>\n",
       "      <td>3</td>\n",
       "      <td>1</td>\n",
       "      <td>0</td>\n",
       "    </tr>\n",
       "    <tr>\n",
       "      <th>performance</th>\n",
       "      <td>0</td>\n",
       "      <td>2</td>\n",
       "      <td>1</td>\n",
       "      <td>1</td>\n",
       "    </tr>\n",
       "    <tr>\n",
       "      <th>relocation out of area</th>\n",
       "      <td>0</td>\n",
       "      <td>5</td>\n",
       "      <td>0</td>\n",
       "      <td>0</td>\n",
       "    </tr>\n",
       "    <tr>\n",
       "      <th>retiring</th>\n",
       "      <td>1</td>\n",
       "      <td>3</td>\n",
       "      <td>0</td>\n",
       "      <td>0</td>\n",
       "    </tr>\n",
       "    <tr>\n",
       "      <th>return to school</th>\n",
       "      <td>0</td>\n",
       "      <td>5</td>\n",
       "      <td>0</td>\n",
       "      <td>0</td>\n",
       "    </tr>\n",
       "    <tr>\n",
       "      <th>unhappy</th>\n",
       "      <td>1</td>\n",
       "      <td>10</td>\n",
       "      <td>2</td>\n",
       "      <td>1</td>\n",
       "    </tr>\n",
       "  </tbody>\n",
       "</table>\n",
       "</div>"
      ],
      "text/plain": [
       "PerformanceScore                  Exceeds  Fully Meets  Needs Improvement  PIP\n",
       "TermReason                                                                    \n",
       "Another position                        2           17                  0    1\n",
       "Fatal attraction                        0            0                  0    1\n",
       "Learned that he is a gangster           0            1                  0    0\n",
       "N/A-StillEmployed                      29          162                  8    8\n",
       "attendance                              0            4                  3    0\n",
       "career change                           0            6                  2    1\n",
       "gross misconduct                        1            0                  0    0\n",
       "hours                                   0            8                  0    0\n",
       "maternity leave - did not return        1            2                  0    0\n",
       "medical issues                          0            3                  0    0\n",
       "military                                0            3                  1    0\n",
       "more money                              2            9                  0    0\n",
       "no-call, no-show                        0            3                  1    0\n",
       "performance                             0            2                  1    1\n",
       "relocation out of area                  0            5                  0    0\n",
       "retiring                                1            3                  0    0\n",
       "return to school                        0            5                  0    0\n",
       "unhappy                                 1           10                  2    1"
      ]
     },
     "execution_count": 71,
     "metadata": {},
     "output_type": "execute_result"
    }
   ],
   "source": [
    "pd.crosstab(df['TermReason'], df['PerformanceScore'])"
   ]
  },
  {
   "cell_type": "markdown",
   "metadata": {},
   "source": [
    "Considering that employees classified as Needs Improvement leave more often and by their own decision than those on a PIP, perhaps there may be a need to offer more support at an earlier stage to struggling employees. However, it is important to note that the majority of employees whoa re no longer employed with the company met or exceeded expectations."
   ]
  },
  {
   "cell_type": "code",
   "execution_count": 72,
   "metadata": {
    "ExecuteTime": {
     "end_time": "2021-12-17T21:26:11.576296Z",
     "start_time": "2021-12-17T21:26:11.571096Z"
    }
   },
   "outputs": [
    {
     "data": {
      "text/plain": [
       "count    311.000000\n",
       "mean       4.110000\n",
       "std        0.789938\n",
       "min        1.120000\n",
       "25%        3.690000\n",
       "50%        4.280000\n",
       "75%        4.700000\n",
       "max        5.000000\n",
       "Name: EngagementSurvey, dtype: float64"
      ]
     },
     "execution_count": 72,
     "metadata": {},
     "output_type": "execute_result"
    }
   ],
   "source": [
    "df['EngagementSurvey'].describe()"
   ]
  },
  {
   "cell_type": "code",
   "execution_count": 73,
   "metadata": {
    "ExecuteTime": {
     "end_time": "2021-12-17T21:26:11.691400Z",
     "start_time": "2021-12-17T21:26:11.577740Z"
    }
   },
   "outputs": [
    {
     "data": {
      "image/png": "[encoded data removed]",
      "text/plain": [
       "<Figure size 432x288 with 1 Axes>"
      ]
     },
     "metadata": {
      "needs_background": "light"
     },
     "output_type": "display_data"
    }
   ],
   "source": [
    "#The engagement data are skewed left, showing that the majority of employees \n",
    "#are engaged\n",
    "df['EngagementSurvey'].hist()\n",
    "plt.title('Distribution of Employee Engagement');"
   ]
  },
  {
   "cell_type": "code",
   "execution_count": 74,
   "metadata": {
    "ExecuteTime": {
     "end_time": "2021-12-17T21:26:11.698535Z",
     "start_time": "2021-12-17T21:26:11.693553Z"
    },
    "scrolled": true
   },
   "outputs": [
    {
     "data": {
      "text/plain": [
       "3    0.347267\n",
       "5    0.315113\n",
       "4    0.302251\n",
       "2    0.028939\n",
       "1    0.006431\n",
       "Name: EmpSatisfaction, dtype: float64"
      ]
     },
     "execution_count": 74,
     "metadata": {},
     "output_type": "execute_result"
    }
   ],
   "source": [
    "df['EmpSatisfaction'].value_counts(normalize=True)"
   ]
  },
  {
   "cell_type": "markdown",
   "metadata": {},
   "source": [
    "I want to use the other features (excluding those that contain information about termination) to be able to predict employees' responses on the survey. It may be best to engineer a single target metric out of satisfaction and engagement. I'll start with just a sum of the two and adjust later, if needed. "
   ]
  },
  {
   "cell_type": "code",
   "execution_count": 75,
   "metadata": {
    "ExecuteTime": {
     "end_time": "2021-12-17T21:26:11.703519Z",
     "start_time": "2021-12-17T21:26:11.700169Z"
    }
   },
   "outputs": [],
   "source": [
    "df['combined_target'] = df['EngagementSurvey'] + df['EmpSatisfaction']"
   ]
  },
  {
   "cell_type": "code",
   "execution_count": 76,
   "metadata": {
    "ExecuteTime": {
     "end_time": "2021-12-17T21:26:11.708586Z",
     "start_time": "2021-12-17T21:26:11.704721Z"
    }
   },
   "outputs": [
    {
     "data": {
      "text/plain": [
       "0    241\n",
       "6     21\n",
       "5     21\n",
       "7     12\n",
       "4      9\n",
       "3      3\n",
       "8      2\n",
       "2      1\n",
       "1      1\n",
       "Name: SpecialProjectsCount, dtype: int64"
      ]
     },
     "execution_count": 76,
     "metadata": {},
     "output_type": "execute_result"
    }
   ],
   "source": [
    "df['SpecialProjectsCount'].value_counts()"
   ]
  },
  {
   "cell_type": "markdown",
   "metadata": {},
   "source": [
    "With the data clustered at 0 and the higher numbers, I am going to bin these into three categories."
   ]
  },
  {
   "cell_type": "code",
   "execution_count": 77,
   "metadata": {
    "ExecuteTime": {
     "end_time": "2021-12-17T21:26:11.715690Z",
     "start_time": "2021-12-17T21:26:11.709830Z"
    }
   },
   "outputs": [
    {
     "data": {
      "text/plain": [
       "none    241\n",
       "many     56\n",
       "few      14\n",
       "Name: SpecialProjectsCount, dtype: int64"
      ]
     },
     "execution_count": 77,
     "metadata": {},
     "output_type": "execute_result"
    }
   ],
   "source": [
    "def bin_projects(count):\n",
    "    \"\"\"Bins the project counts into three categories.\"\"\"\n",
    "    \n",
    "    if count == 0:\n",
    "        return 'none'\n",
    "    elif count < 5:\n",
    "        return 'few'\n",
    "    return 'many'\n",
    "\n",
    "df['SpecialProjectsCount'] = df['SpecialProjectsCount'].apply(bin_projects)\n",
    "\n",
    "df['SpecialProjectsCount'].value_counts()"
   ]
  },
  {
   "cell_type": "code",
   "execution_count": 78,
   "metadata": {
    "ExecuteTime": {
     "end_time": "2021-12-17T21:26:11.738730Z",
     "start_time": "2021-12-17T21:26:11.717290Z"
    }
   },
   "outputs": [],
   "source": [
    "df['LastPerformanceReview_Date'] = pd.to_datetime(df['LastPerformanceReview_Date'])"
   ]
  },
  {
   "cell_type": "code",
   "execution_count": 79,
   "metadata": {
    "ExecuteTime": {
     "end_time": "2021-12-17T21:26:11.914454Z",
     "start_time": "2021-12-17T21:26:11.740415Z"
    }
   },
   "outputs": [
    {
     "data": {
      "image/png": "[encoded data removed]",
      "text/plain": [
       "<Figure size 432x288 with 1 Axes>"
      ]
     },
     "metadata": {
      "needs_background": "light"
     },
     "output_type": "display_data"
    }
   ],
   "source": [
    "df['review_to_term'] = df['DateofTermination'] - df['LastPerformanceReview_Date'] \n",
    "df['review_to_term'] = df['review_to_term']//np.timedelta64(1,'D')\n",
    "df['review_to_term'].hist()\n",
    "plt.title('Number of Days Between Review and Termination');"
   ]
  },
  {
   "cell_type": "code",
   "execution_count": 80,
   "metadata": {
    "ExecuteTime": {
     "end_time": "2021-12-17T21:26:11.931933Z",
     "start_time": "2021-12-17T21:26:11.916176Z"
    }
   },
   "outputs": [
    {
     "data": {
      "text/html": [
       "<div>\n",
       "<style scoped>\n",
       "    .dataframe tbody tr th:only-of-type {\n",
       "        vertical-align: middle;\n",
       "    }\n",
       "\n",
       "    .dataframe tbody tr th {\n",
       "        vertical-align: top;\n",
       "    }\n",
       "\n",
       "    .dataframe thead th {\n",
       "        text-align: right;\n",
       "    }\n",
       "</style>\n",
       "<table border=\"1\" class=\"dataframe\">\n",
       "  <thead>\n",
       "    <tr style=\"text-align: right;\">\n",
       "      <th></th>\n",
       "      <th>Employee_Name</th>\n",
       "      <th>EmpID</th>\n",
       "      <th>MarriedID</th>\n",
       "      <th>GenderID</th>\n",
       "      <th>FromDiversityJobFairID</th>\n",
       "      <th>Salary</th>\n",
       "      <th>Termd</th>\n",
       "      <th>Position</th>\n",
       "      <th>State</th>\n",
       "      <th>Zip</th>\n",
       "      <th>...</th>\n",
       "      <th>LastPerformanceReview_Date</th>\n",
       "      <th>DaysLateLast30</th>\n",
       "      <th>Absences</th>\n",
       "      <th>in_MA</th>\n",
       "      <th>current_age</th>\n",
       "      <th>citizen</th>\n",
       "      <th>age_hired</th>\n",
       "      <th>employment_months</th>\n",
       "      <th>combined_target</th>\n",
       "      <th>review_to_term</th>\n",
       "    </tr>\n",
       "  </thead>\n",
       "  <tbody>\n",
       "    <tr>\n",
       "      <th>95</th>\n",
       "      <td>Forrest, Alex</td>\n",
       "      <td>10305</td>\n",
       "      <td>1</td>\n",
       "      <td>1</td>\n",
       "      <td>0</td>\n",
       "      <td>70187</td>\n",
       "      <td>1</td>\n",
       "      <td>Area Sales Manager</td>\n",
       "      <td>MA</td>\n",
       "      <td>2330</td>\n",
       "      <td>...</td>\n",
       "      <td>2019-01-28</td>\n",
       "      <td>4</td>\n",
       "      <td>7</td>\n",
       "      <td>1</td>\n",
       "      <td>46</td>\n",
       "      <td>1</td>\n",
       "      <td>39</td>\n",
       "      <td>46.0</td>\n",
       "      <td>7.0</td>\n",
       "      <td>-162.0</td>\n",
       "    </tr>\n",
       "  </tbody>\n",
       "</table>\n",
       "<p>1 rows × 37 columns</p>\n",
       "</div>"
      ],
      "text/plain": [
       "    Employee_Name  EmpID  MarriedID  GenderID  FromDiversityJobFairID  Salary  \\\n",
       "95  Forrest, Alex  10305          1         1                       0   70187   \n",
       "\n",
       "    Termd            Position State   Zip  ... LastPerformanceReview_Date  \\\n",
       "95      1  Area Sales Manager    MA  2330  ...                 2019-01-28   \n",
       "\n",
       "   DaysLateLast30 Absences  in_MA current_age citizen age_hired  \\\n",
       "95              4        7      1          46       1        39   \n",
       "\n",
       "   employment_months combined_target review_to_term  \n",
       "95              46.0             7.0         -162.0  \n",
       "\n",
       "[1 rows x 37 columns]"
      ]
     },
     "execution_count": 80,
     "metadata": {},
     "output_type": "execute_result"
    }
   ],
   "source": [
    "df[df['review_to_term'] < 0]"
   ]
  },
  {
   "cell_type": "markdown",
   "metadata": {},
   "source": [
    "One employee has a termination date before their last review. Because I am not going to use this column in a predictive model and the rest of the data in this record looks fine, I am going to keep it for now."
   ]
  },
  {
   "cell_type": "code",
   "execution_count": 81,
   "metadata": {
    "ExecuteTime": {
     "end_time": "2021-12-17T21:26:11.937087Z",
     "start_time": "2021-12-17T21:26:11.933240Z"
    }
   },
   "outputs": [
    {
     "data": {
      "text/plain": [
       "0    278\n",
       "4      8\n",
       "6      6\n",
       "5      6\n",
       "3      6\n",
       "2      6\n",
       "1      1\n",
       "Name: DaysLateLast30, dtype: int64"
      ]
     },
     "execution_count": 81,
     "metadata": {},
     "output_type": "execute_result"
    }
   ],
   "source": [
    "df['DaysLateLast30'].value_counts()"
   ]
  },
  {
   "cell_type": "markdown",
   "metadata": {},
   "source": [
    "Because it looks like there are not excessive tardies overall, I am going to make this a binary column with yes (1) and no (0)."
   ]
  },
  {
   "cell_type": "code",
   "execution_count": 82,
   "metadata": {
    "ExecuteTime": {
     "end_time": "2021-12-17T21:26:11.941149Z",
     "start_time": "2021-12-17T21:26:11.938447Z"
    }
   },
   "outputs": [],
   "source": [
    "df['DaysLateLast30'] = np.where(df['DaysLateLast30'] == 0, 0, 1)"
   ]
  },
  {
   "cell_type": "code",
   "execution_count": 83,
   "metadata": {
    "ExecuteTime": {
     "end_time": "2021-12-17T21:26:11.947978Z",
     "start_time": "2021-12-17T21:26:11.942680Z"
    }
   },
   "outputs": [
    {
     "data": {
      "text/plain": [
       "count    311.000000\n",
       "mean      10.237942\n",
       "std        5.852596\n",
       "min        1.000000\n",
       "25%        5.000000\n",
       "50%       10.000000\n",
       "75%       15.000000\n",
       "max       20.000000\n",
       "Name: Absences, dtype: float64"
      ]
     },
     "execution_count": 83,
     "metadata": {},
     "output_type": "execute_result"
    }
   ],
   "source": [
    "df['Absences'].describe()"
   ]
  },
  {
   "cell_type": "code",
   "execution_count": 93,
   "metadata": {
    "ExecuteTime": {
     "end_time": "2021-12-17T21:39:16.626726Z",
     "start_time": "2021-12-17T21:39:16.622189Z"
    }
   },
   "outputs": [
    {
     "data": {
      "text/plain": [
       "array(['5_or_fewer', '16_or_more', '11-15', '6-10'], dtype=object)"
      ]
     },
     "execution_count": 93,
     "metadata": {},
     "output_type": "execute_result"
    }
   ],
   "source": [
    "df['Absences'].unique()"
   ]
  },
  {
   "cell_type": "code",
   "execution_count": 85,
   "metadata": {
    "ExecuteTime": {
     "end_time": "2021-12-17T21:26:11.960838Z",
     "start_time": "2021-12-17T21:26:11.955262Z"
    },
    "scrolled": false
   },
   "outputs": [
    {
     "data": {
      "text/plain": [
       "5_or_fewer    86\n",
       "11-15         77\n",
       "16_or_more    76\n",
       "6-10          72\n",
       "Name: Absences, dtype: int64"
      ]
     },
     "execution_count": 85,
     "metadata": {},
     "output_type": "execute_result"
    }
   ],
   "source": [
    "#Bin the number of absences\n",
    "\n",
    "def bin_absences(value):\n",
    "    if value <= 5:\n",
    "        return '5_or_fewer'\n",
    "    elif value <= 10:\n",
    "        return '6-10'\n",
    "    elif value <= 15:\n",
    "        return '11-15'\n",
    "    return '16_or_more'\n",
    "\n",
    "df['Absences'] = df['Absences'].apply(bin_absences)\n",
    "\n",
    "df['Absences'].value_counts()"
   ]
  },
  {
   "cell_type": "code",
   "execution_count": 94,
   "metadata": {
    "ExecuteTime": {
     "end_time": "2021-12-17T21:39:59.500055Z",
     "start_time": "2021-12-17T21:39:59.485180Z"
    }
   },
   "outputs": [
    {
     "data": {
      "text/html": [
       "<div>\n",
       "<style scoped>\n",
       "    .dataframe tbody tr th:only-of-type {\n",
       "        vertical-align: middle;\n",
       "    }\n",
       "\n",
       "    .dataframe tbody tr th {\n",
       "        vertical-align: top;\n",
       "    }\n",
       "\n",
       "    .dataframe thead th {\n",
       "        text-align: right;\n",
       "    }\n",
       "</style>\n",
       "<table border=\"1\" class=\"dataframe\">\n",
       "  <thead>\n",
       "    <tr style=\"text-align: right;\">\n",
       "      <th>Termd</th>\n",
       "      <th>0</th>\n",
       "      <th>1</th>\n",
       "    </tr>\n",
       "    <tr>\n",
       "      <th>Absences</th>\n",
       "      <th></th>\n",
       "      <th></th>\n",
       "    </tr>\n",
       "  </thead>\n",
       "  <tbody>\n",
       "    <tr>\n",
       "      <th>11-15</th>\n",
       "      <td>55</td>\n",
       "      <td>22</td>\n",
       "    </tr>\n",
       "    <tr>\n",
       "      <th>16_or_more</th>\n",
       "      <td>43</td>\n",
       "      <td>33</td>\n",
       "    </tr>\n",
       "    <tr>\n",
       "      <th>5_or_fewer</th>\n",
       "      <td>64</td>\n",
       "      <td>22</td>\n",
       "    </tr>\n",
       "    <tr>\n",
       "      <th>6-10</th>\n",
       "      <td>45</td>\n",
       "      <td>27</td>\n",
       "    </tr>\n",
       "  </tbody>\n",
       "</table>\n",
       "</div>"
      ],
      "text/plain": [
       "Termd        0   1\n",
       "Absences          \n",
       "11-15       55  22\n",
       "16_or_more  43  33\n",
       "5_or_fewer  64  22\n",
       "6-10        45  27"
      ]
     },
     "execution_count": 94,
     "metadata": {},
     "output_type": "execute_result"
    }
   ],
   "source": [
    "#Absences certainly seems to be correlated with termination\n",
    "pd.crosstab(df['Absences'], df['Termd'])"
   ]
  },
  {
   "cell_type": "markdown",
   "metadata": {},
   "source": [
    "# Preparation for Modeling"
   ]
  },
  {
   "cell_type": "code",
   "execution_count": 91,
   "metadata": {
    "ExecuteTime": {
     "end_time": "2021-12-17T21:34:31.424376Z",
     "start_time": "2021-12-17T21:34:31.112639Z"
    },
    "scrolled": false
   },
   "outputs": [
    {
     "data": {
      "text/plain": [
       "<AxesSubplot:>"
      ]
     },
     "execution_count": 91,
     "metadata": {},
     "output_type": "execute_result"
    },
    {
     "data": {
      "image/png": "[encoded data removed]",
      "text/plain": [
       "<Figure size 432x288 with 2 Axes>"
      ]
     },
     "metadata": {
      "needs_background": "light"
     },
     "output_type": "display_data"
    }
   ],
   "source": [
    "#Check for autocorrelation\n",
    "sns.heatmap(df.corr())"
   ]
  },
  {
   "cell_type": "markdown",
   "metadata": {},
   "source": [
    "Most of the strong correlations are the obvious ones. The list below is the features that are strongly correlated and the feature I will use for modeling is in parenthesis.\n",
    "\n",
    "- zipcode, state and in MA (in MA)\n",
    "- current age, DOB, age hired and age at termination (age hired)\n",
    "\n",
    "I will also eliminate any features that would not be known prior to termination.\n",
    "\n",
    "For the target, I will either use employee engagement or combined metric using engagement and satisfaction."
   ]
  },
  {
   "cell_type": "code",
   "execution_count": 113,
   "metadata": {
    "ExecuteTime": {
     "end_time": "2021-12-17T22:00:09.220812Z",
     "start_time": "2021-12-17T22:00:09.210614Z"
    }
   },
   "outputs": [
    {
     "name": "stdout",
     "output_type": "stream",
     "text": [
      "<class 'pandas.core.frame.DataFrame'>\n",
      "RangeIndex: 311 entries, 0 to 310\n",
      "Data columns (total 19 columns):\n",
      " #   Column                      Non-Null Count  Dtype         \n",
      "---  ------                      --------------  -----         \n",
      " 0   MarriedID                   311 non-null    int64         \n",
      " 1   GenderID                    311 non-null    int64         \n",
      " 2   FromDiversityJobFairID      311 non-null    int64         \n",
      " 3   Salary                      311 non-null    int64         \n",
      " 4   Position                    311 non-null    object        \n",
      " 5   HispanicLatino              311 non-null    int64         \n",
      " 6   RaceDesc                    311 non-null    object        \n",
      " 7   DateofHire                  311 non-null    datetime64[ns]\n",
      " 8   Department                  311 non-null    object        \n",
      " 9   ManagerName                 311 non-null    object        \n",
      " 10  RecruitmentSource           311 non-null    object        \n",
      " 11  PerformanceScore            311 non-null    object        \n",
      " 12  SpecialProjectsCount        311 non-null    object        \n",
      " 13  LastPerformanceReview_Date  311 non-null    datetime64[ns]\n",
      " 14  DaysLateLast30              311 non-null    int64         \n",
      " 15  Absences                    311 non-null    object        \n",
      " 16  in_MA                       311 non-null    int64         \n",
      " 17  citizen                     311 non-null    int64         \n",
      " 18  age_hired                   311 non-null    int64         \n",
      "dtypes: datetime64[ns](2), int64(9), object(8)\n",
      "memory usage: 46.3+ KB\n"
     ]
    }
   ],
   "source": [
    "#Initial feature selection\n",
    "\n",
    "cols_to_keep = ['MarriedID', 'GenderID','FromDiversityJobFairID', 'Salary', \n",
    "                'Position', 'HispanicLatino', 'RaceDesc', 'DateofHire',\n",
    "                'Department','ManagerName', 'RecruitmentSource', \n",
    "                'PerformanceScore','SpecialProjectsCount',\n",
    "                'LastPerformanceReview_Date', 'DaysLateLast30', 'Absences', \n",
    "                'in_MA','citizen', 'age_hired']\n",
    "\n",
    "#check data types\n",
    "df[cols_to_keep].info()"
   ]
  },
  {
   "cell_type": "code",
   "execution_count": null,
   "metadata": {},
   "outputs": [],
   "source": []
  }
 ],
 "metadata": {
  "kernelspec": {
   "display_name": "Python (learn-env)",
   "language": "python",
   "name": "learn-env"
  },
  "language_info": {
   "codemirror_mode": {
    "name": "ipython",
    "version": 3
   },
   "file_extension": ".py",
   "mimetype": "text/x-python",
   "name": "python",
   "nbconvert_exporter": "python",
   "pygments_lexer": "ipython3",
   "version": "3.8.5"
  },
  "toc": {
   "base_numbering": 1,
   "nav_menu": {},
   "number_sections": true,
   "sideBar": true,
   "skip_h1_title": false,
   "title_cell": "Table of Contents",
   "title_sidebar": "Contents",
   "toc_cell": false,
   "toc_position": {},
   "toc_section_display": true,
   "toc_window_display": false
  }
 },
 "nbformat": 4,
 "nbformat_minor": 4
}
