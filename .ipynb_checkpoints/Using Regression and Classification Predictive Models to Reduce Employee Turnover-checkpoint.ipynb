{
 "cells": [
  {
   "cell_type": "markdown",
   "metadata": {},
   "source": [
    "# Business Problem"
   ]
  },
  {
   "cell_type": "markdown",
   "metadata": {},
   "source": [
    "The company is concerned about its employee turnover and wants to use their HR data to: \n",
    "\n",
    "- predict employee engagement and satisfaction\n",
    "- predict who is likely to terminate their employment\n",
    "\n",
    "They currently administer an employee attitude survey annually, but are finding that it would be more beneficial to have a way to get a more frequent \"temperature check\" of their employees' satisfaction and engagement. They are concerned that increasing the frequency of the survey will cause employees to rush through it an reduce the validity of the results.  \n",
    "\n",
    "The company also wants recommendations on what interventions may help to reduce employee turnover."
   ]
  },
  {
   "cell_type": "markdown",
   "metadata": {},
   "source": [
    "# Business Value\n",
    "\n",
    "It is more cost-effective for the company to address the underlying issues behind employee termination than to hire and train new employees. By predicting who is likely to terminate employment (without relying on employee disclosure on survey data), the company can intervene before employment is terminated. "
   ]
  },
  {
   "cell_type": "markdown",
   "metadata": {},
   "source": [
    "# Methodology\n",
    "\n",
    "- Prepare the data for modeling\n",
    "- Use regression to predict a continuous target that measures employee satisfaction and engagement\n",
    "- Use classification to predict which employees are likely to terminate their employment\n",
    "- Use statistical analysis and data visualizations to summarize the findings and make recommendations\n",
    "- Create a Tableau storyboard to present the findings\n",
    "\n",
    "\n",
    "**A note on visualizations - The graphs in this notebook are for exploratory purposes only and so have minimal formatting. The final graphs for presentation will be in Tableau.**\n"
   ]
  },
  {
   "cell_type": "code",
   "execution_count": 1,
   "metadata": {
    "ExecuteTime": {
     "end_time": "2021-12-18T19:54:13.796228Z",
     "start_time": "2021-12-18T19:54:11.802714Z"
    }
   },
   "outputs": [],
   "source": [
    "import numpy as np\n",
    "import pandas as pd\n",
    "\n",
    "import matplotlib.pyplot as plt\n",
    "import seaborn as sns\n",
    "\n",
    "from datetime import datetime\n",
    "from dateutil.relativedelta import relativedelta\n",
    "\n",
    "from sklearn.model_selection import train_test_split \n",
    "from sklearn.preprocessing import OneHotEncoder\n",
    "from sklearn.preprocessing import StandardScaler \n",
    "from sklearn.dummy import DummyRegressor\n",
    "from sklearn.preprocessing import PolynomialFeatures \n",
    "from sklearn.model_selection import cross_val_score \n",
    "from sklearn.model_selection import GridSearchCV \n",
    "from sklearn.model_selection import cross_validate \n",
    "from sklearn.feature_selection import RFE\n",
    "from sklearn.linear_model import LinearRegression \n",
    "from sklearn.linear_model import Ridge\n",
    "from sklearn.linear_model import Lasso\n",
    "from sklearn.linear_model import ElasticNet\n",
    "from sklearn.compose import ColumnTransformer \n",
    "from sklearn.pipeline import Pipeline\n",
    "import statsmodels.api as sm\n",
    "from statsmodels.formula.api import ols\n",
    "from statsmodels.stats.outliers_influence import variance_inflation_factor \n",
    "from statsmodels.stats.stattools import durbin_watson\n",
    "from scipy import stats \n",
    "import math\n",
    "\n",
    "%matplotlib inline"
   ]
  },
  {
   "cell_type": "code",
   "execution_count": 2,
   "metadata": {
    "ExecuteTime": {
     "end_time": "2021-12-18T19:54:13.801375Z",
     "start_time": "2021-12-18T19:54:13.797997Z"
    }
   },
   "outputs": [],
   "source": [
    "#Set graph styles and colors\n",
    "\n",
    "sns.set_style('darkgrid') \n",
    "sns.set_context('talk') \n",
    "NEUTRAL = '#5f8195' \n",
    "HIGHLIGHT = '#00c3b1' \n",
    "DARK_NEUTRAL = '#3d3d3d' \n",
    "LIGHT_NEUTRAL = '#dff2f7' \n",
    "BRICK = '#b45f06'\n",
    "MEDIUM = '#7aa3ad' \n",
    "GREEN = '#64be3c' \n",
    "PALETTE = 'deep'\n",
    "\n",
    "\n",
    "RANDOM = 99"
   ]
  },
  {
   "cell_type": "code",
   "execution_count": 3,
   "metadata": {
    "ExecuteTime": {
     "end_time": "2021-12-18T19:54:13.872733Z",
     "start_time": "2021-12-18T19:54:13.803350Z"
    },
    "scrolled": true
   },
   "outputs": [
    {
     "data": {
      "text/html": [
       "<div>\n",
       "<style scoped>\n",
       "    .dataframe tbody tr th:only-of-type {\n",
       "        vertical-align: middle;\n",
       "    }\n",
       "\n",
       "    .dataframe tbody tr th {\n",
       "        vertical-align: top;\n",
       "    }\n",
       "\n",
       "    .dataframe thead th {\n",
       "        text-align: right;\n",
       "    }\n",
       "</style>\n",
       "<table border=\"1\" class=\"dataframe\">\n",
       "  <thead>\n",
       "    <tr style=\"text-align: right;\">\n",
       "      <th></th>\n",
       "      <th>Employee_Name</th>\n",
       "      <th>EmpID</th>\n",
       "      <th>MarriedID</th>\n",
       "      <th>MaritalStatusID</th>\n",
       "      <th>GenderID</th>\n",
       "      <th>EmpStatusID</th>\n",
       "      <th>DeptID</th>\n",
       "      <th>PerfScoreID</th>\n",
       "      <th>FromDiversityJobFairID</th>\n",
       "      <th>Salary</th>\n",
       "      <th>...</th>\n",
       "      <th>ManagerName</th>\n",
       "      <th>ManagerID</th>\n",
       "      <th>RecruitmentSource</th>\n",
       "      <th>PerformanceScore</th>\n",
       "      <th>EngagementSurvey</th>\n",
       "      <th>EmpSatisfaction</th>\n",
       "      <th>SpecialProjectsCount</th>\n",
       "      <th>LastPerformanceReview_Date</th>\n",
       "      <th>DaysLateLast30</th>\n",
       "      <th>Absences</th>\n",
       "    </tr>\n",
       "  </thead>\n",
       "  <tbody>\n",
       "    <tr>\n",
       "      <th>0</th>\n",
       "      <td>Adinolfi, Wilson  K</td>\n",
       "      <td>10026</td>\n",
       "      <td>0</td>\n",
       "      <td>0</td>\n",
       "      <td>1</td>\n",
       "      <td>1</td>\n",
       "      <td>5</td>\n",
       "      <td>4</td>\n",
       "      <td>0</td>\n",
       "      <td>62506</td>\n",
       "      <td>...</td>\n",
       "      <td>Michael Albert</td>\n",
       "      <td>22.0</td>\n",
       "      <td>LinkedIn</td>\n",
       "      <td>Exceeds</td>\n",
       "      <td>4.60</td>\n",
       "      <td>5</td>\n",
       "      <td>0</td>\n",
       "      <td>1/17/2019</td>\n",
       "      <td>0</td>\n",
       "      <td>1</td>\n",
       "    </tr>\n",
       "    <tr>\n",
       "      <th>1</th>\n",
       "      <td>Ait Sidi, Karthikeyan</td>\n",
       "      <td>10084</td>\n",
       "      <td>1</td>\n",
       "      <td>1</td>\n",
       "      <td>1</td>\n",
       "      <td>5</td>\n",
       "      <td>3</td>\n",
       "      <td>3</td>\n",
       "      <td>0</td>\n",
       "      <td>104437</td>\n",
       "      <td>...</td>\n",
       "      <td>Simon Roup</td>\n",
       "      <td>4.0</td>\n",
       "      <td>Indeed</td>\n",
       "      <td>Fully Meets</td>\n",
       "      <td>4.96</td>\n",
       "      <td>3</td>\n",
       "      <td>6</td>\n",
       "      <td>2/24/2016</td>\n",
       "      <td>0</td>\n",
       "      <td>17</td>\n",
       "    </tr>\n",
       "    <tr>\n",
       "      <th>2</th>\n",
       "      <td>Akinkuolie, Sarah</td>\n",
       "      <td>10196</td>\n",
       "      <td>1</td>\n",
       "      <td>1</td>\n",
       "      <td>0</td>\n",
       "      <td>5</td>\n",
       "      <td>5</td>\n",
       "      <td>3</td>\n",
       "      <td>0</td>\n",
       "      <td>64955</td>\n",
       "      <td>...</td>\n",
       "      <td>Kissy Sullivan</td>\n",
       "      <td>20.0</td>\n",
       "      <td>LinkedIn</td>\n",
       "      <td>Fully Meets</td>\n",
       "      <td>3.02</td>\n",
       "      <td>3</td>\n",
       "      <td>0</td>\n",
       "      <td>5/15/2012</td>\n",
       "      <td>0</td>\n",
       "      <td>3</td>\n",
       "    </tr>\n",
       "    <tr>\n",
       "      <th>3</th>\n",
       "      <td>Alagbe,Trina</td>\n",
       "      <td>10088</td>\n",
       "      <td>1</td>\n",
       "      <td>1</td>\n",
       "      <td>0</td>\n",
       "      <td>1</td>\n",
       "      <td>5</td>\n",
       "      <td>3</td>\n",
       "      <td>0</td>\n",
       "      <td>64991</td>\n",
       "      <td>...</td>\n",
       "      <td>Elijiah Gray</td>\n",
       "      <td>16.0</td>\n",
       "      <td>Indeed</td>\n",
       "      <td>Fully Meets</td>\n",
       "      <td>4.84</td>\n",
       "      <td>5</td>\n",
       "      <td>0</td>\n",
       "      <td>1/3/2019</td>\n",
       "      <td>0</td>\n",
       "      <td>15</td>\n",
       "    </tr>\n",
       "    <tr>\n",
       "      <th>4</th>\n",
       "      <td>Anderson, Carol</td>\n",
       "      <td>10069</td>\n",
       "      <td>0</td>\n",
       "      <td>2</td>\n",
       "      <td>0</td>\n",
       "      <td>5</td>\n",
       "      <td>5</td>\n",
       "      <td>3</td>\n",
       "      <td>0</td>\n",
       "      <td>50825</td>\n",
       "      <td>...</td>\n",
       "      <td>Webster Butler</td>\n",
       "      <td>39.0</td>\n",
       "      <td>Google Search</td>\n",
       "      <td>Fully Meets</td>\n",
       "      <td>5.00</td>\n",
       "      <td>4</td>\n",
       "      <td>0</td>\n",
       "      <td>2/1/2016</td>\n",
       "      <td>0</td>\n",
       "      <td>2</td>\n",
       "    </tr>\n",
       "  </tbody>\n",
       "</table>\n",
       "<p>5 rows × 36 columns</p>\n",
       "</div>"
      ],
      "text/plain": [
       "              Employee_Name  EmpID  MarriedID  MaritalStatusID  GenderID  \\\n",
       "0       Adinolfi, Wilson  K  10026          0                0         1   \n",
       "1  Ait Sidi, Karthikeyan     10084          1                1         1   \n",
       "2         Akinkuolie, Sarah  10196          1                1         0   \n",
       "3              Alagbe,Trina  10088          1                1         0   \n",
       "4          Anderson, Carol   10069          0                2         0   \n",
       "\n",
       "   EmpStatusID  DeptID  PerfScoreID  FromDiversityJobFairID  Salary  ...  \\\n",
       "0            1       5            4                       0   62506  ...   \n",
       "1            5       3            3                       0  104437  ...   \n",
       "2            5       5            3                       0   64955  ...   \n",
       "3            1       5            3                       0   64991  ...   \n",
       "4            5       5            3                       0   50825  ...   \n",
       "\n",
       "      ManagerName  ManagerID RecruitmentSource PerformanceScore  \\\n",
       "0  Michael Albert       22.0          LinkedIn          Exceeds   \n",
       "1      Simon Roup        4.0            Indeed      Fully Meets   \n",
       "2  Kissy Sullivan       20.0          LinkedIn      Fully Meets   \n",
       "3    Elijiah Gray       16.0            Indeed      Fully Meets   \n",
       "4  Webster Butler       39.0     Google Search      Fully Meets   \n",
       "\n",
       "   EngagementSurvey EmpSatisfaction SpecialProjectsCount  \\\n",
       "0              4.60               5                    0   \n",
       "1              4.96               3                    6   \n",
       "2              3.02               3                    0   \n",
       "3              4.84               5                    0   \n",
       "4              5.00               4                    0   \n",
       "\n",
       "  LastPerformanceReview_Date DaysLateLast30 Absences  \n",
       "0                  1/17/2019              0        1  \n",
       "1                  2/24/2016              0       17  \n",
       "2                  5/15/2012              0        3  \n",
       "3                   1/3/2019              0       15  \n",
       "4                   2/1/2016              0        2  \n",
       "\n",
       "[5 rows x 36 columns]"
      ]
     },
     "execution_count": 3,
     "metadata": {},
     "output_type": "execute_result"
    }
   ],
   "source": [
    "df = pd.read_csv('HRDataset_v14.csv')\n",
    "df.head()"
   ]
  },
  {
   "cell_type": "code",
   "execution_count": 4,
   "metadata": {
    "ExecuteTime": {
     "end_time": "2021-12-18T19:54:13.884794Z",
     "start_time": "2021-12-18T19:54:13.874961Z"
    }
   },
   "outputs": [
    {
     "name": "stdout",
     "output_type": "stream",
     "text": [
      "<class 'pandas.core.frame.DataFrame'>\n",
      "RangeIndex: 311 entries, 0 to 310\n",
      "Data columns (total 36 columns):\n",
      " #   Column                      Non-Null Count  Dtype  \n",
      "---  ------                      --------------  -----  \n",
      " 0   Employee_Name               311 non-null    object \n",
      " 1   EmpID                       311 non-null    int64  \n",
      " 2   MarriedID                   311 non-null    int64  \n",
      " 3   MaritalStatusID             311 non-null    int64  \n",
      " 4   GenderID                    311 non-null    int64  \n",
      " 5   EmpStatusID                 311 non-null    int64  \n",
      " 6   DeptID                      311 non-null    int64  \n",
      " 7   PerfScoreID                 311 non-null    int64  \n",
      " 8   FromDiversityJobFairID      311 non-null    int64  \n",
      " 9   Salary                      311 non-null    int64  \n",
      " 10  Termd                       311 non-null    int64  \n",
      " 11  PositionID                  311 non-null    int64  \n",
      " 12  Position                    311 non-null    object \n",
      " 13  State                       311 non-null    object \n",
      " 14  Zip                         311 non-null    int64  \n",
      " 15  DOB                         311 non-null    object \n",
      " 16  Sex                         311 non-null    object \n",
      " 17  MaritalDesc                 311 non-null    object \n",
      " 18  CitizenDesc                 311 non-null    object \n",
      " 19  HispanicLatino              311 non-null    object \n",
      " 20  RaceDesc                    311 non-null    object \n",
      " 21  DateofHire                  311 non-null    object \n",
      " 22  DateofTermination           104 non-null    object \n",
      " 23  TermReason                  311 non-null    object \n",
      " 24  EmploymentStatus            311 non-null    object \n",
      " 25  Department                  311 non-null    object \n",
      " 26  ManagerName                 311 non-null    object \n",
      " 27  ManagerID                   303 non-null    float64\n",
      " 28  RecruitmentSource           311 non-null    object \n",
      " 29  PerformanceScore            311 non-null    object \n",
      " 30  EngagementSurvey            311 non-null    float64\n",
      " 31  EmpSatisfaction             311 non-null    int64  \n",
      " 32  SpecialProjectsCount        311 non-null    int64  \n",
      " 33  LastPerformanceReview_Date  311 non-null    object \n",
      " 34  DaysLateLast30              311 non-null    int64  \n",
      " 35  Absences                    311 non-null    int64  \n",
      "dtypes: float64(2), int64(16), object(18)\n",
      "memory usage: 87.6+ KB\n"
     ]
    }
   ],
   "source": [
    "df.info()"
   ]
  },
  {
   "cell_type": "markdown",
   "metadata": {
    "ExecuteTime": {
     "end_time": "2021-12-17T11:25:05.092598Z",
     "start_time": "2021-12-17T11:25:05.081454Z"
    }
   },
   "source": [
    "# Explore the Data and Engineer Features"
   ]
  },
  {
   "cell_type": "code",
   "execution_count": 5,
   "metadata": {
    "ExecuteTime": {
     "end_time": "2021-12-18T19:54:13.890510Z",
     "start_time": "2021-12-18T19:54:13.886479Z"
    }
   },
   "outputs": [
    {
     "data": {
      "text/plain": [
       "(311, 0)"
      ]
     },
     "execution_count": 5,
     "metadata": {},
     "output_type": "execute_result"
    }
   ],
   "source": [
    "# There are no repeated and no null values for employee name\n",
    "df['Employee_Name'].nunique(), (df['Employee_Name'].isna()).sum()"
   ]
  },
  {
   "cell_type": "code",
   "execution_count": 6,
   "metadata": {
    "ExecuteTime": {
     "end_time": "2021-12-18T19:54:13.895857Z",
     "start_time": "2021-12-18T19:54:13.892255Z"
    }
   },
   "outputs": [
    {
     "data": {
      "text/plain": [
       "(311, 0)"
      ]
     },
     "execution_count": 6,
     "metadata": {},
     "output_type": "execute_result"
    }
   ],
   "source": [
    "# There are no repeated and no null values for employee name\n",
    "df['EmpID'].nunique(), (df['EmpID'].isna()).sum()"
   ]
  },
  {
   "cell_type": "code",
   "execution_count": 7,
   "metadata": {
    "ExecuteTime": {
     "end_time": "2021-12-18T19:54:13.903446Z",
     "start_time": "2021-12-18T19:54:13.897151Z"
    }
   },
   "outputs": [
    {
     "data": {
      "text/plain": [
       "0    0.601286\n",
       "1    0.398714\n",
       "Name: MarriedID, dtype: float64"
      ]
     },
     "execution_count": 7,
     "metadata": {},
     "output_type": "execute_result"
    }
   ],
   "source": [
    "#60% of the employees are not married\n",
    "df['MarriedID'].value_counts(normalize=True)"
   ]
  },
  {
   "cell_type": "code",
   "execution_count": 8,
   "metadata": {
    "ExecuteTime": {
     "end_time": "2021-12-18T19:54:13.910871Z",
     "start_time": "2021-12-18T19:54:13.906670Z"
    },
    "scrolled": false
   },
   "outputs": [
    {
     "data": {
      "text/plain": [
       "0    0.440514\n",
       "1    0.398714\n",
       "2    0.096463\n",
       "3    0.038585\n",
       "4    0.025723\n",
       "Name: MaritalStatusID, dtype: float64"
      ]
     },
     "execution_count": 8,
     "metadata": {},
     "output_type": "execute_result"
    }
   ],
   "source": [
    "#Numerical coding of MaritalDesc column\n",
    "df['MaritalStatusID'].value_counts(normalize=True)"
   ]
  },
  {
   "cell_type": "code",
   "execution_count": 9,
   "metadata": {
    "ExecuteTime": {
     "end_time": "2021-12-18T19:54:13.918411Z",
     "start_time": "2021-12-18T19:54:13.913441Z"
    },
    "scrolled": false
   },
   "outputs": [
    {
     "data": {
      "text/plain": [
       "Single       0.440514\n",
       "Married      0.398714\n",
       "Divorced     0.096463\n",
       "Separated    0.038585\n",
       "Widowed      0.025723\n",
       "Name: MaritalDesc, dtype: float64"
      ]
     },
     "execution_count": 9,
     "metadata": {},
     "output_type": "execute_result"
    }
   ],
   "source": [
    "df['MaritalDesc'].value_counts(normalize=True)"
   ]
  },
  {
   "cell_type": "markdown",
   "metadata": {},
   "source": [
    "Because there is not an ordinal relationship between the marital categories, it does not make sense to have them numerically coded. Since these will need to be on-hot-encoded for any models, I am going to drop the numerical column and keep the one with the descriptions, as it is easier to use."
   ]
  },
  {
   "cell_type": "code",
   "execution_count": 10,
   "metadata": {
    "ExecuteTime": {
     "end_time": "2021-12-18T19:54:13.923564Z",
     "start_time": "2021-12-18T19:54:13.920251Z"
    }
   },
   "outputs": [],
   "source": [
    "df.drop('MaritalStatusID', axis=1, inplace=True)"
   ]
  },
  {
   "cell_type": "code",
   "execution_count": 11,
   "metadata": {
    "ExecuteTime": {
     "end_time": "2021-12-18T19:54:13.929645Z",
     "start_time": "2021-12-18T19:54:13.924823Z"
    }
   },
   "outputs": [
    {
     "data": {
      "text/plain": [
       "0    0.565916\n",
       "1    0.434084\n",
       "Name: GenderID, dtype: float64"
      ]
     },
     "execution_count": 11,
     "metadata": {},
     "output_type": "execute_result"
    }
   ],
   "source": [
    "#Numerical coding for Sex column; slight more than half of the employees are\n",
    "#female\n",
    "df['GenderID'].value_counts(normalize=True)"
   ]
  },
  {
   "cell_type": "code",
   "execution_count": 12,
   "metadata": {
    "ExecuteTime": {
     "end_time": "2021-12-18T19:54:13.936241Z",
     "start_time": "2021-12-18T19:54:13.931536Z"
    }
   },
   "outputs": [
    {
     "data": {
      "text/plain": [
       "F     0.565916\n",
       "M     0.434084\n",
       "Name: Sex, dtype: float64"
      ]
     },
     "execution_count": 12,
     "metadata": {},
     "output_type": "execute_result"
    }
   ],
   "source": [
    "df['Sex'].value_counts(normalize=True)"
   ]
  },
  {
   "cell_type": "code",
   "execution_count": 13,
   "metadata": {
    "ExecuteTime": {
     "end_time": "2021-12-18T19:54:13.942318Z",
     "start_time": "2021-12-18T19:54:13.937728Z"
    }
   },
   "outputs": [
    {
     "data": {
      "text/plain": [
       "1    0.591640\n",
       "5    0.282958\n",
       "4    0.045016\n",
       "3    0.045016\n",
       "2    0.035370\n",
       "Name: EmpStatusID, dtype: float64"
      ]
     },
     "execution_count": 13,
     "metadata": {},
     "output_type": "execute_result"
    }
   ],
   "source": [
    "df['EmpStatusID'].value_counts(normalize=True)"
   ]
  },
  {
   "cell_type": "code",
   "execution_count": 14,
   "metadata": {
    "ExecuteTime": {
     "end_time": "2021-12-18T19:54:13.948420Z",
     "start_time": "2021-12-18T19:54:13.943610Z"
    }
   },
   "outputs": [
    {
     "data": {
      "text/plain": [
       "Active                    0.665595\n",
       "Voluntarily Terminated    0.282958\n",
       "Terminated for Cause      0.051447\n",
       "Name: EmploymentStatus, dtype: float64"
      ]
     },
     "execution_count": 14,
     "metadata": {},
     "output_type": "execute_result"
    }
   ],
   "source": [
    "df['EmploymentStatus'].value_counts(normalize=True)"
   ]
  },
  {
   "cell_type": "markdown",
   "metadata": {},
   "source": [
    "The documentation states that these two columns should align. While 5 is clearly \"Voluntarily Terminated,\" the other values are unclear. I am going to remove the numerically encoded column since it is ambiguous and most likely is incorrectly showing a numerical relationship. "
   ]
  },
  {
   "cell_type": "code",
   "execution_count": 15,
   "metadata": {
    "ExecuteTime": {
     "end_time": "2021-12-18T19:54:13.953751Z",
     "start_time": "2021-12-18T19:54:13.950530Z"
    }
   },
   "outputs": [],
   "source": [
    "df.drop('EmpStatusID', axis=1, inplace=True)"
   ]
  },
  {
   "cell_type": "code",
   "execution_count": 16,
   "metadata": {
    "ExecuteTime": {
     "end_time": "2021-12-18T19:54:13.959888Z",
     "start_time": "2021-12-18T19:54:13.955415Z"
    }
   },
   "outputs": [
    {
     "data": {
      "text/plain": [
       "5    0.668810\n",
       "3    0.160772\n",
       "6    0.102894\n",
       "4    0.032154\n",
       "1    0.032154\n",
       "2    0.003215\n",
       "Name: DeptID, dtype: float64"
      ]
     },
     "execution_count": 16,
     "metadata": {},
     "output_type": "execute_result"
    }
   ],
   "source": [
    "df['DeptID'].value_counts(normalize=True)"
   ]
  },
  {
   "cell_type": "code",
   "execution_count": 17,
   "metadata": {
    "ExecuteTime": {
     "end_time": "2021-12-18T19:54:13.966696Z",
     "start_time": "2021-12-18T19:54:13.961300Z"
    }
   },
   "outputs": [
    {
     "data": {
      "text/plain": [
       "Production              0.672026\n",
       "IT/IS                   0.160772\n",
       "Sales                   0.099678\n",
       "Software Engineering    0.035370\n",
       "Admin Offices           0.028939\n",
       "Executive Office        0.003215\n",
       "Name: Department, dtype: float64"
      ]
     },
     "execution_count": 17,
     "metadata": {},
     "output_type": "execute_result"
    }
   ],
   "source": [
    "df[\"Department\"].value_counts(normalize=True)"
   ]
  },
  {
   "cell_type": "markdown",
   "metadata": {},
   "source": [
    "Department ID has the same issue as marital status. I will take the same approach with this column and with any others that are incorrectly coded to imply cardinality."
   ]
  },
  {
   "cell_type": "code",
   "execution_count": 18,
   "metadata": {
    "ExecuteTime": {
     "end_time": "2021-12-18T19:54:13.971038Z",
     "start_time": "2021-12-18T19:54:13.968152Z"
    }
   },
   "outputs": [],
   "source": [
    "df.drop('DeptID', axis=1, inplace=True)"
   ]
  },
  {
   "cell_type": "code",
   "execution_count": 19,
   "metadata": {
    "ExecuteTime": {
     "end_time": "2021-12-18T19:54:13.977121Z",
     "start_time": "2021-12-18T19:54:13.972475Z"
    }
   },
   "outputs": [
    {
     "data": {
      "text/plain": [
       "3    0.781350\n",
       "4    0.118971\n",
       "2    0.057878\n",
       "1    0.041801\n",
       "Name: PerfScoreID, dtype: float64"
      ]
     },
     "execution_count": 19,
     "metadata": {},
     "output_type": "execute_result"
    }
   ],
   "source": [
    "df['PerfScoreID'].value_counts(normalize=True)"
   ]
  },
  {
   "cell_type": "code",
   "execution_count": 20,
   "metadata": {
    "ExecuteTime": {
     "end_time": "2021-12-18T19:54:13.984004Z",
     "start_time": "2021-12-18T19:54:13.978749Z"
    }
   },
   "outputs": [
    {
     "data": {
      "text/plain": [
       "Fully Meets          0.781350\n",
       "Exceeds              0.118971\n",
       "Needs Improvement    0.057878\n",
       "PIP                  0.041801\n",
       "Name: PerformanceScore, dtype: float64"
      ]
     },
     "execution_count": 20,
     "metadata": {},
     "output_type": "execute_result"
    }
   ],
   "source": [
    "df[\"PerformanceScore\"].value_counts(normalize=True)"
   ]
  },
  {
   "cell_type": "code",
   "execution_count": 21,
   "metadata": {
    "ExecuteTime": {
     "end_time": "2021-12-18T19:54:13.988380Z",
     "start_time": "2021-12-18T19:54:13.985532Z"
    }
   },
   "outputs": [],
   "source": [
    "#Eliminate whitespaces in values\n",
    "df[\"PerformanceScore\"] = (\n",
    "    df[\"PerformanceScore\"].apply(lambda x: x.replace(' ','_'))\n",
    ")"
   ]
  },
  {
   "cell_type": "code",
   "execution_count": 22,
   "metadata": {
    "ExecuteTime": {
     "end_time": "2021-12-18T19:54:13.992674Z",
     "start_time": "2021-12-18T19:54:13.989760Z"
    }
   },
   "outputs": [],
   "source": [
    "df.drop('PerfScoreID', axis=1, inplace=True)"
   ]
  },
  {
   "cell_type": "code",
   "execution_count": 23,
   "metadata": {
    "ExecuteTime": {
     "end_time": "2021-12-18T19:54:14.002483Z",
     "start_time": "2021-12-18T19:54:13.998064Z"
    }
   },
   "outputs": [
    {
     "data": {
      "text/plain": [
       "0    0.906752\n",
       "1    0.093248\n",
       "Name: FromDiversityJobFairID, dtype: float64"
      ]
     },
     "execution_count": 23,
     "metadata": {},
     "output_type": "execute_result"
    }
   ],
   "source": [
    "#Just under 10% of the employees came from a diversity job fair\n",
    "df['FromDiversityJobFairID'].value_counts(normalize=True)"
   ]
  },
  {
   "cell_type": "code",
   "execution_count": 24,
   "metadata": {
    "ExecuteTime": {
     "end_time": "2021-12-18T19:54:14.012221Z",
     "start_time": "2021-12-18T19:54:14.006803Z"
    }
   },
   "outputs": [
    {
     "data": {
      "text/plain": [
       "count       311.000000\n",
       "mean      69020.684887\n",
       "std       25156.636930\n",
       "min       45046.000000\n",
       "25%       55501.500000\n",
       "50%       62810.000000\n",
       "75%       72036.000000\n",
       "max      250000.000000\n",
       "Name: Salary, dtype: float64"
      ]
     },
     "execution_count": 24,
     "metadata": {},
     "output_type": "execute_result"
    }
   ],
   "source": [
    "#Salaries range from roughly $45,000 to $250,000. That is a reasonable range.\n",
    "df['Salary'].describe()"
   ]
  },
  {
   "cell_type": "code",
   "execution_count": 25,
   "metadata": {
    "ExecuteTime": {
     "end_time": "2021-12-18T19:54:14.181092Z",
     "start_time": "2021-12-18T19:54:14.013878Z"
    },
    "scrolled": true
   },
   "outputs": [
    {
     "data": {
      "image/png": "[encoded data removed]",
      "text/plain": [
       "<Figure size 432x288 with 1 Axes>"
      ]
     },
     "metadata": {},
     "output_type": "display_data"
    }
   ],
   "source": [
    "df['Salary'].hist(bins=20, color=NEUTRAL)\n",
    "plt.title('Distribution of Salary');"
   ]
  },
  {
   "cell_type": "code",
   "execution_count": 26,
   "metadata": {
    "ExecuteTime": {
     "end_time": "2021-12-18T19:54:14.313725Z",
     "start_time": "2021-12-18T19:54:14.183179Z"
    }
   },
   "outputs": [
    {
     "data": {
      "image/png": "[encoded data removed]",
      "text/plain": [
       "<Figure size 432x288 with 1 Axes>"
      ]
     },
     "metadata": {},
     "output_type": "display_data"
    }
   ],
   "source": [
    "#Add a logged salary column to make the distribution more normal\n",
    "df['salary_log'] = np.log(df['Salary'])\n",
    "df['salary_log'].hist(bins=20, color=NEUTRAL)\n",
    "plt.title('Distribution of Logged Salary');"
   ]
  },
  {
   "cell_type": "markdown",
   "metadata": {},
   "source": [
    "The data are bimodal, with the largest number of employees making around \\\\$60,000 and another group (management?) clustered around \\\\$90,000."
   ]
  },
  {
   "cell_type": "code",
   "execution_count": 27,
   "metadata": {
    "ExecuteTime": {
     "end_time": "2021-12-18T19:54:14.321014Z",
     "start_time": "2021-12-18T19:54:14.315690Z"
    }
   },
   "outputs": [
    {
     "data": {
      "text/plain": [
       "0    207\n",
       "1    104\n",
       "Name: Termd, dtype: int64"
      ]
     },
     "execution_count": 27,
     "metadata": {},
     "output_type": "execute_result"
    }
   ],
   "source": [
    "df['Termd'].value_counts()"
   ]
  },
  {
   "cell_type": "code",
   "execution_count": 28,
   "metadata": {
    "ExecuteTime": {
     "end_time": "2021-12-18T19:54:14.328246Z",
     "start_time": "2021-12-18T19:54:14.322998Z"
    }
   },
   "outputs": [
    {
     "data": {
      "text/plain": [
       "19    0.440514\n",
       "20    0.183280\n",
       "3     0.086817\n",
       "18    0.041801\n",
       "24    0.028939\n",
       "14    0.025723\n",
       "9     0.025723\n",
       "15    0.016077\n",
       "28    0.016077\n",
       "8     0.016077\n",
       "4     0.012862\n",
       "13    0.012862\n",
       "2     0.009646\n",
       "1     0.009646\n",
       "21    0.009646\n",
       "22    0.009646\n",
       "23    0.006431\n",
       "26    0.006431\n",
       "27    0.006431\n",
       "16    0.003215\n",
       "29    0.003215\n",
       "17    0.003215\n",
       "12    0.003215\n",
       "11    0.003215\n",
       "10    0.003215\n",
       "7     0.003215\n",
       "6     0.003215\n",
       "5     0.003215\n",
       "25    0.003215\n",
       "30    0.003215\n",
       "Name: PositionID, dtype: float64"
      ]
     },
     "execution_count": 28,
     "metadata": {},
     "output_type": "execute_result"
    }
   ],
   "source": [
    "df['PositionID'].value_counts(normalize=True)"
   ]
  },
  {
   "cell_type": "code",
   "execution_count": 29,
   "metadata": {
    "ExecuteTime": {
     "end_time": "2021-12-18T19:54:14.334345Z",
     "start_time": "2021-12-18T19:54:14.330197Z"
    }
   },
   "outputs": [
    {
     "data": {
      "text/plain": [
       "Production Technician I         137\n",
       "Production Technician II         57\n",
       "Area Sales Manager               27\n",
       "Production Manager               14\n",
       "Software Engineer                10\n",
       "IT Support                        8\n",
       "Data Analyst                      7\n",
       "Network Engineer                  5\n",
       "Sr. Network Engineer              5\n",
       "Database Administrator            5\n",
       "BI Developer                      4\n",
       "Administrative Assistant          3\n",
       "Accountant I                      3\n",
       "Senior BI Developer               3\n",
       "Sales Manager                     3\n",
       "IT Manager - DB                   2\n",
       "Sr. Accountant                    2\n",
       "Sr. DBA                           2\n",
       "IT Manager - Support              1\n",
       "IT Director                       1\n",
       "Director of Operations            1\n",
       "President & CEO                   1\n",
       "Data Analyst                      1\n",
       "Data Architect                    1\n",
       "BI Director                       1\n",
       "Enterprise Architect              1\n",
       "Software Engineering Manager      1\n",
       "Shared Services Manager           1\n",
       "CIO                               1\n",
       "Director of Sales                 1\n",
       "Principal Data Architect          1\n",
       "IT Manager - Infra                1\n",
       "Name: Position, dtype: int64"
      ]
     },
     "execution_count": 29,
     "metadata": {},
     "output_type": "execute_result"
    }
   ],
   "source": [
    "df['Position'].value_counts()"
   ]
  },
  {
   "cell_type": "code",
   "execution_count": 30,
   "metadata": {
    "ExecuteTime": {
     "end_time": "2021-12-18T19:54:14.339018Z",
     "start_time": "2021-12-18T19:54:14.335860Z"
    }
   },
   "outputs": [],
   "source": [
    "df.drop('PositionID', axis=1, inplace=True)"
   ]
  },
  {
   "cell_type": "markdown",
   "metadata": {},
   "source": [
    "I may want to bin these by broad category later."
   ]
  },
  {
   "cell_type": "code",
   "execution_count": 31,
   "metadata": {
    "ExecuteTime": {
     "end_time": "2021-12-18T19:54:14.654499Z",
     "start_time": "2021-12-18T19:54:14.340465Z"
    },
    "scrolled": true
   },
   "outputs": [
    {
     "data": {
      "image/png": "[encoded data removed]",
      "text/plain": [
       "<Figure size 864x1440 with 1 Axes>"
      ]
     },
     "metadata": {},
     "output_type": "display_data"
    }
   ],
   "source": [
    "(df.groupby\n",
    "     ('Position')\n",
    "     ['Salary']\n",
    "    .mean()\n",
    "    .sort_values()\n",
    "    .plot(\n",
    "        kind='barh', \n",
    "        figsize=(12,20),\n",
    "        color=NEUTRAL\n",
    "    )\n",
    ")\n",
    "plt.title('Average Salary by Position');"
   ]
  },
  {
   "cell_type": "code",
   "execution_count": 32,
   "metadata": {
    "ExecuteTime": {
     "end_time": "2021-12-18T19:54:14.662504Z",
     "start_time": "2021-12-18T19:54:14.656759Z"
    }
   },
   "outputs": [
    {
     "data": {
      "text/plain": [
       "MA    0.887460\n",
       "CT    0.019293\n",
       "TX    0.009646\n",
       "VT    0.006431\n",
       "WA    0.003215\n",
       "AZ    0.003215\n",
       "MT    0.003215\n",
       "NY    0.003215\n",
       "NC    0.003215\n",
       "OR    0.003215\n",
       "ID    0.003215\n",
       "CA    0.003215\n",
       "KY    0.003215\n",
       "NV    0.003215\n",
       "OH    0.003215\n",
       "GA    0.003215\n",
       "ME    0.003215\n",
       "VA    0.003215\n",
       "IN    0.003215\n",
       "PA    0.003215\n",
       "NH    0.003215\n",
       "AL    0.003215\n",
       "ND    0.003215\n",
       "TN    0.003215\n",
       "UT    0.003215\n",
       "CO    0.003215\n",
       "RI    0.003215\n",
       "FL    0.003215\n",
       "Name: State, dtype: float64"
      ]
     },
     "execution_count": 32,
     "metadata": {},
     "output_type": "execute_result"
    }
   ],
   "source": [
    "df['State'].value_counts(normalize=True)"
   ]
  },
  {
   "cell_type": "markdown",
   "metadata": {},
   "source": [
    "The vast majority of the employees are from MA and perhaps the rest are remote. First, I will check to make sure that the non-MA addresses are not only associated with people no longer employed by the company who may have moved and had their address updated."
   ]
  },
  {
   "cell_type": "code",
   "execution_count": 33,
   "metadata": {
    "ExecuteTime": {
     "end_time": "2021-12-18T19:54:14.668904Z",
     "start_time": "2021-12-18T19:54:14.664207Z"
    }
   },
   "outputs": [
    {
     "data": {
      "text/plain": [
       "State\n",
       "AL     0\n",
       "AZ     0\n",
       "CA     0\n",
       "CO     0\n",
       "CT     1\n",
       "FL     0\n",
       "GA     0\n",
       "ID     0\n",
       "IN     0\n",
       "KY     0\n",
       "MA    99\n",
       "ME     0\n",
       "MT     0\n",
       "NC     0\n",
       "ND     0\n",
       "NH     0\n",
       "NV     0\n",
       "NY     0\n",
       "OH     1\n",
       "OR     0\n",
       "PA     1\n",
       "RI     0\n",
       "TN     1\n",
       "TX     0\n",
       "UT     0\n",
       "VA     1\n",
       "VT     0\n",
       "WA     0\n",
       "Name: Termd, dtype: int64"
      ]
     },
     "execution_count": 33,
     "metadata": {},
     "output_type": "execute_result"
    }
   ],
   "source": [
    "df.groupby('State')['Termd'].sum()"
   ]
  },
  {
   "cell_type": "markdown",
   "metadata": {},
   "source": [
    "It does not appear that there is a correlation between employees having an out of state address and no longer working for the company. Since the majority of employees are in MA (and there does not seem to be a reason to keep the granularity of the individual states), I am going to create a binary column to indicate if the employee is in MA."
   ]
  },
  {
   "cell_type": "code",
   "execution_count": 34,
   "metadata": {
    "ExecuteTime": {
     "end_time": "2021-12-18T19:54:14.672620Z",
     "start_time": "2021-12-18T19:54:14.670025Z"
    }
   },
   "outputs": [],
   "source": [
    "df['in_MA'] = np.where(df['State'] == 'MA', 1, 0)"
   ]
  },
  {
   "cell_type": "code",
   "execution_count": 35,
   "metadata": {
    "ExecuteTime": {
     "end_time": "2021-12-18T19:54:14.678406Z",
     "start_time": "2021-12-18T19:54:14.673924Z"
    }
   },
   "outputs": [
    {
     "data": {
      "text/plain": [
       "1886     0.041801\n",
       "2176     0.022508\n",
       "1810     0.022508\n",
       "2451     0.022508\n",
       "2045     0.022508\n",
       "           ...   \n",
       "1864     0.003215\n",
       "1876     0.003215\n",
       "1880     0.003215\n",
       "21851    0.003215\n",
       "1773     0.003215\n",
       "Name: Zip, Length: 158, dtype: float64"
      ]
     },
     "execution_count": 35,
     "metadata": {},
     "output_type": "execute_result"
    }
   ],
   "source": [
    "df['Zip'].value_counts(normalize=True)"
   ]
  },
  {
   "cell_type": "markdown",
   "metadata": {},
   "source": [
    "The values seem to mainly be 4-digit numbers. "
   ]
  },
  {
   "cell_type": "code",
   "execution_count": 36,
   "metadata": {
    "ExecuteTime": {
     "end_time": "2021-12-18T19:54:14.682608Z",
     "start_time": "2021-12-18T19:54:14.679696Z"
    }
   },
   "outputs": [
    {
     "data": {
      "text/plain": [
       "24"
      ]
     },
     "execution_count": 36,
     "metadata": {},
     "output_type": "execute_result"
    }
   ],
   "source": [
    "#Check how many values are 5-digits\n",
    "len([n for n in df['Zip'] if len(str(n)) == 5])"
   ]
  },
  {
   "cell_type": "markdown",
   "metadata": {},
   "source": [
    "Upon research, zip codes in MA have a leading 0, which has been truncated in the current integer format. I will leave this column as-is for now, since it will not be used for modeling and can be transformed later for visualization if needed. "
   ]
  },
  {
   "cell_type": "code",
   "execution_count": 37,
   "metadata": {
    "ExecuteTime": {
     "end_time": "2021-12-18T19:54:14.704572Z",
     "start_time": "2021-12-18T19:54:14.683991Z"
    }
   },
   "outputs": [],
   "source": [
    "#convert DOB to datetime\n",
    "df['DOB'] = pd.to_datetime(df['DOB'])"
   ]
  },
  {
   "cell_type": "code",
   "execution_count": 38,
   "metadata": {
    "ExecuteTime": {
     "end_time": "2021-12-18T19:54:14.710856Z",
     "start_time": "2021-12-18T19:54:14.706652Z"
    }
   },
   "outputs": [
    {
     "data": {
      "text/plain": [
       "(Timestamp('1971-07-10 00:00:00'), Timestamp('2070-12-22 00:00:00'))"
      ]
     },
     "execution_count": 38,
     "metadata": {},
     "output_type": "execute_result"
    }
   ],
   "source": [
    "#The oldest person was born in 1971 and there is at least one person coded as \n",
    "#being born in the future\n",
    "df['DOB'].min(), df['DOB'].max()"
   ]
  },
  {
   "cell_type": "code",
   "execution_count": 39,
   "metadata": {
    "ExecuteTime": {
     "end_time": "2021-12-18T19:54:14.741201Z",
     "start_time": "2021-12-18T19:54:14.712789Z"
    }
   },
   "outputs": [
    {
     "data": {
      "text/html": [
       "<div>\n",
       "<style scoped>\n",
       "    .dataframe tbody tr th:only-of-type {\n",
       "        vertical-align: middle;\n",
       "    }\n",
       "\n",
       "    .dataframe tbody tr th {\n",
       "        vertical-align: top;\n",
       "    }\n",
       "\n",
       "    .dataframe thead th {\n",
       "        text-align: right;\n",
       "    }\n",
       "</style>\n",
       "<table border=\"1\" class=\"dataframe\">\n",
       "  <thead>\n",
       "    <tr style=\"text-align: right;\">\n",
       "      <th></th>\n",
       "      <th>Employee_Name</th>\n",
       "      <th>EmpID</th>\n",
       "      <th>MarriedID</th>\n",
       "      <th>GenderID</th>\n",
       "      <th>FromDiversityJobFairID</th>\n",
       "      <th>Salary</th>\n",
       "      <th>Termd</th>\n",
       "      <th>Position</th>\n",
       "      <th>State</th>\n",
       "      <th>Zip</th>\n",
       "      <th>...</th>\n",
       "      <th>RecruitmentSource</th>\n",
       "      <th>PerformanceScore</th>\n",
       "      <th>EngagementSurvey</th>\n",
       "      <th>EmpSatisfaction</th>\n",
       "      <th>SpecialProjectsCount</th>\n",
       "      <th>LastPerformanceReview_Date</th>\n",
       "      <th>DaysLateLast30</th>\n",
       "      <th>Absences</th>\n",
       "      <th>salary_log</th>\n",
       "      <th>in_MA</th>\n",
       "    </tr>\n",
       "  </thead>\n",
       "  <tbody>\n",
       "    <tr>\n",
       "      <th>8</th>\n",
       "      <td>Bachiochi, Linda</td>\n",
       "      <td>10114</td>\n",
       "      <td>0</td>\n",
       "      <td>0</td>\n",
       "      <td>1</td>\n",
       "      <td>47837</td>\n",
       "      <td>0</td>\n",
       "      <td>Production Technician I</td>\n",
       "      <td>MA</td>\n",
       "      <td>1902</td>\n",
       "      <td>...</td>\n",
       "      <td>Diversity Job Fair</td>\n",
       "      <td>Fully_Meets</td>\n",
       "      <td>4.46</td>\n",
       "      <td>3</td>\n",
       "      <td>0</td>\n",
       "      <td>1/25/2019</td>\n",
       "      <td>0</td>\n",
       "      <td>4</td>\n",
       "      <td>10.775555</td>\n",
       "      <td>1</td>\n",
       "    </tr>\n",
       "    <tr>\n",
       "      <th>16</th>\n",
       "      <td>Beak, Kimberly</td>\n",
       "      <td>10023</td>\n",
       "      <td>1</td>\n",
       "      <td>0</td>\n",
       "      <td>0</td>\n",
       "      <td>70131</td>\n",
       "      <td>0</td>\n",
       "      <td>Production Technician II</td>\n",
       "      <td>MA</td>\n",
       "      <td>2145</td>\n",
       "      <td>...</td>\n",
       "      <td>Employee Referral</td>\n",
       "      <td>Exceeds</td>\n",
       "      <td>4.40</td>\n",
       "      <td>3</td>\n",
       "      <td>0</td>\n",
       "      <td>1/14/2019</td>\n",
       "      <td>0</td>\n",
       "      <td>16</td>\n",
       "      <td>11.158120</td>\n",
       "      <td>1</td>\n",
       "    </tr>\n",
       "    <tr>\n",
       "      <th>17</th>\n",
       "      <td>Beatrice, Courtney</td>\n",
       "      <td>10055</td>\n",
       "      <td>0</td>\n",
       "      <td>0</td>\n",
       "      <td>0</td>\n",
       "      <td>59026</td>\n",
       "      <td>0</td>\n",
       "      <td>Production Technician I</td>\n",
       "      <td>MA</td>\n",
       "      <td>1915</td>\n",
       "      <td>...</td>\n",
       "      <td>Google Search</td>\n",
       "      <td>Fully_Meets</td>\n",
       "      <td>5.00</td>\n",
       "      <td>5</td>\n",
       "      <td>0</td>\n",
       "      <td>1/14/2019</td>\n",
       "      <td>0</td>\n",
       "      <td>12</td>\n",
       "      <td>10.985733</td>\n",
       "      <td>1</td>\n",
       "    </tr>\n",
       "    <tr>\n",
       "      <th>20</th>\n",
       "      <td>Bernstein, Sean</td>\n",
       "      <td>10046</td>\n",
       "      <td>0</td>\n",
       "      <td>1</td>\n",
       "      <td>0</td>\n",
       "      <td>51044</td>\n",
       "      <td>0</td>\n",
       "      <td>Production Technician I</td>\n",
       "      <td>MA</td>\n",
       "      <td>2072</td>\n",
       "      <td>...</td>\n",
       "      <td>Google Search</td>\n",
       "      <td>Fully_Meets</td>\n",
       "      <td>5.00</td>\n",
       "      <td>3</td>\n",
       "      <td>0</td>\n",
       "      <td>1/14/2019</td>\n",
       "      <td>0</td>\n",
       "      <td>13</td>\n",
       "      <td>10.840443</td>\n",
       "      <td>1</td>\n",
       "    </tr>\n",
       "    <tr>\n",
       "      <th>21</th>\n",
       "      <td>Biden, Lowan  M</td>\n",
       "      <td>10226</td>\n",
       "      <td>0</td>\n",
       "      <td>0</td>\n",
       "      <td>0</td>\n",
       "      <td>64919</td>\n",
       "      <td>0</td>\n",
       "      <td>Production Technician I</td>\n",
       "      <td>MA</td>\n",
       "      <td>2027</td>\n",
       "      <td>...</td>\n",
       "      <td>Indeed</td>\n",
       "      <td>Fully_Meets</td>\n",
       "      <td>4.20</td>\n",
       "      <td>3</td>\n",
       "      <td>0</td>\n",
       "      <td>1/10/2019</td>\n",
       "      <td>0</td>\n",
       "      <td>2</td>\n",
       "      <td>11.080896</td>\n",
       "      <td>1</td>\n",
       "    </tr>\n",
       "    <tr>\n",
       "      <th>...</th>\n",
       "      <td>...</td>\n",
       "      <td>...</td>\n",
       "      <td>...</td>\n",
       "      <td>...</td>\n",
       "      <td>...</td>\n",
       "      <td>...</td>\n",
       "      <td>...</td>\n",
       "      <td>...</td>\n",
       "      <td>...</td>\n",
       "      <td>...</td>\n",
       "      <td>...</td>\n",
       "      <td>...</td>\n",
       "      <td>...</td>\n",
       "      <td>...</td>\n",
       "      <td>...</td>\n",
       "      <td>...</td>\n",
       "      <td>...</td>\n",
       "      <td>...</td>\n",
       "      <td>...</td>\n",
       "      <td>...</td>\n",
       "      <td>...</td>\n",
       "    </tr>\n",
       "    <tr>\n",
       "      <th>290</th>\n",
       "      <td>Vega, Vincent</td>\n",
       "      <td>10144</td>\n",
       "      <td>0</td>\n",
       "      <td>1</td>\n",
       "      <td>0</td>\n",
       "      <td>88976</td>\n",
       "      <td>0</td>\n",
       "      <td>Production Manager</td>\n",
       "      <td>MA</td>\n",
       "      <td>2169</td>\n",
       "      <td>...</td>\n",
       "      <td>Employee Referral</td>\n",
       "      <td>Fully_Meets</td>\n",
       "      <td>3.93</td>\n",
       "      <td>3</td>\n",
       "      <td>0</td>\n",
       "      <td>2/27/2019</td>\n",
       "      <td>0</td>\n",
       "      <td>19</td>\n",
       "      <td>11.396122</td>\n",
       "      <td>1</td>\n",
       "    </tr>\n",
       "    <tr>\n",
       "      <th>296</th>\n",
       "      <td>Wallace, Courtney  E</td>\n",
       "      <td>10274</td>\n",
       "      <td>1</td>\n",
       "      <td>0</td>\n",
       "      <td>1</td>\n",
       "      <td>80512</td>\n",
       "      <td>1</td>\n",
       "      <td>Production Manager</td>\n",
       "      <td>MA</td>\n",
       "      <td>2478</td>\n",
       "      <td>...</td>\n",
       "      <td>Diversity Job Fair</td>\n",
       "      <td>Fully_Meets</td>\n",
       "      <td>4.50</td>\n",
       "      <td>3</td>\n",
       "      <td>0</td>\n",
       "      <td>1/2/2012</td>\n",
       "      <td>0</td>\n",
       "      <td>5</td>\n",
       "      <td>11.296162</td>\n",
       "      <td>1</td>\n",
       "    </tr>\n",
       "    <tr>\n",
       "      <th>301</th>\n",
       "      <td>Wilber, Barry</td>\n",
       "      <td>10048</td>\n",
       "      <td>1</td>\n",
       "      <td>1</td>\n",
       "      <td>0</td>\n",
       "      <td>55140</td>\n",
       "      <td>1</td>\n",
       "      <td>Production Technician I</td>\n",
       "      <td>MA</td>\n",
       "      <td>2324</td>\n",
       "      <td>...</td>\n",
       "      <td>Website</td>\n",
       "      <td>Fully_Meets</td>\n",
       "      <td>5.00</td>\n",
       "      <td>3</td>\n",
       "      <td>0</td>\n",
       "      <td>2/15/2015</td>\n",
       "      <td>0</td>\n",
       "      <td>7</td>\n",
       "      <td>10.917631</td>\n",
       "      <td>1</td>\n",
       "    </tr>\n",
       "    <tr>\n",
       "      <th>303</th>\n",
       "      <td>Williams, Jacquelyn</td>\n",
       "      <td>10264</td>\n",
       "      <td>0</td>\n",
       "      <td>0</td>\n",
       "      <td>1</td>\n",
       "      <td>59728</td>\n",
       "      <td>1</td>\n",
       "      <td>Production Technician I</td>\n",
       "      <td>MA</td>\n",
       "      <td>2109</td>\n",
       "      <td>...</td>\n",
       "      <td>Diversity Job Fair</td>\n",
       "      <td>Fully_Meets</td>\n",
       "      <td>4.30</td>\n",
       "      <td>4</td>\n",
       "      <td>0</td>\n",
       "      <td>6/2/2014</td>\n",
       "      <td>0</td>\n",
       "      <td>16</td>\n",
       "      <td>10.997556</td>\n",
       "      <td>1</td>\n",
       "    </tr>\n",
       "    <tr>\n",
       "      <th>304</th>\n",
       "      <td>Winthrop, Jordan</td>\n",
       "      <td>10033</td>\n",
       "      <td>0</td>\n",
       "      <td>1</td>\n",
       "      <td>0</td>\n",
       "      <td>70507</td>\n",
       "      <td>1</td>\n",
       "      <td>Production Technician II</td>\n",
       "      <td>MA</td>\n",
       "      <td>2045</td>\n",
       "      <td>...</td>\n",
       "      <td>LinkedIn</td>\n",
       "      <td>Exceeds</td>\n",
       "      <td>5.00</td>\n",
       "      <td>3</td>\n",
       "      <td>0</td>\n",
       "      <td>1/19/2016</td>\n",
       "      <td>0</td>\n",
       "      <td>7</td>\n",
       "      <td>11.163467</td>\n",
       "      <td>1</td>\n",
       "    </tr>\n",
       "  </tbody>\n",
       "</table>\n",
       "<p>61 rows × 33 columns</p>\n",
       "</div>"
      ],
      "text/plain": [
       "             Employee_Name  EmpID  MarriedID  GenderID  \\\n",
       "8         Bachiochi, Linda  10114          0         0   \n",
       "16        Beak, Kimberly    10023          1         0   \n",
       "17     Beatrice, Courtney   10055          0         0   \n",
       "20         Bernstein, Sean  10046          0         1   \n",
       "21         Biden, Lowan  M  10226          0         0   \n",
       "..                     ...    ...        ...       ...   \n",
       "290          Vega, Vincent  10144          0         1   \n",
       "296   Wallace, Courtney  E  10274          1         0   \n",
       "301          Wilber, Barry  10048          1         1   \n",
       "303  Williams, Jacquelyn    10264          0         0   \n",
       "304     Winthrop, Jordan    10033          0         1   \n",
       "\n",
       "     FromDiversityJobFairID  Salary  Termd                  Position State  \\\n",
       "8                         1   47837      0   Production Technician I    MA   \n",
       "16                        0   70131      0  Production Technician II    MA   \n",
       "17                        0   59026      0   Production Technician I    MA   \n",
       "20                        0   51044      0   Production Technician I    MA   \n",
       "21                        0   64919      0   Production Technician I    MA   \n",
       "..                      ...     ...    ...                       ...   ...   \n",
       "290                       0   88976      0        Production Manager    MA   \n",
       "296                       1   80512      1        Production Manager    MA   \n",
       "301                       0   55140      1   Production Technician I    MA   \n",
       "303                       1   59728      1   Production Technician I    MA   \n",
       "304                       0   70507      1  Production Technician II    MA   \n",
       "\n",
       "      Zip  ...   RecruitmentSource PerformanceScore EngagementSurvey  \\\n",
       "8    1902  ...  Diversity Job Fair      Fully_Meets             4.46   \n",
       "16   2145  ...   Employee Referral          Exceeds             4.40   \n",
       "17   1915  ...       Google Search      Fully_Meets             5.00   \n",
       "20   2072  ...       Google Search      Fully_Meets             5.00   \n",
       "21   2027  ...              Indeed      Fully_Meets             4.20   \n",
       "..    ...  ...                 ...              ...              ...   \n",
       "290  2169  ...   Employee Referral      Fully_Meets             3.93   \n",
       "296  2478  ...  Diversity Job Fair      Fully_Meets             4.50   \n",
       "301  2324  ...             Website      Fully_Meets             5.00   \n",
       "303  2109  ...  Diversity Job Fair      Fully_Meets             4.30   \n",
       "304  2045  ...            LinkedIn          Exceeds             5.00   \n",
       "\n",
       "    EmpSatisfaction SpecialProjectsCount LastPerformanceReview_Date  \\\n",
       "8                 3                    0                  1/25/2019   \n",
       "16                3                    0                  1/14/2019   \n",
       "17                5                    0                  1/14/2019   \n",
       "20                3                    0                  1/14/2019   \n",
       "21                3                    0                  1/10/2019   \n",
       "..              ...                  ...                        ...   \n",
       "290               3                    0                  2/27/2019   \n",
       "296               3                    0                   1/2/2012   \n",
       "301               3                    0                  2/15/2015   \n",
       "303               4                    0                   6/2/2014   \n",
       "304               3                    0                  1/19/2016   \n",
       "\n",
       "    DaysLateLast30 Absences salary_log in_MA  \n",
       "8                0        4  10.775555     1  \n",
       "16               0       16  11.158120     1  \n",
       "17               0       12  10.985733     1  \n",
       "20               0       13  10.840443     1  \n",
       "21               0        2  11.080896     1  \n",
       "..             ...      ...        ...   ...  \n",
       "290              0       19  11.396122     1  \n",
       "296              0        5  11.296162     1  \n",
       "301              0        7  10.917631     1  \n",
       "303              0       16  10.997556     1  \n",
       "304              0        7  11.163467     1  \n",
       "\n",
       "[61 rows x 33 columns]"
      ]
     },
     "execution_count": 39,
     "metadata": {},
     "output_type": "execute_result"
    }
   ],
   "source": [
    "#Since this data was updated in 2021, the maximum reasonable birth year is\n",
    "# 2007, so I will look at the records after that date\n",
    "df[df['DOB'] > '2007-01-01']"
   ]
  },
  {
   "cell_type": "markdown",
   "metadata": {},
   "source": [
    "There is nothing else in the data to suggest that these are demo accounts or otherwise accounts to ignore. This suggests that these may be a result of a data entry error when the data were updated. "
   ]
  },
  {
   "cell_type": "code",
   "execution_count": 40,
   "metadata": {
    "ExecuteTime": {
     "end_time": "2021-12-18T19:54:14.749067Z",
     "start_time": "2021-12-18T19:54:14.743048Z"
    }
   },
   "outputs": [
    {
     "data": {
      "text/plain": [
       "41    2051-01-02\n",
       "68    2051-02-25\n",
       "61    2052-01-18\n",
       "206   2052-02-11\n",
       "124   2052-08-18\n",
       "         ...    \n",
       "76    2070-07-09\n",
       "226   2070-09-22\n",
       "152   2070-10-08\n",
       "17    2070-10-27\n",
       "20    2070-12-22\n",
       "Name: DOB, Length: 61, dtype: datetime64[ns]"
      ]
     },
     "execution_count": 40,
     "metadata": {},
     "output_type": "execute_result"
    }
   ],
   "source": [
    "df[df['DOB'] > '2007-01-01']['DOB'].sort_values()"
   ]
  },
  {
   "cell_type": "code",
   "execution_count": 41,
   "metadata": {
    "ExecuteTime": {
     "end_time": "2021-12-18T19:54:14.755630Z",
     "start_time": "2021-12-18T19:54:14.750474Z"
    }
   },
   "outputs": [
    {
     "data": {
      "text/plain": [
       "104   1971-07-10\n",
       "108   1971-10-23\n",
       "42    1972-02-09\n",
       "157   1972-07-01\n",
       "234   1972-07-03\n",
       "         ...    \n",
       "288   1991-05-23\n",
       "80    1991-09-05\n",
       "135   1992-05-07\n",
       "110   1992-06-18\n",
       "189   1992-08-17\n",
       "Name: DOB, Length: 250, dtype: datetime64[ns]"
      ]
     },
     "execution_count": 41,
     "metadata": {},
     "output_type": "execute_result"
    }
   ],
   "source": [
    "df[df['DOB'] < '2007-01-01']['DOB'].sort_values()"
   ]
  },
  {
   "cell_type": "markdown",
   "metadata": {},
   "source": [
    "It indeed appears that '19' was keyed in as '20' for employees born prior to 1971. As an extra check, I will examine the hire dates for the employees with the impossible birth dates. "
   ]
  },
  {
   "cell_type": "code",
   "execution_count": 42,
   "metadata": {
    "ExecuteTime": {
     "end_time": "2021-12-18T19:54:14.761764Z",
     "start_time": "2021-12-18T19:54:14.756885Z"
    }
   },
   "outputs": [
    {
     "data": {
      "text/plain": [
       "24     1/10/2011\n",
       "76      1/5/2014\n",
       "254     1/5/2015\n",
       "225     1/6/2014\n",
       "142     1/6/2014\n",
       "         ...    \n",
       "278    9/29/2014\n",
       "41     9/29/2014\n",
       "27     9/30/2013\n",
       "140    9/30/2013\n",
       "98      9/6/2011\n",
       "Name: DateofHire, Length: 61, dtype: object"
      ]
     },
     "execution_count": 42,
     "metadata": {},
     "output_type": "execute_result"
    }
   ],
   "source": [
    "df[df['DOB'] > '2007-01-01']['DateofHire'].sort_values()"
   ]
  },
  {
   "cell_type": "markdown",
   "metadata": {},
   "source": [
    "Based on the evidence I have, I will amend the birthdates to reflect that they were born prior to 1971."
   ]
  },
  {
   "cell_type": "code",
   "execution_count": 43,
   "metadata": {
    "ExecuteTime": {
     "end_time": "2021-12-18T19:54:14.769110Z",
     "start_time": "2021-12-18T19:54:14.764035Z"
    }
   },
   "outputs": [],
   "source": [
    "def fix_dob(date):\n",
    "    \"Subtract 100 from the years after 2000 to correct the errors.\"\n",
    "    new_year = date.year\n",
    "    if new_year > 2000:\n",
    "        new_year = new_year - 100\n",
    "    return date.replace(year=new_year)\n",
    "        \n",
    "\n",
    "df['DOB'] = df['DOB'].apply(fix_dob)"
   ]
  },
  {
   "cell_type": "code",
   "execution_count": 44,
   "metadata": {
    "ExecuteTime": {
     "end_time": "2021-12-18T19:54:14.787679Z",
     "start_time": "2021-12-18T19:54:14.770830Z"
    }
   },
   "outputs": [],
   "source": [
    "#Add a current age column\n",
    "df['current_age'] = df['DOB'].apply(\n",
    "    lambda x: relativedelta(datetime.today(), \n",
    "                            x\n",
    "                           ).years\n",
    ")"
   ]
  },
  {
   "cell_type": "code",
   "execution_count": 45,
   "metadata": {
    "ExecuteTime": {
     "end_time": "2021-12-18T19:54:14.911106Z",
     "start_time": "2021-12-18T19:54:14.789495Z"
    },
    "scrolled": true
   },
   "outputs": [
    {
     "data": {
      "image/png": "[encoded data removed]",
      "text/plain": [
       "<Figure size 432x288 with 1 Axes>"
      ]
     },
     "metadata": {},
     "output_type": "display_data"
    }
   ],
   "source": [
    "df['current_age'].hist(color=NEUTRAL)\n",
    "plt.title('Current Employee Age Distribution');"
   ]
  },
  {
   "cell_type": "code",
   "execution_count": 46,
   "metadata": {
    "ExecuteTime": {
     "end_time": "2021-12-18T19:54:14.919053Z",
     "start_time": "2021-12-18T19:54:14.913186Z"
    }
   },
   "outputs": [
    {
     "data": {
      "text/plain": [
       "count    311.000000\n",
       "mean      42.389068\n",
       "std        8.863467\n",
       "min       29.000000\n",
       "25%       35.000000\n",
       "50%       41.000000\n",
       "75%       48.000000\n",
       "max       70.000000\n",
       "Name: current_age, dtype: float64"
      ]
     },
     "execution_count": 46,
     "metadata": {},
     "output_type": "execute_result"
    }
   ],
   "source": [
    "df['current_age'].describe()"
   ]
  },
  {
   "cell_type": "markdown",
   "metadata": {},
   "source": [
    "The age distribution is bimodal, with the vast majority of employees having a current age between 35 and 45 and a smaller peak between 65 and 70."
   ]
  },
  {
   "cell_type": "code",
   "execution_count": 47,
   "metadata": {
    "ExecuteTime": {
     "end_time": "2021-12-18T19:54:15.100026Z",
     "start_time": "2021-12-18T19:54:14.920935Z"
    }
   },
   "outputs": [
    {
     "data": {
      "image/png": "[encoded data removed]",
      "text/plain": [
       "<Figure size 432x288 with 1 Axes>"
      ]
     },
     "metadata": {},
     "output_type": "display_data"
    }
   ],
   "source": [
    "sns.scatterplot(\n",
    "    data=df, \n",
    "    x='current_age', \n",
    "    y='Salary', \n",
    "    hue='Termd',\n",
    "    palette=PALETTE\n",
    ")\n",
    "plt.title('Current Age vs Salary');"
   ]
  },
  {
   "cell_type": "markdown",
   "metadata": {},
   "source": [
    "At first glance, there is no clear correlation between current age, salary and employment status."
   ]
  },
  {
   "cell_type": "code",
   "execution_count": 48,
   "metadata": {
    "ExecuteTime": {
     "end_time": "2021-12-18T19:54:15.107216Z",
     "start_time": "2021-12-18T19:54:15.102018Z"
    }
   },
   "outputs": [
    {
     "data": {
      "text/plain": [
       "US Citizen             295\n",
       "Eligible NonCitizen     12\n",
       "Non-Citizen              4\n",
       "Name: CitizenDesc, dtype: int64"
      ]
     },
     "execution_count": 48,
     "metadata": {},
     "output_type": "execute_result"
    }
   ],
   "source": [
    "df['CitizenDesc'].value_counts()"
   ]
  },
  {
   "cell_type": "markdown",
   "metadata": {},
   "source": [
    "Because there are so few non-citizens, I am going to change this to a binary column with 1 (citizen) and 0 (non-citizen)."
   ]
  },
  {
   "cell_type": "code",
   "execution_count": 49,
   "metadata": {
    "ExecuteTime": {
     "end_time": "2021-12-18T19:54:15.113236Z",
     "start_time": "2021-12-18T19:54:15.109007Z"
    }
   },
   "outputs": [],
   "source": [
    "df['citizen'] = np.where(df['CitizenDesc'] == 'US Citizen', 1, 0)\n",
    "df.drop('CitizenDesc', axis=1, inplace=True)"
   ]
  },
  {
   "cell_type": "code",
   "execution_count": 50,
   "metadata": {
    "ExecuteTime": {
     "end_time": "2021-12-18T19:54:15.118766Z",
     "start_time": "2021-12-18T19:54:15.114600Z"
    },
    "scrolled": true
   },
   "outputs": [
    {
     "data": {
      "text/plain": [
       "No     282\n",
       "Yes     27\n",
       "yes      1\n",
       "no       1\n",
       "Name: HispanicLatino, dtype: int64"
      ]
     },
     "execution_count": 50,
     "metadata": {},
     "output_type": "execute_result"
    }
   ],
   "source": [
    "#Coded with two different capitalizations\n",
    "df['HispanicLatino'].value_counts()"
   ]
  },
  {
   "cell_type": "code",
   "execution_count": 51,
   "metadata": {
    "ExecuteTime": {
     "end_time": "2021-12-18T19:54:15.122685Z",
     "start_time": "2021-12-18T19:54:15.119928Z"
    }
   },
   "outputs": [],
   "source": [
    "#Replace with binary\n",
    "df['HispanicLatino'] = np.where(df['HispanicLatino'].str.lower() == 'yes', 1, 0)"
   ]
  },
  {
   "cell_type": "code",
   "execution_count": 52,
   "metadata": {
    "ExecuteTime": {
     "end_time": "2021-12-18T19:54:15.128304Z",
     "start_time": "2021-12-18T19:54:15.124017Z"
    },
    "scrolled": true
   },
   "outputs": [
    {
     "data": {
      "text/plain": [
       "White                               0.601286\n",
       "Black or African American           0.257235\n",
       "Asian                               0.093248\n",
       "Two or more races                   0.035370\n",
       "American Indian or Alaska Native    0.009646\n",
       "Hispanic                            0.003215\n",
       "Name: RaceDesc, dtype: float64"
      ]
     },
     "execution_count": 52,
     "metadata": {},
     "output_type": "execute_result"
    }
   ],
   "source": [
    "df['RaceDesc'].value_counts(normalize=True)"
   ]
  },
  {
   "cell_type": "code",
   "execution_count": 53,
   "metadata": {
    "ExecuteTime": {
     "end_time": "2021-12-18T19:54:15.132084Z",
     "start_time": "2021-12-18T19:54:15.129575Z"
    }
   },
   "outputs": [],
   "source": [
    "#Eliminate the whitespaces\n",
    "df['RaceDesc'] = df['RaceDesc'].apply(lambda x: x.replace(' ', '_'))"
   ]
  },
  {
   "cell_type": "code",
   "execution_count": 54,
   "metadata": {
    "ExecuteTime": {
     "end_time": "2021-12-18T19:54:15.148105Z",
     "start_time": "2021-12-18T19:54:15.133442Z"
    }
   },
   "outputs": [
    {
     "data": {
      "text/html": [
       "<div>\n",
       "<style scoped>\n",
       "    .dataframe tbody tr th:only-of-type {\n",
       "        vertical-align: middle;\n",
       "    }\n",
       "\n",
       "    .dataframe tbody tr th {\n",
       "        vertical-align: top;\n",
       "    }\n",
       "\n",
       "    .dataframe thead th {\n",
       "        text-align: right;\n",
       "    }\n",
       "</style>\n",
       "<table border=\"1\" class=\"dataframe\">\n",
       "  <thead>\n",
       "    <tr style=\"text-align: right;\">\n",
       "      <th>FromDiversityJobFairID</th>\n",
       "      <th>0</th>\n",
       "      <th>1</th>\n",
       "    </tr>\n",
       "    <tr>\n",
       "      <th>RaceDesc</th>\n",
       "      <th></th>\n",
       "      <th></th>\n",
       "    </tr>\n",
       "  </thead>\n",
       "  <tbody>\n",
       "    <tr>\n",
       "      <th>American_Indian_or_Alaska_Native</th>\n",
       "      <td>3</td>\n",
       "      <td>0</td>\n",
       "    </tr>\n",
       "    <tr>\n",
       "      <th>Asian</th>\n",
       "      <td>29</td>\n",
       "      <td>0</td>\n",
       "    </tr>\n",
       "    <tr>\n",
       "      <th>Black_or_African_American</th>\n",
       "      <td>51</td>\n",
       "      <td>29</td>\n",
       "    </tr>\n",
       "    <tr>\n",
       "      <th>Hispanic</th>\n",
       "      <td>1</td>\n",
       "      <td>0</td>\n",
       "    </tr>\n",
       "    <tr>\n",
       "      <th>Two_or_more_races</th>\n",
       "      <td>11</td>\n",
       "      <td>0</td>\n",
       "    </tr>\n",
       "    <tr>\n",
       "      <th>White</th>\n",
       "      <td>187</td>\n",
       "      <td>0</td>\n",
       "    </tr>\n",
       "  </tbody>\n",
       "</table>\n",
       "</div>"
      ],
      "text/plain": [
       "FromDiversityJobFairID              0   1\n",
       "RaceDesc                                 \n",
       "American_Indian_or_Alaska_Native    3   0\n",
       "Asian                              29   0\n",
       "Black_or_African_American          51  29\n",
       "Hispanic                            1   0\n",
       "Two_or_more_races                  11   0\n",
       "White                             187   0"
      ]
     },
     "execution_count": 54,
     "metadata": {},
     "output_type": "execute_result"
    }
   ],
   "source": [
    "#All of the hires from the diversity job fair identify as Black or\n",
    "#African American\n",
    "pd.crosstab(df['RaceDesc'], df['FromDiversityJobFairID'])"
   ]
  },
  {
   "cell_type": "code",
   "execution_count": 55,
   "metadata": {
    "ExecuteTime": {
     "end_time": "2021-12-18T19:54:15.172063Z",
     "start_time": "2021-12-18T19:54:15.149497Z"
    }
   },
   "outputs": [],
   "source": [
    "#Add a column to show the number of days after the company's first hire the\n",
    "#employee was hired\n",
    "df['DateofHire'] = pd.to_datetime(df['DateofHire'])\n",
    "df['hired_after'] = (df['DateofHire'] - df['DateofHire'].min())\n",
    "df['hired_after'] = df['hired_after'].apply(lambda x: x.days)"
   ]
  },
  {
   "cell_type": "code",
   "execution_count": 56,
   "metadata": {
    "ExecuteTime": {
     "end_time": "2021-12-18T19:54:15.177743Z",
     "start_time": "2021-12-18T19:54:15.173987Z"
    }
   },
   "outputs": [],
   "source": [
    "df['age_hired'] = df['DateofHire'] - df['DOB']\n",
    "df['age_hired'] =df['age_hired']//np.timedelta64(1,'Y')"
   ]
  },
  {
   "cell_type": "code",
   "execution_count": 57,
   "metadata": {
    "ExecuteTime": {
     "end_time": "2021-12-18T19:54:15.300705Z",
     "start_time": "2021-12-18T19:54:15.179506Z"
    },
    "scrolled": true
   },
   "outputs": [
    {
     "data": {
      "image/png": "[encoded data removed]",
      "text/plain": [
       "<Figure size 432x288 with 1 Axes>"
      ]
     },
     "metadata": {},
     "output_type": "display_data"
    }
   ],
   "source": [
    "#The shape of this distribution is similar to current age\n",
    "df['age_hired'].hist(color=NEUTRAL)\n",
    "plt.title('Distribution of Age Hired');"
   ]
  },
  {
   "cell_type": "code",
   "execution_count": 58,
   "metadata": {
    "ExecuteTime": {
     "end_time": "2021-12-18T19:54:15.437141Z",
     "start_time": "2021-12-18T19:54:15.302494Z"
    }
   },
   "outputs": [
    {
     "data": {
      "image/png": "[encoded data removed]",
      "text/plain": [
       "<Figure size 432x288 with 1 Axes>"
      ]
     },
     "metadata": {},
     "output_type": "display_data"
    }
   ],
   "source": [
    "#Add a logged age hired column to make the distrubtion more normal\n",
    "df['age_hired_log'] = np.log(df['age_hired'])\n",
    "df['age_hired_log'].hist(bins=20, color=NEUTRAL)\n",
    "plt.title('Distribution of Logged Age Hired');"
   ]
  },
  {
   "cell_type": "code",
   "execution_count": 59,
   "metadata": {
    "ExecuteTime": {
     "end_time": "2021-12-18T19:54:15.447696Z",
     "start_time": "2021-12-18T19:54:15.439135Z"
    }
   },
   "outputs": [],
   "source": [
    "df['DateofTermination'] = pd.to_datetime(\n",
    "    df['DateofTermination'], \n",
    "    errors='coerce'\n",
    ")"
   ]
  },
  {
   "cell_type": "code",
   "execution_count": 60,
   "metadata": {
    "ExecuteTime": {
     "end_time": "2021-12-18T19:54:15.453727Z",
     "start_time": "2021-12-18T19:54:15.449677Z"
    }
   },
   "outputs": [],
   "source": [
    "df['employment_months'] = df['DateofTermination'] - df['DateofHire']\n",
    "df['employment_months'] = df['employment_months']//np.timedelta64(1,'M')"
   ]
  },
  {
   "cell_type": "code",
   "execution_count": 61,
   "metadata": {
    "ExecuteTime": {
     "end_time": "2021-12-18T19:54:15.578753Z",
     "start_time": "2021-12-18T19:54:15.455461Z"
    },
    "scrolled": true
   },
   "outputs": [
    {
     "data": {
      "image/png": "[encoded data removed]",
      "text/plain": [
       "<Figure size 432x288 with 1 Axes>"
      ]
     },
     "metadata": {},
     "output_type": "display_data"
    }
   ],
   "source": [
    "df['employment_months'].hist(color=NEUTRAL)\n",
    "plt.title('Distrubution of Months Employed for Terminated Employees');"
   ]
  },
  {
   "cell_type": "code",
   "execution_count": 62,
   "metadata": {
    "ExecuteTime": {
     "end_time": "2021-12-18T19:54:15.705580Z",
     "start_time": "2021-12-18T19:54:15.581009Z"
    }
   },
   "outputs": [
    {
     "data": {
      "image/png": "[encoded data removed]",
      "text/plain": [
       "<Figure size 432x288 with 1 Axes>"
      ]
     },
     "metadata": {},
     "output_type": "display_data"
    }
   ],
   "source": [
    "df['age_at_termination'] = df['DateofTermination'] - df['DOB']\n",
    "df['age_at_termination'] = df['age_at_termination']//np.timedelta64(1,'Y')\n",
    "df['age_at_termination'].hist(color=NEUTRAL)\n",
    "plt.title('Age at Termination');"
   ]
  },
  {
   "cell_type": "code",
   "execution_count": 63,
   "metadata": {
    "ExecuteTime": {
     "end_time": "2021-12-18T19:54:15.712877Z",
     "start_time": "2021-12-18T19:54:15.707660Z"
    },
    "scrolled": false
   },
   "outputs": [
    {
     "data": {
      "text/plain": [
       "N/A-StillEmployed                   207\n",
       "Another position                     20\n",
       "unhappy                              14\n",
       "more money                           11\n",
       "career change                         9\n",
       "hours                                 8\n",
       "attendance                            7\n",
       "return to school                      5\n",
       "relocation out of area                5\n",
       "no-call, no-show                      4\n",
       "military                              4\n",
       "performance                           4\n",
       "retiring                              4\n",
       "maternity leave - did not return      3\n",
       "medical issues                        3\n",
       "Learned that he is a gangster         1\n",
       "Fatal attraction                      1\n",
       "gross misconduct                      1\n",
       "Name: TermReason, dtype: int64"
      ]
     },
     "execution_count": 63,
     "metadata": {},
     "output_type": "execute_result"
    }
   ],
   "source": [
    "df['TermReason'].value_counts()"
   ]
  },
  {
   "cell_type": "code",
   "execution_count": 64,
   "metadata": {
    "ExecuteTime": {
     "end_time": "2021-12-18T19:54:15.717660Z",
     "start_time": "2021-12-18T19:54:15.714748Z"
    }
   },
   "outputs": [],
   "source": [
    "df['TermReason'] = df['TermReason'].apply(lambda x: x.replace(' ', '_'))"
   ]
  },
  {
   "cell_type": "code",
   "execution_count": 65,
   "metadata": {
    "ExecuteTime": {
     "end_time": "2021-12-18T19:54:15.723590Z",
     "start_time": "2021-12-18T19:54:15.719043Z"
    }
   },
   "outputs": [
    {
     "data": {
      "text/plain": [
       "Active                    0.665595\n",
       "Voluntarily Terminated    0.282958\n",
       "Terminated for Cause      0.051447\n",
       "Name: EmploymentStatus, dtype: float64"
      ]
     },
     "execution_count": 65,
     "metadata": {},
     "output_type": "execute_result"
    }
   ],
   "source": [
    "df['EmploymentStatus'].value_counts(normalize=True)"
   ]
  },
  {
   "cell_type": "code",
   "execution_count": 66,
   "metadata": {
    "ExecuteTime": {
     "end_time": "2021-12-18T19:54:15.729149Z",
     "start_time": "2021-12-18T19:54:15.724965Z"
    },
    "scrolled": true
   },
   "outputs": [
    {
     "data": {
      "text/plain": [
       "Production              209\n",
       "IT/IS                    50\n",
       "Sales                    31\n",
       "Software Engineering     11\n",
       "Admin Offices             9\n",
       "Executive Office          1\n",
       "Name: Department, dtype: int64"
      ]
     },
     "execution_count": 66,
     "metadata": {},
     "output_type": "execute_result"
    }
   ],
   "source": [
    "df['Department'].value_counts()"
   ]
  },
  {
   "cell_type": "code",
   "execution_count": 67,
   "metadata": {
    "ExecuteTime": {
     "end_time": "2021-12-18T19:54:15.734387Z",
     "start_time": "2021-12-18T19:54:15.730550Z"
    }
   },
   "outputs": [],
   "source": [
    "df['Department'] = df['Department'].apply(lambda x: x.replace(' ', '_'))\n",
    "df['Department'] = (\n",
    "    df['Department'].replace(\n",
    "        {'IT/IS': 'it_is', \n",
    "        'Production_______':'Production'})\n",
    ")"
   ]
  },
  {
   "cell_type": "code",
   "execution_count": 68,
   "metadata": {
    "ExecuteTime": {
     "end_time": "2021-12-18T19:54:15.753343Z",
     "start_time": "2021-12-18T19:54:15.745147Z"
    }
   },
   "outputs": [],
   "source": [
    "by_department = df.groupby('Department').agg(\n",
    "    {\n",
    "        'EmpID': 'count', \n",
    "        'current_age':'mean',\n",
    "        'Salary':'mean',\n",
    "        'Termd': 'sum'\n",
    "    }\n",
    ")\n",
    "by_department.columns = ['count', 'mean_age', 'mean_salary', 'num_terminated']\n",
    "by_department['percent_terminated'] = (\n",
    "    round(\n",
    "        by_department['num_terminated']/\n",
    "        by_department['count']*100,\n",
    "        2\n",
    "    )\n",
    ")"
   ]
  },
  {
   "cell_type": "code",
   "execution_count": 69,
   "metadata": {
    "ExecuteTime": {
     "end_time": "2021-12-18T19:54:15.765039Z",
     "start_time": "2021-12-18T19:54:15.757363Z"
    },
    "scrolled": true
   },
   "outputs": [
    {
     "data": {
      "text/html": [
       "<div>\n",
       "<style scoped>\n",
       "    .dataframe tbody tr th:only-of-type {\n",
       "        vertical-align: middle;\n",
       "    }\n",
       "\n",
       "    .dataframe tbody tr th {\n",
       "        vertical-align: top;\n",
       "    }\n",
       "\n",
       "    .dataframe thead th {\n",
       "        text-align: right;\n",
       "    }\n",
       "</style>\n",
       "<table border=\"1\" class=\"dataframe\">\n",
       "  <thead>\n",
       "    <tr style=\"text-align: right;\">\n",
       "      <th></th>\n",
       "      <th>count</th>\n",
       "      <th>mean_age</th>\n",
       "      <th>mean_salary</th>\n",
       "      <th>num_terminated</th>\n",
       "      <th>percent_terminated</th>\n",
       "    </tr>\n",
       "    <tr>\n",
       "      <th>Department</th>\n",
       "      <th></th>\n",
       "      <th></th>\n",
       "      <th></th>\n",
       "      <th></th>\n",
       "      <th></th>\n",
       "    </tr>\n",
       "  </thead>\n",
       "  <tbody>\n",
       "    <tr>\n",
       "      <th>Admin_Offices</th>\n",
       "      <td>9</td>\n",
       "      <td>35.777778</td>\n",
       "      <td>71791.888889</td>\n",
       "      <td>2</td>\n",
       "      <td>22.22</td>\n",
       "    </tr>\n",
       "    <tr>\n",
       "      <th>Executive_Office</th>\n",
       "      <td>1</td>\n",
       "      <td>67.000000</td>\n",
       "      <td>250000.000000</td>\n",
       "      <td>0</td>\n",
       "      <td>0.00</td>\n",
       "    </tr>\n",
       "    <tr>\n",
       "      <th>Production</th>\n",
       "      <td>209</td>\n",
       "      <td>42.889952</td>\n",
       "      <td>59953.545455</td>\n",
       "      <td>83</td>\n",
       "      <td>39.71</td>\n",
       "    </tr>\n",
       "    <tr>\n",
       "      <th>Sales</th>\n",
       "      <td>31</td>\n",
       "      <td>42.580645</td>\n",
       "      <td>69061.258065</td>\n",
       "      <td>5</td>\n",
       "      <td>16.13</td>\n",
       "    </tr>\n",
       "    <tr>\n",
       "      <th>Software_Engineering</th>\n",
       "      <td>11</td>\n",
       "      <td>39.181818</td>\n",
       "      <td>94989.454545</td>\n",
       "      <td>4</td>\n",
       "      <td>36.36</td>\n",
       "    </tr>\n",
       "    <tr>\n",
       "      <th>it_is</th>\n",
       "      <td>50</td>\n",
       "      <td>41.580000</td>\n",
       "      <td>97064.640000</td>\n",
       "      <td>10</td>\n",
       "      <td>20.00</td>\n",
       "    </tr>\n",
       "  </tbody>\n",
       "</table>\n",
       "</div>"
      ],
      "text/plain": [
       "                      count   mean_age    mean_salary  num_terminated  \\\n",
       "Department                                                              \n",
       "Admin_Offices             9  35.777778   71791.888889               2   \n",
       "Executive_Office          1  67.000000  250000.000000               0   \n",
       "Production              209  42.889952   59953.545455              83   \n",
       "Sales                    31  42.580645   69061.258065               5   \n",
       "Software_Engineering     11  39.181818   94989.454545               4   \n",
       "it_is                    50  41.580000   97064.640000              10   \n",
       "\n",
       "                      percent_terminated  \n",
       "Department                                \n",
       "Admin_Offices                      22.22  \n",
       "Executive_Office                    0.00  \n",
       "Production                         39.71  \n",
       "Sales                              16.13  \n",
       "Software_Engineering               36.36  \n",
       "it_is                              20.00  "
      ]
     },
     "execution_count": 69,
     "metadata": {},
     "output_type": "execute_result"
    }
   ],
   "source": [
    "by_department"
   ]
  },
  {
   "cell_type": "code",
   "execution_count": 70,
   "metadata": {
    "ExecuteTime": {
     "end_time": "2021-12-18T19:54:15.774915Z",
     "start_time": "2021-12-18T19:54:15.766920Z"
    },
    "scrolled": true
   },
   "outputs": [
    {
     "data": {
      "text/html": [
       "<div>\n",
       "<style scoped>\n",
       "    .dataframe tbody tr th:only-of-type {\n",
       "        vertical-align: middle;\n",
       "    }\n",
       "\n",
       "    .dataframe tbody tr th {\n",
       "        vertical-align: top;\n",
       "    }\n",
       "\n",
       "    .dataframe thead th {\n",
       "        text-align: right;\n",
       "    }\n",
       "</style>\n",
       "<table border=\"1\" class=\"dataframe\">\n",
       "  <thead>\n",
       "    <tr style=\"text-align: right;\">\n",
       "      <th></th>\n",
       "      <th>EmpSatisfaction</th>\n",
       "      <th>EngagementSurvey</th>\n",
       "    </tr>\n",
       "    <tr>\n",
       "      <th>Department</th>\n",
       "      <th></th>\n",
       "      <th></th>\n",
       "    </tr>\n",
       "  </thead>\n",
       "  <tbody>\n",
       "    <tr>\n",
       "      <th>Admin_Offices</th>\n",
       "      <td>3.555556</td>\n",
       "      <td>4.393333</td>\n",
       "    </tr>\n",
       "    <tr>\n",
       "      <th>Executive_Office</th>\n",
       "      <td>3.000000</td>\n",
       "      <td>4.830000</td>\n",
       "    </tr>\n",
       "    <tr>\n",
       "      <th>Production</th>\n",
       "      <td>3.861244</td>\n",
       "      <td>4.129569</td>\n",
       "    </tr>\n",
       "    <tr>\n",
       "      <th>Sales</th>\n",
       "      <td>4.032258</td>\n",
       "      <td>3.818710</td>\n",
       "    </tr>\n",
       "    <tr>\n",
       "      <th>Software_Engineering</th>\n",
       "      <td>4.090909</td>\n",
       "      <td>4.061818</td>\n",
       "    </tr>\n",
       "    <tr>\n",
       "      <th>it_is</th>\n",
       "      <td>3.960000</td>\n",
       "      <td>4.154000</td>\n",
       "    </tr>\n",
       "  </tbody>\n",
       "</table>\n",
       "</div>"
      ],
      "text/plain": [
       "                      EmpSatisfaction  EngagementSurvey\n",
       "Department                                             \n",
       "Admin_Offices                3.555556          4.393333\n",
       "Executive_Office             3.000000          4.830000\n",
       "Production                   3.861244          4.129569\n",
       "Sales                        4.032258          3.818710\n",
       "Software_Engineering         4.090909          4.061818\n",
       "it_is                        3.960000          4.154000"
      ]
     },
     "execution_count": 70,
     "metadata": {},
     "output_type": "execute_result"
    }
   ],
   "source": [
    "df.groupby('Department')[['EmpSatisfaction', 'EngagementSurvey']].mean()"
   ]
  },
  {
   "cell_type": "markdown",
   "metadata": {},
   "source": [
    "The departments with the highest turnover rates are production and software engineering. Interesting, they do not have the lowest employee satisfaction, although software engineers are not ans engaged as other departments. Sales appears to be the least engaged."
   ]
  },
  {
   "cell_type": "code",
   "execution_count": 71,
   "metadata": {
    "ExecuteTime": {
     "end_time": "2021-12-18T19:54:15.780831Z",
     "start_time": "2021-12-18T19:54:15.776390Z"
    },
    "scrolled": true
   },
   "outputs": [
    {
     "data": {
      "text/plain": [
       "Kelley Spirea         22\n",
       "Elijiah Gray          22\n",
       "Kissy Sullivan        22\n",
       "Michael Albert        22\n",
       "Brannon Miller        22\n",
       "David Stanley         21\n",
       "Ketsia Liebig         21\n",
       "Webster Butler        21\n",
       "Amy Dunn              21\n",
       "Janet King            19\n",
       "Simon Roup            17\n",
       "John Smith            14\n",
       "Peter Monroe          14\n",
       "Lynn Daneault         13\n",
       "Alex Sweetwater        9\n",
       "Brian Champaigne       8\n",
       "Jennifer Zamora        7\n",
       "Brandon R. LeBlanc     7\n",
       "Eric Dougall           4\n",
       "Debra Houlihan         3\n",
       "Board of Directors     2\n",
       "Name: ManagerName, dtype: int64"
      ]
     },
     "execution_count": 71,
     "metadata": {},
     "output_type": "execute_result"
    }
   ],
   "source": [
    "#Examine the number of managers and the number of reports they have\n",
    "df['ManagerName'].value_counts()"
   ]
  },
  {
   "cell_type": "code",
   "execution_count": 72,
   "metadata": {
    "ExecuteTime": {
     "end_time": "2021-12-18T19:54:15.785485Z",
     "start_time": "2021-12-18T19:54:15.781986Z"
    }
   },
   "outputs": [],
   "source": [
    "df['ManagerName'] = df['ManagerName'].apply(lambda x: x.replace(' ', '_'))\n",
    "df['ManagerName'] = (\n",
    "    df['ManagerName'].replace({'Brandon_R._LeBlanc': 'Brandon_LeBlanc'})\n",
    ")"
   ]
  },
  {
   "cell_type": "code",
   "execution_count": 73,
   "metadata": {
    "ExecuteTime": {
     "end_time": "2021-12-18T19:54:15.789816Z",
     "start_time": "2021-12-18T19:54:15.786781Z"
    }
   },
   "outputs": [
    {
     "data": {
      "text/plain": [
       "8"
      ]
     },
     "execution_count": 73,
     "metadata": {},
     "output_type": "execute_result"
    }
   ],
   "source": [
    "#There are no records missing a manager name, but 8 missing a manager ID\n",
    "df['ManagerID'].isna().sum()"
   ]
  },
  {
   "cell_type": "code",
   "execution_count": 74,
   "metadata": {
    "ExecuteTime": {
     "end_time": "2021-12-18T19:54:15.795145Z",
     "start_time": "2021-12-18T19:54:15.791113Z"
    }
   },
   "outputs": [
    {
     "data": {
      "text/plain": [
       "19     Webster_Butler\n",
       "30     Webster_Butler\n",
       "44     Webster_Butler\n",
       "88     Webster_Butler\n",
       "135    Webster_Butler\n",
       "177    Webster_Butler\n",
       "232    Webster_Butler\n",
       "251    Webster_Butler\n",
       "Name: ManagerName, dtype: object"
      ]
     },
     "execution_count": 74,
     "metadata": {},
     "output_type": "execute_result"
    }
   ],
   "source": [
    "df[df['ManagerID'].isna()]['ManagerName']"
   ]
  },
  {
   "cell_type": "code",
   "execution_count": 75,
   "metadata": {
    "ExecuteTime": {
     "end_time": "2021-12-18T19:54:15.801609Z",
     "start_time": "2021-12-18T19:54:15.796868Z"
    }
   },
   "outputs": [
    {
     "data": {
      "text/plain": [
       "39.0    13\n",
       "Name: ManagerID, dtype: int64"
      ]
     },
     "execution_count": 75,
     "metadata": {},
     "output_type": "execute_result"
    }
   ],
   "source": [
    "#The missing manager ID should be 39, to correspond to Webster Butler\n",
    "df[df['ManagerName'] == 'Webster_Butler']['ManagerID'].value_counts()"
   ]
  },
  {
   "cell_type": "code",
   "execution_count": 76,
   "metadata": {
    "ExecuteTime": {
     "end_time": "2021-12-18T19:54:15.805203Z",
     "start_time": "2021-12-18T19:54:15.802918Z"
    }
   },
   "outputs": [],
   "source": [
    "#Impute the missing values\n",
    "df['ManagerID'].fillna(39, inplace=True)"
   ]
  },
  {
   "cell_type": "code",
   "execution_count": 77,
   "metadata": {
    "ExecuteTime": {
     "end_time": "2021-12-18T19:54:15.835581Z",
     "start_time": "2021-12-18T19:54:15.806572Z"
    },
    "scrolled": false
   },
   "outputs": [
    {
     "data": {
      "text/html": [
       "<div>\n",
       "<style scoped>\n",
       "    .dataframe tbody tr th:only-of-type {\n",
       "        vertical-align: middle;\n",
       "    }\n",
       "\n",
       "    .dataframe tbody tr th {\n",
       "        vertical-align: top;\n",
       "    }\n",
       "\n",
       "    .dataframe thead th {\n",
       "        text-align: right;\n",
       "    }\n",
       "</style>\n",
       "<table border=\"1\" class=\"dataframe\">\n",
       "  <thead>\n",
       "    <tr style=\"text-align: right;\">\n",
       "      <th>EmploymentStatus</th>\n",
       "      <th>Active</th>\n",
       "      <th>Terminated for Cause</th>\n",
       "      <th>Voluntarily Terminated</th>\n",
       "      <th>total</th>\n",
       "      <th>cause_percent</th>\n",
       "      <th>volun_percent</th>\n",
       "      <th>total_term_percent</th>\n",
       "      <th>cause_dif_from_mean</th>\n",
       "      <th>volun_dif_from_mean</th>\n",
       "      <th>total_term_dif_from_mean</th>\n",
       "    </tr>\n",
       "    <tr>\n",
       "      <th>ManagerName</th>\n",
       "      <th></th>\n",
       "      <th></th>\n",
       "      <th></th>\n",
       "      <th></th>\n",
       "      <th></th>\n",
       "      <th></th>\n",
       "      <th></th>\n",
       "      <th></th>\n",
       "      <th></th>\n",
       "      <th></th>\n",
       "    </tr>\n",
       "  </thead>\n",
       "  <tbody>\n",
       "    <tr>\n",
       "      <th>Alex_Sweetwater</th>\n",
       "      <td>6</td>\n",
       "      <td>1</td>\n",
       "      <td>2</td>\n",
       "      <td>9</td>\n",
       "      <td>11.11</td>\n",
       "      <td>22.22</td>\n",
       "      <td>33.33</td>\n",
       "      <td>6.297619</td>\n",
       "      <td>-0.918571</td>\n",
       "      <td>5.379048</td>\n",
       "    </tr>\n",
       "    <tr>\n",
       "      <th>Amy_Dunn</th>\n",
       "      <td>8</td>\n",
       "      <td>0</td>\n",
       "      <td>13</td>\n",
       "      <td>21</td>\n",
       "      <td>0.00</td>\n",
       "      <td>61.90</td>\n",
       "      <td>61.90</td>\n",
       "      <td>-4.812381</td>\n",
       "      <td>38.761429</td>\n",
       "      <td>33.949048</td>\n",
       "    </tr>\n",
       "    <tr>\n",
       "      <th>Board_of_Directors</th>\n",
       "      <td>2</td>\n",
       "      <td>0</td>\n",
       "      <td>0</td>\n",
       "      <td>2</td>\n",
       "      <td>0.00</td>\n",
       "      <td>0.00</td>\n",
       "      <td>0.00</td>\n",
       "      <td>-4.812381</td>\n",
       "      <td>-23.138571</td>\n",
       "      <td>-27.950952</td>\n",
       "    </tr>\n",
       "    <tr>\n",
       "      <th>Brandon_LeBlanc</th>\n",
       "      <td>5</td>\n",
       "      <td>1</td>\n",
       "      <td>1</td>\n",
       "      <td>7</td>\n",
       "      <td>14.29</td>\n",
       "      <td>14.29</td>\n",
       "      <td>28.58</td>\n",
       "      <td>9.477619</td>\n",
       "      <td>-8.848571</td>\n",
       "      <td>0.629048</td>\n",
       "    </tr>\n",
       "    <tr>\n",
       "      <th>Brannon_Miller</th>\n",
       "      <td>16</td>\n",
       "      <td>0</td>\n",
       "      <td>6</td>\n",
       "      <td>22</td>\n",
       "      <td>0.00</td>\n",
       "      <td>27.27</td>\n",
       "      <td>27.27</td>\n",
       "      <td>-4.812381</td>\n",
       "      <td>4.131429</td>\n",
       "      <td>-0.680952</td>\n",
       "    </tr>\n",
       "    <tr>\n",
       "      <th>Brian_Champaigne</th>\n",
       "      <td>8</td>\n",
       "      <td>0</td>\n",
       "      <td>0</td>\n",
       "      <td>8</td>\n",
       "      <td>0.00</td>\n",
       "      <td>0.00</td>\n",
       "      <td>0.00</td>\n",
       "      <td>-4.812381</td>\n",
       "      <td>-23.138571</td>\n",
       "      <td>-27.950952</td>\n",
       "    </tr>\n",
       "    <tr>\n",
       "      <th>David_Stanley</th>\n",
       "      <td>15</td>\n",
       "      <td>0</td>\n",
       "      <td>6</td>\n",
       "      <td>21</td>\n",
       "      <td>0.00</td>\n",
       "      <td>28.57</td>\n",
       "      <td>28.57</td>\n",
       "      <td>-4.812381</td>\n",
       "      <td>5.431429</td>\n",
       "      <td>0.619048</td>\n",
       "    </tr>\n",
       "    <tr>\n",
       "      <th>Debra_Houlihan</th>\n",
       "      <td>2</td>\n",
       "      <td>0</td>\n",
       "      <td>1</td>\n",
       "      <td>3</td>\n",
       "      <td>0.00</td>\n",
       "      <td>33.33</td>\n",
       "      <td>33.33</td>\n",
       "      <td>-4.812381</td>\n",
       "      <td>10.191429</td>\n",
       "      <td>5.379048</td>\n",
       "    </tr>\n",
       "    <tr>\n",
       "      <th>Elijiah_Gray</th>\n",
       "      <td>14</td>\n",
       "      <td>1</td>\n",
       "      <td>7</td>\n",
       "      <td>22</td>\n",
       "      <td>4.55</td>\n",
       "      <td>31.82</td>\n",
       "      <td>36.37</td>\n",
       "      <td>-0.262381</td>\n",
       "      <td>8.681429</td>\n",
       "      <td>8.419048</td>\n",
       "    </tr>\n",
       "    <tr>\n",
       "      <th>Eric_Dougall</th>\n",
       "      <td>4</td>\n",
       "      <td>0</td>\n",
       "      <td>0</td>\n",
       "      <td>4</td>\n",
       "      <td>0.00</td>\n",
       "      <td>0.00</td>\n",
       "      <td>0.00</td>\n",
       "      <td>-4.812381</td>\n",
       "      <td>-23.138571</td>\n",
       "      <td>-27.950952</td>\n",
       "    </tr>\n",
       "    <tr>\n",
       "      <th>Janet_King</th>\n",
       "      <td>13</td>\n",
       "      <td>1</td>\n",
       "      <td>5</td>\n",
       "      <td>19</td>\n",
       "      <td>5.26</td>\n",
       "      <td>26.32</td>\n",
       "      <td>31.58</td>\n",
       "      <td>0.447619</td>\n",
       "      <td>3.181429</td>\n",
       "      <td>3.629048</td>\n",
       "    </tr>\n",
       "    <tr>\n",
       "      <th>Jennifer_Zamora</th>\n",
       "      <td>6</td>\n",
       "      <td>0</td>\n",
       "      <td>1</td>\n",
       "      <td>7</td>\n",
       "      <td>0.00</td>\n",
       "      <td>14.29</td>\n",
       "      <td>14.29</td>\n",
       "      <td>-4.812381</td>\n",
       "      <td>-8.848571</td>\n",
       "      <td>-13.660952</td>\n",
       "    </tr>\n",
       "    <tr>\n",
       "      <th>John_Smith</th>\n",
       "      <td>11</td>\n",
       "      <td>1</td>\n",
       "      <td>2</td>\n",
       "      <td>14</td>\n",
       "      <td>7.14</td>\n",
       "      <td>14.29</td>\n",
       "      <td>21.43</td>\n",
       "      <td>2.327619</td>\n",
       "      <td>-8.848571</td>\n",
       "      <td>-6.520952</td>\n",
       "    </tr>\n",
       "    <tr>\n",
       "      <th>Kelley_Spirea</th>\n",
       "      <td>16</td>\n",
       "      <td>2</td>\n",
       "      <td>4</td>\n",
       "      <td>22</td>\n",
       "      <td>9.09</td>\n",
       "      <td>18.18</td>\n",
       "      <td>27.27</td>\n",
       "      <td>4.277619</td>\n",
       "      <td>-4.958571</td>\n",
       "      <td>-0.680952</td>\n",
       "    </tr>\n",
       "    <tr>\n",
       "      <th>Ketsia_Liebig</th>\n",
       "      <td>16</td>\n",
       "      <td>1</td>\n",
       "      <td>4</td>\n",
       "      <td>21</td>\n",
       "      <td>4.76</td>\n",
       "      <td>19.05</td>\n",
       "      <td>23.81</td>\n",
       "      <td>-0.052381</td>\n",
       "      <td>-4.088571</td>\n",
       "      <td>-4.140952</td>\n",
       "    </tr>\n",
       "    <tr>\n",
       "      <th>Kissy_Sullivan</th>\n",
       "      <td>10</td>\n",
       "      <td>2</td>\n",
       "      <td>10</td>\n",
       "      <td>22</td>\n",
       "      <td>9.09</td>\n",
       "      <td>45.45</td>\n",
       "      <td>54.54</td>\n",
       "      <td>4.277619</td>\n",
       "      <td>22.311429</td>\n",
       "      <td>26.589048</td>\n",
       "    </tr>\n",
       "    <tr>\n",
       "      <th>Lynn_Daneault</th>\n",
       "      <td>12</td>\n",
       "      <td>1</td>\n",
       "      <td>0</td>\n",
       "      <td>13</td>\n",
       "      <td>7.69</td>\n",
       "      <td>0.00</td>\n",
       "      <td>7.69</td>\n",
       "      <td>2.877619</td>\n",
       "      <td>-23.138571</td>\n",
       "      <td>-20.260952</td>\n",
       "    </tr>\n",
       "    <tr>\n",
       "      <th>Michael_Albert</th>\n",
       "      <td>13</td>\n",
       "      <td>1</td>\n",
       "      <td>8</td>\n",
       "      <td>22</td>\n",
       "      <td>4.55</td>\n",
       "      <td>36.36</td>\n",
       "      <td>40.91</td>\n",
       "      <td>-0.262381</td>\n",
       "      <td>13.221429</td>\n",
       "      <td>12.959048</td>\n",
       "    </tr>\n",
       "    <tr>\n",
       "      <th>Peter_Monroe</th>\n",
       "      <td>13</td>\n",
       "      <td>0</td>\n",
       "      <td>1</td>\n",
       "      <td>14</td>\n",
       "      <td>0.00</td>\n",
       "      <td>7.14</td>\n",
       "      <td>7.14</td>\n",
       "      <td>-4.812381</td>\n",
       "      <td>-15.998571</td>\n",
       "      <td>-20.810952</td>\n",
       "    </tr>\n",
       "    <tr>\n",
       "      <th>Simon_Roup</th>\n",
       "      <td>9</td>\n",
       "      <td>4</td>\n",
       "      <td>4</td>\n",
       "      <td>17</td>\n",
       "      <td>23.53</td>\n",
       "      <td>23.53</td>\n",
       "      <td>47.06</td>\n",
       "      <td>18.717619</td>\n",
       "      <td>0.391429</td>\n",
       "      <td>19.109048</td>\n",
       "    </tr>\n",
       "    <tr>\n",
       "      <th>Webster_Butler</th>\n",
       "      <td>8</td>\n",
       "      <td>0</td>\n",
       "      <td>13</td>\n",
       "      <td>21</td>\n",
       "      <td>0.00</td>\n",
       "      <td>61.90</td>\n",
       "      <td>61.90</td>\n",
       "      <td>-4.812381</td>\n",
       "      <td>38.761429</td>\n",
       "      <td>33.949048</td>\n",
       "    </tr>\n",
       "  </tbody>\n",
       "</table>\n",
       "</div>"
      ],
      "text/plain": [
       "EmploymentStatus    Active  Terminated for Cause  Voluntarily Terminated  \\\n",
       "ManagerName                                                                \n",
       "Alex_Sweetwater          6                     1                       2   \n",
       "Amy_Dunn                 8                     0                      13   \n",
       "Board_of_Directors       2                     0                       0   \n",
       "Brandon_LeBlanc          5                     1                       1   \n",
       "Brannon_Miller          16                     0                       6   \n",
       "Brian_Champaigne         8                     0                       0   \n",
       "David_Stanley           15                     0                       6   \n",
       "Debra_Houlihan           2                     0                       1   \n",
       "Elijiah_Gray            14                     1                       7   \n",
       "Eric_Dougall             4                     0                       0   \n",
       "Janet_King              13                     1                       5   \n",
       "Jennifer_Zamora          6                     0                       1   \n",
       "John_Smith              11                     1                       2   \n",
       "Kelley_Spirea           16                     2                       4   \n",
       "Ketsia_Liebig           16                     1                       4   \n",
       "Kissy_Sullivan          10                     2                      10   \n",
       "Lynn_Daneault           12                     1                       0   \n",
       "Michael_Albert          13                     1                       8   \n",
       "Peter_Monroe            13                     0                       1   \n",
       "Simon_Roup               9                     4                       4   \n",
       "Webster_Butler           8                     0                      13   \n",
       "\n",
       "EmploymentStatus    total  cause_percent  volun_percent  total_term_percent  \\\n",
       "ManagerName                                                                   \n",
       "Alex_Sweetwater         9          11.11          22.22               33.33   \n",
       "Amy_Dunn               21           0.00          61.90               61.90   \n",
       "Board_of_Directors      2           0.00           0.00                0.00   \n",
       "Brandon_LeBlanc         7          14.29          14.29               28.58   \n",
       "Brannon_Miller         22           0.00          27.27               27.27   \n",
       "Brian_Champaigne        8           0.00           0.00                0.00   \n",
       "David_Stanley          21           0.00          28.57               28.57   \n",
       "Debra_Houlihan          3           0.00          33.33               33.33   \n",
       "Elijiah_Gray           22           4.55          31.82               36.37   \n",
       "Eric_Dougall            4           0.00           0.00                0.00   \n",
       "Janet_King             19           5.26          26.32               31.58   \n",
       "Jennifer_Zamora         7           0.00          14.29               14.29   \n",
       "John_Smith             14           7.14          14.29               21.43   \n",
       "Kelley_Spirea          22           9.09          18.18               27.27   \n",
       "Ketsia_Liebig          21           4.76          19.05               23.81   \n",
       "Kissy_Sullivan         22           9.09          45.45               54.54   \n",
       "Lynn_Daneault          13           7.69           0.00                7.69   \n",
       "Michael_Albert         22           4.55          36.36               40.91   \n",
       "Peter_Monroe           14           0.00           7.14                7.14   \n",
       "Simon_Roup             17          23.53          23.53               47.06   \n",
       "Webster_Butler         21           0.00          61.90               61.90   \n",
       "\n",
       "EmploymentStatus    cause_dif_from_mean  volun_dif_from_mean  \\\n",
       "ManagerName                                                    \n",
       "Alex_Sweetwater                6.297619            -0.918571   \n",
       "Amy_Dunn                      -4.812381            38.761429   \n",
       "Board_of_Directors            -4.812381           -23.138571   \n",
       "Brandon_LeBlanc                9.477619            -8.848571   \n",
       "Brannon_Miller                -4.812381             4.131429   \n",
       "Brian_Champaigne              -4.812381           -23.138571   \n",
       "David_Stanley                 -4.812381             5.431429   \n",
       "Debra_Houlihan                -4.812381            10.191429   \n",
       "Elijiah_Gray                  -0.262381             8.681429   \n",
       "Eric_Dougall                  -4.812381           -23.138571   \n",
       "Janet_King                     0.447619             3.181429   \n",
       "Jennifer_Zamora               -4.812381            -8.848571   \n",
       "John_Smith                     2.327619            -8.848571   \n",
       "Kelley_Spirea                  4.277619            -4.958571   \n",
       "Ketsia_Liebig                 -0.052381            -4.088571   \n",
       "Kissy_Sullivan                 4.277619            22.311429   \n",
       "Lynn_Daneault                  2.877619           -23.138571   \n",
       "Michael_Albert                -0.262381            13.221429   \n",
       "Peter_Monroe                  -4.812381           -15.998571   \n",
       "Simon_Roup                    18.717619             0.391429   \n",
       "Webster_Butler                -4.812381            38.761429   \n",
       "\n",
       "EmploymentStatus    total_term_dif_from_mean  \n",
       "ManagerName                                   \n",
       "Alex_Sweetwater                     5.379048  \n",
       "Amy_Dunn                           33.949048  \n",
       "Board_of_Directors                -27.950952  \n",
       "Brandon_LeBlanc                     0.629048  \n",
       "Brannon_Miller                     -0.680952  \n",
       "Brian_Champaigne                  -27.950952  \n",
       "David_Stanley                       0.619048  \n",
       "Debra_Houlihan                      5.379048  \n",
       "Elijiah_Gray                        8.419048  \n",
       "Eric_Dougall                      -27.950952  \n",
       "Janet_King                          3.629048  \n",
       "Jennifer_Zamora                   -13.660952  \n",
       "John_Smith                         -6.520952  \n",
       "Kelley_Spirea                      -0.680952  \n",
       "Ketsia_Liebig                      -4.140952  \n",
       "Kissy_Sullivan                     26.589048  \n",
       "Lynn_Daneault                     -20.260952  \n",
       "Michael_Albert                     12.959048  \n",
       "Peter_Monroe                      -20.810952  \n",
       "Simon_Roup                         19.109048  \n",
       "Webster_Butler                     33.949048  "
      ]
     },
     "execution_count": 77,
     "metadata": {},
     "output_type": "execute_result"
    }
   ],
   "source": [
    "emp_by_manager = pd.crosstab(df['ManagerName'], df['EmploymentStatus'])\n",
    "\n",
    "emp_by_manager['total'] = (\n",
    "    emp_by_manager['Active'] + \n",
    "    emp_by_manager['Terminated for Cause'] + \n",
    "    emp_by_manager['Voluntarily Terminated']\n",
    ")\n",
    "\n",
    "emp_by_manager['cause_percent'] = round(\n",
    "    emp_by_manager['Terminated for Cause']/\n",
    "    emp_by_manager['total'],\n",
    "    4\n",
    ") *100\n",
    "\n",
    "emp_by_manager['volun_percent'] = round(\n",
    "    emp_by_manager['Voluntarily Terminated']/\n",
    "    emp_by_manager['total'],\n",
    "    4\n",
    ") *100\n",
    "\n",
    "emp_by_manager['total_term_percent'] = (\n",
    "    emp_by_manager['cause_percent'] +\n",
    "emp_by_manager['volun_percent'])\n",
    "\n",
    "emp_by_manager['cause_dif_from_mean'] = (\n",
    "    emp_by_manager['cause_percent'] - \n",
    "    emp_by_manager['cause_percent'].mean()\n",
    ")\n",
    "\n",
    "emp_by_manager['volun_dif_from_mean'] = (\n",
    "    emp_by_manager['volun_percent'] - \n",
    "    emp_by_manager['volun_percent'].mean()\n",
    ")\n",
    "\n",
    "emp_by_manager['total_term_dif_from_mean'] = (\n",
    "    emp_by_manager['total_term_percent'] - \n",
    "    emp_by_manager['total_term_percent'].mean()\n",
    ")\n",
    "\n",
    "\n",
    "emp_by_manager"
   ]
  },
  {
   "cell_type": "code",
   "execution_count": 78,
   "metadata": {
    "ExecuteTime": {
     "end_time": "2021-12-18T19:54:16.247666Z",
     "start_time": "2021-12-18T19:54:15.837589Z"
    },
    "scrolled": true
   },
   "outputs": [
    {
     "data": {
      "image/png": "[encoded data removed]",
      "text/plain": [
       "<Figure size 720x1080 with 1 Axes>"
      ]
     },
     "metadata": {},
     "output_type": "display_data"
    }
   ],
   "source": [
    "(\n",
    "    emp_by_manager[\n",
    "        [\n",
    "            'total_term_dif_from_mean', \n",
    "            'volun_dif_from_mean', \n",
    "            'cause_dif_from_mean'\n",
    "        ]\n",
    "    ]\n",
    "    .plot(\n",
    "        kind='barh',\n",
    "        color = [NEUTRAL, HIGHLIGHT, BRICK],\n",
    "        figsize = (10,15)\n",
    "    )\n",
    ")\n",
    "plt.title('Difference From Mean Termination Rates by Manager');"
   ]
  },
  {
   "cell_type": "code",
   "execution_count": 79,
   "metadata": {
    "ExecuteTime": {
     "end_time": "2021-12-18T19:54:16.277444Z",
     "start_time": "2021-12-18T19:54:16.249797Z"
    },
    "scrolled": false
   },
   "outputs": [
    {
     "data": {
      "text/html": [
       "<div>\n",
       "<style scoped>\n",
       "    .dataframe tbody tr th:only-of-type {\n",
       "        vertical-align: middle;\n",
       "    }\n",
       "\n",
       "    .dataframe tbody tr th {\n",
       "        vertical-align: top;\n",
       "    }\n",
       "\n",
       "    .dataframe thead th {\n",
       "        text-align: right;\n",
       "    }\n",
       "</style>\n",
       "<table border=\"1\" class=\"dataframe\">\n",
       "  <thead>\n",
       "    <tr style=\"text-align: right;\">\n",
       "      <th>TermReason</th>\n",
       "      <th>Another_position</th>\n",
       "      <th>Fatal_attraction</th>\n",
       "      <th>Learned_that_he_is_a_gangster</th>\n",
       "      <th>N/A-StillEmployed</th>\n",
       "      <th>attendance</th>\n",
       "      <th>career_change</th>\n",
       "      <th>gross_misconduct</th>\n",
       "      <th>hours</th>\n",
       "      <th>maternity_leave_-_did_not_return</th>\n",
       "      <th>medical_issues</th>\n",
       "      <th>military</th>\n",
       "      <th>more_money</th>\n",
       "      <th>no-call,_no-show</th>\n",
       "      <th>performance</th>\n",
       "      <th>relocation_out_of_area</th>\n",
       "      <th>retiring</th>\n",
       "      <th>return_to_school</th>\n",
       "      <th>unhappy</th>\n",
       "    </tr>\n",
       "    <tr>\n",
       "      <th>ManagerName</th>\n",
       "      <th></th>\n",
       "      <th></th>\n",
       "      <th></th>\n",
       "      <th></th>\n",
       "      <th></th>\n",
       "      <th></th>\n",
       "      <th></th>\n",
       "      <th></th>\n",
       "      <th></th>\n",
       "      <th></th>\n",
       "      <th></th>\n",
       "      <th></th>\n",
       "      <th></th>\n",
       "      <th></th>\n",
       "      <th></th>\n",
       "      <th></th>\n",
       "      <th></th>\n",
       "      <th></th>\n",
       "    </tr>\n",
       "  </thead>\n",
       "  <tbody>\n",
       "    <tr>\n",
       "      <th>Alex_Sweetwater</th>\n",
       "      <td>1</td>\n",
       "      <td>0</td>\n",
       "      <td>0</td>\n",
       "      <td>6</td>\n",
       "      <td>1</td>\n",
       "      <td>0</td>\n",
       "      <td>0</td>\n",
       "      <td>0</td>\n",
       "      <td>0</td>\n",
       "      <td>1</td>\n",
       "      <td>0</td>\n",
       "      <td>0</td>\n",
       "      <td>0</td>\n",
       "      <td>0</td>\n",
       "      <td>0</td>\n",
       "      <td>0</td>\n",
       "      <td>0</td>\n",
       "      <td>0</td>\n",
       "    </tr>\n",
       "    <tr>\n",
       "      <th>Amy_Dunn</th>\n",
       "      <td>1</td>\n",
       "      <td>0</td>\n",
       "      <td>0</td>\n",
       "      <td>8</td>\n",
       "      <td>1</td>\n",
       "      <td>0</td>\n",
       "      <td>0</td>\n",
       "      <td>2</td>\n",
       "      <td>0</td>\n",
       "      <td>1</td>\n",
       "      <td>0</td>\n",
       "      <td>2</td>\n",
       "      <td>0</td>\n",
       "      <td>0</td>\n",
       "      <td>1</td>\n",
       "      <td>0</td>\n",
       "      <td>1</td>\n",
       "      <td>4</td>\n",
       "    </tr>\n",
       "    <tr>\n",
       "      <th>Board_of_Directors</th>\n",
       "      <td>0</td>\n",
       "      <td>0</td>\n",
       "      <td>0</td>\n",
       "      <td>2</td>\n",
       "      <td>0</td>\n",
       "      <td>0</td>\n",
       "      <td>0</td>\n",
       "      <td>0</td>\n",
       "      <td>0</td>\n",
       "      <td>0</td>\n",
       "      <td>0</td>\n",
       "      <td>0</td>\n",
       "      <td>0</td>\n",
       "      <td>0</td>\n",
       "      <td>0</td>\n",
       "      <td>0</td>\n",
       "      <td>0</td>\n",
       "      <td>0</td>\n",
       "    </tr>\n",
       "    <tr>\n",
       "      <th>Brandon_LeBlanc</th>\n",
       "      <td>0</td>\n",
       "      <td>0</td>\n",
       "      <td>0</td>\n",
       "      <td>5</td>\n",
       "      <td>0</td>\n",
       "      <td>1</td>\n",
       "      <td>0</td>\n",
       "      <td>0</td>\n",
       "      <td>0</td>\n",
       "      <td>0</td>\n",
       "      <td>0</td>\n",
       "      <td>0</td>\n",
       "      <td>1</td>\n",
       "      <td>0</td>\n",
       "      <td>0</td>\n",
       "      <td>0</td>\n",
       "      <td>0</td>\n",
       "      <td>0</td>\n",
       "    </tr>\n",
       "    <tr>\n",
       "      <th>Brannon_Miller</th>\n",
       "      <td>1</td>\n",
       "      <td>0</td>\n",
       "      <td>0</td>\n",
       "      <td>16</td>\n",
       "      <td>0</td>\n",
       "      <td>1</td>\n",
       "      <td>0</td>\n",
       "      <td>0</td>\n",
       "      <td>0</td>\n",
       "      <td>0</td>\n",
       "      <td>0</td>\n",
       "      <td>1</td>\n",
       "      <td>0</td>\n",
       "      <td>0</td>\n",
       "      <td>0</td>\n",
       "      <td>1</td>\n",
       "      <td>0</td>\n",
       "      <td>2</td>\n",
       "    </tr>\n",
       "    <tr>\n",
       "      <th>Brian_Champaigne</th>\n",
       "      <td>0</td>\n",
       "      <td>0</td>\n",
       "      <td>0</td>\n",
       "      <td>8</td>\n",
       "      <td>0</td>\n",
       "      <td>0</td>\n",
       "      <td>0</td>\n",
       "      <td>0</td>\n",
       "      <td>0</td>\n",
       "      <td>0</td>\n",
       "      <td>0</td>\n",
       "      <td>0</td>\n",
       "      <td>0</td>\n",
       "      <td>0</td>\n",
       "      <td>0</td>\n",
       "      <td>0</td>\n",
       "      <td>0</td>\n",
       "      <td>0</td>\n",
       "    </tr>\n",
       "    <tr>\n",
       "      <th>David_Stanley</th>\n",
       "      <td>3</td>\n",
       "      <td>0</td>\n",
       "      <td>0</td>\n",
       "      <td>15</td>\n",
       "      <td>0</td>\n",
       "      <td>1</td>\n",
       "      <td>0</td>\n",
       "      <td>0</td>\n",
       "      <td>0</td>\n",
       "      <td>0</td>\n",
       "      <td>0</td>\n",
       "      <td>0</td>\n",
       "      <td>0</td>\n",
       "      <td>0</td>\n",
       "      <td>0</td>\n",
       "      <td>0</td>\n",
       "      <td>1</td>\n",
       "      <td>1</td>\n",
       "    </tr>\n",
       "    <tr>\n",
       "      <th>Debra_Houlihan</th>\n",
       "      <td>0</td>\n",
       "      <td>0</td>\n",
       "      <td>0</td>\n",
       "      <td>2</td>\n",
       "      <td>0</td>\n",
       "      <td>0</td>\n",
       "      <td>0</td>\n",
       "      <td>0</td>\n",
       "      <td>1</td>\n",
       "      <td>0</td>\n",
       "      <td>0</td>\n",
       "      <td>0</td>\n",
       "      <td>0</td>\n",
       "      <td>0</td>\n",
       "      <td>0</td>\n",
       "      <td>0</td>\n",
       "      <td>0</td>\n",
       "      <td>0</td>\n",
       "    </tr>\n",
       "    <tr>\n",
       "      <th>Elijiah_Gray</th>\n",
       "      <td>2</td>\n",
       "      <td>0</td>\n",
       "      <td>0</td>\n",
       "      <td>14</td>\n",
       "      <td>0</td>\n",
       "      <td>2</td>\n",
       "      <td>0</td>\n",
       "      <td>1</td>\n",
       "      <td>0</td>\n",
       "      <td>0</td>\n",
       "      <td>0</td>\n",
       "      <td>0</td>\n",
       "      <td>1</td>\n",
       "      <td>0</td>\n",
       "      <td>0</td>\n",
       "      <td>1</td>\n",
       "      <td>0</td>\n",
       "      <td>1</td>\n",
       "    </tr>\n",
       "    <tr>\n",
       "      <th>Eric_Dougall</th>\n",
       "      <td>0</td>\n",
       "      <td>0</td>\n",
       "      <td>0</td>\n",
       "      <td>4</td>\n",
       "      <td>0</td>\n",
       "      <td>0</td>\n",
       "      <td>0</td>\n",
       "      <td>0</td>\n",
       "      <td>0</td>\n",
       "      <td>0</td>\n",
       "      <td>0</td>\n",
       "      <td>0</td>\n",
       "      <td>0</td>\n",
       "      <td>0</td>\n",
       "      <td>0</td>\n",
       "      <td>0</td>\n",
       "      <td>0</td>\n",
       "      <td>0</td>\n",
       "    </tr>\n",
       "    <tr>\n",
       "      <th>Janet_King</th>\n",
       "      <td>2</td>\n",
       "      <td>0</td>\n",
       "      <td>0</td>\n",
       "      <td>13</td>\n",
       "      <td>1</td>\n",
       "      <td>1</td>\n",
       "      <td>0</td>\n",
       "      <td>0</td>\n",
       "      <td>0</td>\n",
       "      <td>0</td>\n",
       "      <td>0</td>\n",
       "      <td>0</td>\n",
       "      <td>0</td>\n",
       "      <td>0</td>\n",
       "      <td>0</td>\n",
       "      <td>1</td>\n",
       "      <td>0</td>\n",
       "      <td>1</td>\n",
       "    </tr>\n",
       "    <tr>\n",
       "      <th>Jennifer_Zamora</th>\n",
       "      <td>0</td>\n",
       "      <td>0</td>\n",
       "      <td>0</td>\n",
       "      <td>6</td>\n",
       "      <td>0</td>\n",
       "      <td>0</td>\n",
       "      <td>0</td>\n",
       "      <td>1</td>\n",
       "      <td>0</td>\n",
       "      <td>0</td>\n",
       "      <td>0</td>\n",
       "      <td>0</td>\n",
       "      <td>0</td>\n",
       "      <td>0</td>\n",
       "      <td>0</td>\n",
       "      <td>0</td>\n",
       "      <td>0</td>\n",
       "      <td>0</td>\n",
       "    </tr>\n",
       "    <tr>\n",
       "      <th>John_Smith</th>\n",
       "      <td>1</td>\n",
       "      <td>0</td>\n",
       "      <td>0</td>\n",
       "      <td>11</td>\n",
       "      <td>1</td>\n",
       "      <td>0</td>\n",
       "      <td>0</td>\n",
       "      <td>0</td>\n",
       "      <td>0</td>\n",
       "      <td>0</td>\n",
       "      <td>0</td>\n",
       "      <td>0</td>\n",
       "      <td>0</td>\n",
       "      <td>0</td>\n",
       "      <td>1</td>\n",
       "      <td>0</td>\n",
       "      <td>0</td>\n",
       "      <td>0</td>\n",
       "    </tr>\n",
       "    <tr>\n",
       "      <th>Kelley_Spirea</th>\n",
       "      <td>1</td>\n",
       "      <td>0</td>\n",
       "      <td>0</td>\n",
       "      <td>16</td>\n",
       "      <td>1</td>\n",
       "      <td>0</td>\n",
       "      <td>1</td>\n",
       "      <td>1</td>\n",
       "      <td>0</td>\n",
       "      <td>0</td>\n",
       "      <td>0</td>\n",
       "      <td>2</td>\n",
       "      <td>0</td>\n",
       "      <td>0</td>\n",
       "      <td>0</td>\n",
       "      <td>0</td>\n",
       "      <td>0</td>\n",
       "      <td>0</td>\n",
       "    </tr>\n",
       "    <tr>\n",
       "      <th>Ketsia_Liebig</th>\n",
       "      <td>1</td>\n",
       "      <td>0</td>\n",
       "      <td>0</td>\n",
       "      <td>16</td>\n",
       "      <td>1</td>\n",
       "      <td>1</td>\n",
       "      <td>0</td>\n",
       "      <td>0</td>\n",
       "      <td>0</td>\n",
       "      <td>0</td>\n",
       "      <td>0</td>\n",
       "      <td>1</td>\n",
       "      <td>0</td>\n",
       "      <td>0</td>\n",
       "      <td>1</td>\n",
       "      <td>0</td>\n",
       "      <td>0</td>\n",
       "      <td>0</td>\n",
       "    </tr>\n",
       "    <tr>\n",
       "      <th>Kissy_Sullivan</th>\n",
       "      <td>3</td>\n",
       "      <td>0</td>\n",
       "      <td>0</td>\n",
       "      <td>10</td>\n",
       "      <td>0</td>\n",
       "      <td>0</td>\n",
       "      <td>0</td>\n",
       "      <td>1</td>\n",
       "      <td>1</td>\n",
       "      <td>0</td>\n",
       "      <td>1</td>\n",
       "      <td>1</td>\n",
       "      <td>0</td>\n",
       "      <td>2</td>\n",
       "      <td>0</td>\n",
       "      <td>0</td>\n",
       "      <td>1</td>\n",
       "      <td>2</td>\n",
       "    </tr>\n",
       "    <tr>\n",
       "      <th>Lynn_Daneault</th>\n",
       "      <td>0</td>\n",
       "      <td>1</td>\n",
       "      <td>0</td>\n",
       "      <td>12</td>\n",
       "      <td>0</td>\n",
       "      <td>0</td>\n",
       "      <td>0</td>\n",
       "      <td>0</td>\n",
       "      <td>0</td>\n",
       "      <td>0</td>\n",
       "      <td>0</td>\n",
       "      <td>0</td>\n",
       "      <td>0</td>\n",
       "      <td>0</td>\n",
       "      <td>0</td>\n",
       "      <td>0</td>\n",
       "      <td>0</td>\n",
       "      <td>0</td>\n",
       "    </tr>\n",
       "    <tr>\n",
       "      <th>Michael_Albert</th>\n",
       "      <td>1</td>\n",
       "      <td>0</td>\n",
       "      <td>0</td>\n",
       "      <td>13</td>\n",
       "      <td>1</td>\n",
       "      <td>0</td>\n",
       "      <td>0</td>\n",
       "      <td>0</td>\n",
       "      <td>1</td>\n",
       "      <td>0</td>\n",
       "      <td>0</td>\n",
       "      <td>3</td>\n",
       "      <td>0</td>\n",
       "      <td>0</td>\n",
       "      <td>2</td>\n",
       "      <td>0</td>\n",
       "      <td>0</td>\n",
       "      <td>1</td>\n",
       "    </tr>\n",
       "    <tr>\n",
       "      <th>Peter_Monroe</th>\n",
       "      <td>0</td>\n",
       "      <td>0</td>\n",
       "      <td>0</td>\n",
       "      <td>13</td>\n",
       "      <td>0</td>\n",
       "      <td>0</td>\n",
       "      <td>0</td>\n",
       "      <td>0</td>\n",
       "      <td>0</td>\n",
       "      <td>1</td>\n",
       "      <td>0</td>\n",
       "      <td>0</td>\n",
       "      <td>0</td>\n",
       "      <td>0</td>\n",
       "      <td>0</td>\n",
       "      <td>0</td>\n",
       "      <td>0</td>\n",
       "      <td>0</td>\n",
       "    </tr>\n",
       "    <tr>\n",
       "      <th>Simon_Roup</th>\n",
       "      <td>1</td>\n",
       "      <td>0</td>\n",
       "      <td>1</td>\n",
       "      <td>9</td>\n",
       "      <td>0</td>\n",
       "      <td>1</td>\n",
       "      <td>0</td>\n",
       "      <td>1</td>\n",
       "      <td>0</td>\n",
       "      <td>0</td>\n",
       "      <td>0</td>\n",
       "      <td>0</td>\n",
       "      <td>2</td>\n",
       "      <td>2</td>\n",
       "      <td>0</td>\n",
       "      <td>0</td>\n",
       "      <td>0</td>\n",
       "      <td>0</td>\n",
       "    </tr>\n",
       "    <tr>\n",
       "      <th>Webster_Butler</th>\n",
       "      <td>2</td>\n",
       "      <td>0</td>\n",
       "      <td>0</td>\n",
       "      <td>8</td>\n",
       "      <td>0</td>\n",
       "      <td>1</td>\n",
       "      <td>0</td>\n",
       "      <td>1</td>\n",
       "      <td>0</td>\n",
       "      <td>0</td>\n",
       "      <td>3</td>\n",
       "      <td>1</td>\n",
       "      <td>0</td>\n",
       "      <td>0</td>\n",
       "      <td>0</td>\n",
       "      <td>1</td>\n",
       "      <td>2</td>\n",
       "      <td>2</td>\n",
       "    </tr>\n",
       "  </tbody>\n",
       "</table>\n",
       "</div>"
      ],
      "text/plain": [
       "TermReason          Another_position  Fatal_attraction  \\\n",
       "ManagerName                                              \n",
       "Alex_Sweetwater                    1                 0   \n",
       "Amy_Dunn                           1                 0   \n",
       "Board_of_Directors                 0                 0   \n",
       "Brandon_LeBlanc                    0                 0   \n",
       "Brannon_Miller                     1                 0   \n",
       "Brian_Champaigne                   0                 0   \n",
       "David_Stanley                      3                 0   \n",
       "Debra_Houlihan                     0                 0   \n",
       "Elijiah_Gray                       2                 0   \n",
       "Eric_Dougall                       0                 0   \n",
       "Janet_King                         2                 0   \n",
       "Jennifer_Zamora                    0                 0   \n",
       "John_Smith                         1                 0   \n",
       "Kelley_Spirea                      1                 0   \n",
       "Ketsia_Liebig                      1                 0   \n",
       "Kissy_Sullivan                     3                 0   \n",
       "Lynn_Daneault                      0                 1   \n",
       "Michael_Albert                     1                 0   \n",
       "Peter_Monroe                       0                 0   \n",
       "Simon_Roup                         1                 0   \n",
       "Webster_Butler                     2                 0   \n",
       "\n",
       "TermReason          Learned_that_he_is_a_gangster  N/A-StillEmployed  \\\n",
       "ManagerName                                                            \n",
       "Alex_Sweetwater                                 0                  6   \n",
       "Amy_Dunn                                        0                  8   \n",
       "Board_of_Directors                              0                  2   \n",
       "Brandon_LeBlanc                                 0                  5   \n",
       "Brannon_Miller                                  0                 16   \n",
       "Brian_Champaigne                                0                  8   \n",
       "David_Stanley                                   0                 15   \n",
       "Debra_Houlihan                                  0                  2   \n",
       "Elijiah_Gray                                    0                 14   \n",
       "Eric_Dougall                                    0                  4   \n",
       "Janet_King                                      0                 13   \n",
       "Jennifer_Zamora                                 0                  6   \n",
       "John_Smith                                      0                 11   \n",
       "Kelley_Spirea                                   0                 16   \n",
       "Ketsia_Liebig                                   0                 16   \n",
       "Kissy_Sullivan                                  0                 10   \n",
       "Lynn_Daneault                                   0                 12   \n",
       "Michael_Albert                                  0                 13   \n",
       "Peter_Monroe                                    0                 13   \n",
       "Simon_Roup                                      1                  9   \n",
       "Webster_Butler                                  0                  8   \n",
       "\n",
       "TermReason          attendance  career_change  gross_misconduct  hours  \\\n",
       "ManagerName                                                              \n",
       "Alex_Sweetwater              1              0                 0      0   \n",
       "Amy_Dunn                     1              0                 0      2   \n",
       "Board_of_Directors           0              0                 0      0   \n",
       "Brandon_LeBlanc              0              1                 0      0   \n",
       "Brannon_Miller               0              1                 0      0   \n",
       "Brian_Champaigne             0              0                 0      0   \n",
       "David_Stanley                0              1                 0      0   \n",
       "Debra_Houlihan               0              0                 0      0   \n",
       "Elijiah_Gray                 0              2                 0      1   \n",
       "Eric_Dougall                 0              0                 0      0   \n",
       "Janet_King                   1              1                 0      0   \n",
       "Jennifer_Zamora              0              0                 0      1   \n",
       "John_Smith                   1              0                 0      0   \n",
       "Kelley_Spirea                1              0                 1      1   \n",
       "Ketsia_Liebig                1              1                 0      0   \n",
       "Kissy_Sullivan               0              0                 0      1   \n",
       "Lynn_Daneault                0              0                 0      0   \n",
       "Michael_Albert               1              0                 0      0   \n",
       "Peter_Monroe                 0              0                 0      0   \n",
       "Simon_Roup                   0              1                 0      1   \n",
       "Webster_Butler               0              1                 0      1   \n",
       "\n",
       "TermReason          maternity_leave_-_did_not_return  medical_issues  \\\n",
       "ManagerName                                                            \n",
       "Alex_Sweetwater                                    0               1   \n",
       "Amy_Dunn                                           0               1   \n",
       "Board_of_Directors                                 0               0   \n",
       "Brandon_LeBlanc                                    0               0   \n",
       "Brannon_Miller                                     0               0   \n",
       "Brian_Champaigne                                   0               0   \n",
       "David_Stanley                                      0               0   \n",
       "Debra_Houlihan                                     1               0   \n",
       "Elijiah_Gray                                       0               0   \n",
       "Eric_Dougall                                       0               0   \n",
       "Janet_King                                         0               0   \n",
       "Jennifer_Zamora                                    0               0   \n",
       "John_Smith                                         0               0   \n",
       "Kelley_Spirea                                      0               0   \n",
       "Ketsia_Liebig                                      0               0   \n",
       "Kissy_Sullivan                                     1               0   \n",
       "Lynn_Daneault                                      0               0   \n",
       "Michael_Albert                                     1               0   \n",
       "Peter_Monroe                                       0               1   \n",
       "Simon_Roup                                         0               0   \n",
       "Webster_Butler                                     0               0   \n",
       "\n",
       "TermReason          military  more_money  no-call,_no-show  performance  \\\n",
       "ManagerName                                                               \n",
       "Alex_Sweetwater            0           0                 0            0   \n",
       "Amy_Dunn                   0           2                 0            0   \n",
       "Board_of_Directors         0           0                 0            0   \n",
       "Brandon_LeBlanc            0           0                 1            0   \n",
       "Brannon_Miller             0           1                 0            0   \n",
       "Brian_Champaigne           0           0                 0            0   \n",
       "David_Stanley              0           0                 0            0   \n",
       "Debra_Houlihan             0           0                 0            0   \n",
       "Elijiah_Gray               0           0                 1            0   \n",
       "Eric_Dougall               0           0                 0            0   \n",
       "Janet_King                 0           0                 0            0   \n",
       "Jennifer_Zamora            0           0                 0            0   \n",
       "John_Smith                 0           0                 0            0   \n",
       "Kelley_Spirea              0           2                 0            0   \n",
       "Ketsia_Liebig              0           1                 0            0   \n",
       "Kissy_Sullivan             1           1                 0            2   \n",
       "Lynn_Daneault              0           0                 0            0   \n",
       "Michael_Albert             0           3                 0            0   \n",
       "Peter_Monroe               0           0                 0            0   \n",
       "Simon_Roup                 0           0                 2            2   \n",
       "Webster_Butler             3           1                 0            0   \n",
       "\n",
       "TermReason          relocation_out_of_area  retiring  return_to_school  \\\n",
       "ManagerName                                                              \n",
       "Alex_Sweetwater                          0         0                 0   \n",
       "Amy_Dunn                                 1         0                 1   \n",
       "Board_of_Directors                       0         0                 0   \n",
       "Brandon_LeBlanc                          0         0                 0   \n",
       "Brannon_Miller                           0         1                 0   \n",
       "Brian_Champaigne                         0         0                 0   \n",
       "David_Stanley                            0         0                 1   \n",
       "Debra_Houlihan                           0         0                 0   \n",
       "Elijiah_Gray                             0         1                 0   \n",
       "Eric_Dougall                             0         0                 0   \n",
       "Janet_King                               0         1                 0   \n",
       "Jennifer_Zamora                          0         0                 0   \n",
       "John_Smith                               1         0                 0   \n",
       "Kelley_Spirea                            0         0                 0   \n",
       "Ketsia_Liebig                            1         0                 0   \n",
       "Kissy_Sullivan                           0         0                 1   \n",
       "Lynn_Daneault                            0         0                 0   \n",
       "Michael_Albert                           2         0                 0   \n",
       "Peter_Monroe                             0         0                 0   \n",
       "Simon_Roup                               0         0                 0   \n",
       "Webster_Butler                           0         1                 2   \n",
       "\n",
       "TermReason          unhappy  \n",
       "ManagerName                  \n",
       "Alex_Sweetwater           0  \n",
       "Amy_Dunn                  4  \n",
       "Board_of_Directors        0  \n",
       "Brandon_LeBlanc           0  \n",
       "Brannon_Miller            2  \n",
       "Brian_Champaigne          0  \n",
       "David_Stanley             1  \n",
       "Debra_Houlihan            0  \n",
       "Elijiah_Gray              1  \n",
       "Eric_Dougall              0  \n",
       "Janet_King                1  \n",
       "Jennifer_Zamora           0  \n",
       "John_Smith                0  \n",
       "Kelley_Spirea             0  \n",
       "Ketsia_Liebig             0  \n",
       "Kissy_Sullivan            2  \n",
       "Lynn_Daneault             0  \n",
       "Michael_Albert            1  \n",
       "Peter_Monroe              0  \n",
       "Simon_Roup                0  \n",
       "Webster_Butler            2  "
      ]
     },
     "execution_count": 79,
     "metadata": {},
     "output_type": "execute_result"
    }
   ],
   "source": [
    "reason_by_manager = pd.crosstab(df['ManagerName'], df['TermReason'])\n",
    "reason_by_manager"
   ]
  },
  {
   "cell_type": "code",
   "execution_count": 80,
   "metadata": {
    "ExecuteTime": {
     "end_time": "2021-12-18T19:54:16.286543Z",
     "start_time": "2021-12-18T19:54:16.279576Z"
    },
    "scrolled": true
   },
   "outputs": [
    {
     "data": {
      "text/html": [
       "<div>\n",
       "<style scoped>\n",
       "    .dataframe tbody tr th:only-of-type {\n",
       "        vertical-align: middle;\n",
       "    }\n",
       "\n",
       "    .dataframe tbody tr th {\n",
       "        vertical-align: top;\n",
       "    }\n",
       "\n",
       "    .dataframe thead th {\n",
       "        text-align: right;\n",
       "    }\n",
       "</style>\n",
       "<table border=\"1\" class=\"dataframe\">\n",
       "  <thead>\n",
       "    <tr style=\"text-align: right;\">\n",
       "      <th>TermReason</th>\n",
       "      <th>unhappy</th>\n",
       "      <th>performance</th>\n",
       "    </tr>\n",
       "    <tr>\n",
       "      <th>ManagerName</th>\n",
       "      <th></th>\n",
       "      <th></th>\n",
       "    </tr>\n",
       "  </thead>\n",
       "  <tbody>\n",
       "    <tr>\n",
       "      <th>Alex_Sweetwater</th>\n",
       "      <td>0</td>\n",
       "      <td>0</td>\n",
       "    </tr>\n",
       "    <tr>\n",
       "      <th>Amy_Dunn</th>\n",
       "      <td>4</td>\n",
       "      <td>0</td>\n",
       "    </tr>\n",
       "    <tr>\n",
       "      <th>Board_of_Directors</th>\n",
       "      <td>0</td>\n",
       "      <td>0</td>\n",
       "    </tr>\n",
       "    <tr>\n",
       "      <th>Brandon_LeBlanc</th>\n",
       "      <td>0</td>\n",
       "      <td>0</td>\n",
       "    </tr>\n",
       "    <tr>\n",
       "      <th>Brannon_Miller</th>\n",
       "      <td>2</td>\n",
       "      <td>0</td>\n",
       "    </tr>\n",
       "    <tr>\n",
       "      <th>Brian_Champaigne</th>\n",
       "      <td>0</td>\n",
       "      <td>0</td>\n",
       "    </tr>\n",
       "    <tr>\n",
       "      <th>David_Stanley</th>\n",
       "      <td>1</td>\n",
       "      <td>0</td>\n",
       "    </tr>\n",
       "    <tr>\n",
       "      <th>Debra_Houlihan</th>\n",
       "      <td>0</td>\n",
       "      <td>0</td>\n",
       "    </tr>\n",
       "    <tr>\n",
       "      <th>Elijiah_Gray</th>\n",
       "      <td>1</td>\n",
       "      <td>0</td>\n",
       "    </tr>\n",
       "    <tr>\n",
       "      <th>Eric_Dougall</th>\n",
       "      <td>0</td>\n",
       "      <td>0</td>\n",
       "    </tr>\n",
       "    <tr>\n",
       "      <th>Janet_King</th>\n",
       "      <td>1</td>\n",
       "      <td>0</td>\n",
       "    </tr>\n",
       "    <tr>\n",
       "      <th>Jennifer_Zamora</th>\n",
       "      <td>0</td>\n",
       "      <td>0</td>\n",
       "    </tr>\n",
       "    <tr>\n",
       "      <th>John_Smith</th>\n",
       "      <td>0</td>\n",
       "      <td>0</td>\n",
       "    </tr>\n",
       "    <tr>\n",
       "      <th>Kelley_Spirea</th>\n",
       "      <td>0</td>\n",
       "      <td>0</td>\n",
       "    </tr>\n",
       "    <tr>\n",
       "      <th>Ketsia_Liebig</th>\n",
       "      <td>0</td>\n",
       "      <td>0</td>\n",
       "    </tr>\n",
       "    <tr>\n",
       "      <th>Kissy_Sullivan</th>\n",
       "      <td>2</td>\n",
       "      <td>2</td>\n",
       "    </tr>\n",
       "    <tr>\n",
       "      <th>Lynn_Daneault</th>\n",
       "      <td>0</td>\n",
       "      <td>0</td>\n",
       "    </tr>\n",
       "    <tr>\n",
       "      <th>Michael_Albert</th>\n",
       "      <td>1</td>\n",
       "      <td>0</td>\n",
       "    </tr>\n",
       "    <tr>\n",
       "      <th>Peter_Monroe</th>\n",
       "      <td>0</td>\n",
       "      <td>0</td>\n",
       "    </tr>\n",
       "    <tr>\n",
       "      <th>Simon_Roup</th>\n",
       "      <td>0</td>\n",
       "      <td>2</td>\n",
       "    </tr>\n",
       "    <tr>\n",
       "      <th>Webster_Butler</th>\n",
       "      <td>2</td>\n",
       "      <td>0</td>\n",
       "    </tr>\n",
       "  </tbody>\n",
       "</table>\n",
       "</div>"
      ],
      "text/plain": [
       "TermReason          unhappy  performance\n",
       "ManagerName                             \n",
       "Alex_Sweetwater           0            0\n",
       "Amy_Dunn                  4            0\n",
       "Board_of_Directors        0            0\n",
       "Brandon_LeBlanc           0            0\n",
       "Brannon_Miller            2            0\n",
       "Brian_Champaigne          0            0\n",
       "David_Stanley             1            0\n",
       "Debra_Houlihan            0            0\n",
       "Elijiah_Gray              1            0\n",
       "Eric_Dougall              0            0\n",
       "Janet_King                1            0\n",
       "Jennifer_Zamora           0            0\n",
       "John_Smith                0            0\n",
       "Kelley_Spirea             0            0\n",
       "Ketsia_Liebig             0            0\n",
       "Kissy_Sullivan            2            2\n",
       "Lynn_Daneault             0            0\n",
       "Michael_Albert            1            0\n",
       "Peter_Monroe              0            0\n",
       "Simon_Roup                0            2\n",
       "Webster_Butler            2            0"
      ]
     },
     "execution_count": 80,
     "metadata": {},
     "output_type": "execute_result"
    }
   ],
   "source": [
    "reason_by_manager[['unhappy', 'performance']]"
   ]
  },
  {
   "cell_type": "code",
   "execution_count": 81,
   "metadata": {
    "ExecuteTime": {
     "end_time": "2021-12-18T19:54:16.293434Z",
     "start_time": "2021-12-18T19:54:16.288358Z"
    }
   },
   "outputs": [
    {
     "data": {
      "text/plain": [
       "ManagerName\n",
       "Alex_Sweetwater       4.222222\n",
       "Amy_Dunn              3.809524\n",
       "Board_of_Directors    3.000000\n",
       "Brandon_LeBlanc       3.571429\n",
       "Brannon_Miller        3.409091\n",
       "Brian_Champaigne      4.000000\n",
       "David_Stanley         3.952381\n",
       "Debra_Houlihan        4.333333\n",
       "Elijiah_Gray          3.954545\n",
       "Eric_Dougall          3.500000\n",
       "Janet_King            3.631579\n",
       "Jennifer_Zamora       4.285714\n",
       "John_Smith            3.928571\n",
       "Kelley_Spirea         3.818182\n",
       "Ketsia_Liebig         4.095238\n",
       "Kissy_Sullivan        3.909091\n",
       "Lynn_Daneault         4.076923\n",
       "Michael_Albert        4.045455\n",
       "Peter_Monroe          3.928571\n",
       "Simon_Roup            3.823529\n",
       "Webster_Butler        4.047619\n",
       "Name: EmpSatisfaction, dtype: float64"
      ]
     },
     "execution_count": 81,
     "metadata": {},
     "output_type": "execute_result"
    }
   ],
   "source": [
    "df.groupby('ManagerName')['EmpSatisfaction'].mean()"
   ]
  },
  {
   "cell_type": "markdown",
   "metadata": {
    "ExecuteTime": {
     "end_time": "2021-12-18T18:53:02.731839Z",
     "start_time": "2021-12-18T18:53:02.727897Z"
    }
   },
   "source": [
    "Based on all of the above, I am going to create a new manager column with the names of the managers associated with either higher or lower employee satisfaction and retention and bin the rest into 'other.'"
   ]
  },
  {
   "cell_type": "code",
   "execution_count": 82,
   "metadata": {
    "ExecuteTime": {
     "end_time": "2021-12-18T19:54:16.297381Z",
     "start_time": "2021-12-18T19:54:16.294732Z"
    }
   },
   "outputs": [],
   "source": [
    "def bin_managers(manager):\n",
    "    \n",
    "    sig_managers = (\n",
    "    ['Amy_Dunn','Brian_Champaigne','Eric_Dougall','Michael_Albert',\n",
    "    'Simon_Roup','Webster_Butler','Kissy_Sullivan','Peter_Monroe',\n",
    "    'Lynn_Daneault','Board_of_Directors'])\n",
    "    \n",
    "    if manager not in sig_managers:\n",
    "        return 'other'\n",
    "    return manager"
   ]
  },
  {
   "cell_type": "code",
   "execution_count": 83,
   "metadata": {
    "ExecuteTime": {
     "end_time": "2021-12-18T19:54:16.301533Z",
     "start_time": "2021-12-18T19:54:16.298715Z"
    }
   },
   "outputs": [],
   "source": [
    "df['sig_managers'] = df['ManagerName'].apply(bin_managers)"
   ]
  },
  {
   "cell_type": "markdown",
   "metadata": {
    "ExecuteTime": {
     "end_time": "2021-12-17T21:53:26.744061Z",
     "start_time": "2021-12-17T21:53:26.736414Z"
    }
   },
   "source": [
    "There are definitely some patterns between employment status and manager that will need to be investigated further."
   ]
  },
  {
   "cell_type": "code",
   "execution_count": 84,
   "metadata": {
    "ExecuteTime": {
     "end_time": "2021-12-18T19:54:16.306943Z",
     "start_time": "2021-12-18T19:54:16.302823Z"
    },
    "scrolled": true
   },
   "outputs": [
    {
     "data": {
      "text/plain": [
       "Indeed                     0.279743\n",
       "LinkedIn                   0.244373\n",
       "Google Search              0.157556\n",
       "Employee Referral          0.099678\n",
       "Diversity Job Fair         0.093248\n",
       "CareerBuilder              0.073955\n",
       "Website                    0.041801\n",
       "Other                      0.006431\n",
       "On-line Web application    0.003215\n",
       "Name: RecruitmentSource, dtype: float64"
      ]
     },
     "execution_count": 84,
     "metadata": {},
     "output_type": "execute_result"
    }
   ],
   "source": [
    "df['RecruitmentSource'].value_counts(normalize=True)"
   ]
  },
  {
   "cell_type": "markdown",
   "metadata": {},
   "source": [
    "The diversity job fair is already accounted for in another column, so is not needed here. Many of the other categories are too granular, since this data is not going to be used to change how job openings are posted or marketed. I'm going to bin these into job_board, referral and other."
   ]
  },
  {
   "cell_type": "code",
   "execution_count": 85,
   "metadata": {
    "ExecuteTime": {
     "end_time": "2021-12-18T19:54:16.311396Z",
     "start_time": "2021-12-18T19:54:16.308113Z"
    }
   },
   "outputs": [],
   "source": [
    "def bin_source(source):\n",
    "    \"\"\"Bins the recruitment source into three categories.\"\"\"\n",
    "    \n",
    "    if source in ['Indeed', 'LinkedIn', 'CareerBuilder']:\n",
    "        return 'job_board'\n",
    "    elif source == 'Employee Referral':\n",
    "        return 'referral'\n",
    "    return 'other'\n",
    "\n",
    "df['binned_rec_source'] = df['RecruitmentSource'].apply(bin_source)"
   ]
  },
  {
   "cell_type": "code",
   "execution_count": 86,
   "metadata": {
    "ExecuteTime": {
     "end_time": "2021-12-18T19:54:16.316885Z",
     "start_time": "2021-12-18T19:54:16.312777Z"
    }
   },
   "outputs": [
    {
     "data": {
      "text/plain": [
       "job_board    186\n",
       "other         94\n",
       "referral      31\n",
       "Name: binned_rec_source, dtype: int64"
      ]
     },
     "execution_count": 86,
     "metadata": {},
     "output_type": "execute_result"
    }
   ],
   "source": [
    "df['binned_rec_source'].value_counts()"
   ]
  },
  {
   "cell_type": "code",
   "execution_count": 87,
   "metadata": {
    "ExecuteTime": {
     "end_time": "2021-12-18T19:54:16.322964Z",
     "start_time": "2021-12-18T19:54:16.318184Z"
    },
    "scrolled": true
   },
   "outputs": [
    {
     "data": {
      "text/plain": [
       "Fully_Meets          0.781350\n",
       "Exceeds              0.118971\n",
       "Needs_Improvement    0.057878\n",
       "PIP                  0.041801\n",
       "Name: PerformanceScore, dtype: float64"
      ]
     },
     "execution_count": 87,
     "metadata": {},
     "output_type": "execute_result"
    }
   ],
   "source": [
    "df['PerformanceScore'].value_counts(normalize=True)"
   ]
  },
  {
   "cell_type": "code",
   "execution_count": 88,
   "metadata": {
    "ExecuteTime": {
     "end_time": "2021-12-18T19:54:16.326927Z",
     "start_time": "2021-12-18T19:54:16.324390Z"
    }
   },
   "outputs": [],
   "source": [
    "df['PerformanceScore'] = (\n",
    "    df['PerformanceScore'].apply(lambda x: x.replace(' ','_'))\n",
    ")"
   ]
  },
  {
   "cell_type": "code",
   "execution_count": 89,
   "metadata": {
    "ExecuteTime": {
     "end_time": "2021-12-18T19:54:16.342752Z",
     "start_time": "2021-12-18T19:54:16.328348Z"
    },
    "scrolled": true
   },
   "outputs": [
    {
     "data": {
      "text/html": [
       "<div>\n",
       "<style scoped>\n",
       "    .dataframe tbody tr th:only-of-type {\n",
       "        vertical-align: middle;\n",
       "    }\n",
       "\n",
       "    .dataframe tbody tr th {\n",
       "        vertical-align: top;\n",
       "    }\n",
       "\n",
       "    .dataframe thead th {\n",
       "        text-align: right;\n",
       "    }\n",
       "</style>\n",
       "<table border=\"1\" class=\"dataframe\">\n",
       "  <thead>\n",
       "    <tr style=\"text-align: right;\">\n",
       "      <th></th>\n",
       "      <th>employed</th>\n",
       "      <th>terminated</th>\n",
       "      <th>percent_term</th>\n",
       "    </tr>\n",
       "    <tr>\n",
       "      <th>PerformanceScore</th>\n",
       "      <th></th>\n",
       "      <th></th>\n",
       "      <th></th>\n",
       "    </tr>\n",
       "  </thead>\n",
       "  <tbody>\n",
       "    <tr>\n",
       "      <th>Exceeds</th>\n",
       "      <td>29</td>\n",
       "      <td>8</td>\n",
       "      <td>0.216216</td>\n",
       "    </tr>\n",
       "    <tr>\n",
       "      <th>Fully_Meets</th>\n",
       "      <td>162</td>\n",
       "      <td>81</td>\n",
       "      <td>0.333333</td>\n",
       "    </tr>\n",
       "    <tr>\n",
       "      <th>Needs_Improvement</th>\n",
       "      <td>8</td>\n",
       "      <td>10</td>\n",
       "      <td>0.555556</td>\n",
       "    </tr>\n",
       "    <tr>\n",
       "      <th>PIP</th>\n",
       "      <td>8</td>\n",
       "      <td>5</td>\n",
       "      <td>0.384615</td>\n",
       "    </tr>\n",
       "  </tbody>\n",
       "</table>\n",
       "</div>"
      ],
      "text/plain": [
       "                   employed  terminated  percent_term\n",
       "PerformanceScore                                     \n",
       "Exceeds                  29           8      0.216216\n",
       "Fully_Meets             162          81      0.333333\n",
       "Needs_Improvement         8          10      0.555556\n",
       "PIP                       8           5      0.384615"
      ]
     },
     "execution_count": 89,
     "metadata": {},
     "output_type": "execute_result"
    }
   ],
   "source": [
    "employment_by_performance = pd.crosstab(df['PerformanceScore'], df['Termd'])\n",
    "employment_by_performance.columns = ['employed', 'terminated']\n",
    "employment_by_performance['percent_term'] = (\n",
    "    employment_by_performance['terminated']/\n",
    "    (\n",
    "        employment_by_performance['terminated'] +\n",
    "        employment_by_performance['employed']\n",
    "    )\n",
    ")\n",
    "employment_by_performance"
   ]
  },
  {
   "cell_type": "code",
   "execution_count": 90,
   "metadata": {
    "ExecuteTime": {
     "end_time": "2021-12-18T19:54:16.360036Z",
     "start_time": "2021-12-18T19:54:16.343995Z"
    }
   },
   "outputs": [
    {
     "data": {
      "text/html": [
       "<div>\n",
       "<style scoped>\n",
       "    .dataframe tbody tr th:only-of-type {\n",
       "        vertical-align: middle;\n",
       "    }\n",
       "\n",
       "    .dataframe tbody tr th {\n",
       "        vertical-align: top;\n",
       "    }\n",
       "\n",
       "    .dataframe thead th {\n",
       "        text-align: right;\n",
       "    }\n",
       "</style>\n",
       "<table border=\"1\" class=\"dataframe\">\n",
       "  <thead>\n",
       "    <tr style=\"text-align: right;\">\n",
       "      <th>PerformanceScore</th>\n",
       "      <th>Exceeds</th>\n",
       "      <th>Fully_Meets</th>\n",
       "      <th>Needs_Improvement</th>\n",
       "      <th>PIP</th>\n",
       "    </tr>\n",
       "    <tr>\n",
       "      <th>TermReason</th>\n",
       "      <th></th>\n",
       "      <th></th>\n",
       "      <th></th>\n",
       "      <th></th>\n",
       "    </tr>\n",
       "  </thead>\n",
       "  <tbody>\n",
       "    <tr>\n",
       "      <th>Another_position</th>\n",
       "      <td>2</td>\n",
       "      <td>17</td>\n",
       "      <td>0</td>\n",
       "      <td>1</td>\n",
       "    </tr>\n",
       "    <tr>\n",
       "      <th>Fatal_attraction</th>\n",
       "      <td>0</td>\n",
       "      <td>0</td>\n",
       "      <td>0</td>\n",
       "      <td>1</td>\n",
       "    </tr>\n",
       "    <tr>\n",
       "      <th>Learned_that_he_is_a_gangster</th>\n",
       "      <td>0</td>\n",
       "      <td>1</td>\n",
       "      <td>0</td>\n",
       "      <td>0</td>\n",
       "    </tr>\n",
       "    <tr>\n",
       "      <th>N/A-StillEmployed</th>\n",
       "      <td>29</td>\n",
       "      <td>162</td>\n",
       "      <td>8</td>\n",
       "      <td>8</td>\n",
       "    </tr>\n",
       "    <tr>\n",
       "      <th>attendance</th>\n",
       "      <td>0</td>\n",
       "      <td>4</td>\n",
       "      <td>3</td>\n",
       "      <td>0</td>\n",
       "    </tr>\n",
       "    <tr>\n",
       "      <th>career_change</th>\n",
       "      <td>0</td>\n",
       "      <td>6</td>\n",
       "      <td>2</td>\n",
       "      <td>1</td>\n",
       "    </tr>\n",
       "    <tr>\n",
       "      <th>gross_misconduct</th>\n",
       "      <td>1</td>\n",
       "      <td>0</td>\n",
       "      <td>0</td>\n",
       "      <td>0</td>\n",
       "    </tr>\n",
       "    <tr>\n",
       "      <th>hours</th>\n",
       "      <td>0</td>\n",
       "      <td>8</td>\n",
       "      <td>0</td>\n",
       "      <td>0</td>\n",
       "    </tr>\n",
       "    <tr>\n",
       "      <th>maternity_leave_-_did_not_return</th>\n",
       "      <td>1</td>\n",
       "      <td>2</td>\n",
       "      <td>0</td>\n",
       "      <td>0</td>\n",
       "    </tr>\n",
       "    <tr>\n",
       "      <th>medical_issues</th>\n",
       "      <td>0</td>\n",
       "      <td>3</td>\n",
       "      <td>0</td>\n",
       "      <td>0</td>\n",
       "    </tr>\n",
       "    <tr>\n",
       "      <th>military</th>\n",
       "      <td>0</td>\n",
       "      <td>3</td>\n",
       "      <td>1</td>\n",
       "      <td>0</td>\n",
       "    </tr>\n",
       "    <tr>\n",
       "      <th>more_money</th>\n",
       "      <td>2</td>\n",
       "      <td>9</td>\n",
       "      <td>0</td>\n",
       "      <td>0</td>\n",
       "    </tr>\n",
       "    <tr>\n",
       "      <th>no-call,_no-show</th>\n",
       "      <td>0</td>\n",
       "      <td>3</td>\n",
       "      <td>1</td>\n",
       "      <td>0</td>\n",
       "    </tr>\n",
       "    <tr>\n",
       "      <th>performance</th>\n",
       "      <td>0</td>\n",
       "      <td>2</td>\n",
       "      <td>1</td>\n",
       "      <td>1</td>\n",
       "    </tr>\n",
       "    <tr>\n",
       "      <th>relocation_out_of_area</th>\n",
       "      <td>0</td>\n",
       "      <td>5</td>\n",
       "      <td>0</td>\n",
       "      <td>0</td>\n",
       "    </tr>\n",
       "    <tr>\n",
       "      <th>retiring</th>\n",
       "      <td>1</td>\n",
       "      <td>3</td>\n",
       "      <td>0</td>\n",
       "      <td>0</td>\n",
       "    </tr>\n",
       "    <tr>\n",
       "      <th>return_to_school</th>\n",
       "      <td>0</td>\n",
       "      <td>5</td>\n",
       "      <td>0</td>\n",
       "      <td>0</td>\n",
       "    </tr>\n",
       "    <tr>\n",
       "      <th>unhappy</th>\n",
       "      <td>1</td>\n",
       "      <td>10</td>\n",
       "      <td>2</td>\n",
       "      <td>1</td>\n",
       "    </tr>\n",
       "  </tbody>\n",
       "</table>\n",
       "</div>"
      ],
      "text/plain": [
       "PerformanceScore                  Exceeds  Fully_Meets  Needs_Improvement  PIP\n",
       "TermReason                                                                    \n",
       "Another_position                        2           17                  0    1\n",
       "Fatal_attraction                        0            0                  0    1\n",
       "Learned_that_he_is_a_gangster           0            1                  0    0\n",
       "N/A-StillEmployed                      29          162                  8    8\n",
       "attendance                              0            4                  3    0\n",
       "career_change                           0            6                  2    1\n",
       "gross_misconduct                        1            0                  0    0\n",
       "hours                                   0            8                  0    0\n",
       "maternity_leave_-_did_not_return        1            2                  0    0\n",
       "medical_issues                          0            3                  0    0\n",
       "military                                0            3                  1    0\n",
       "more_money                              2            9                  0    0\n",
       "no-call,_no-show                        0            3                  1    0\n",
       "performance                             0            2                  1    1\n",
       "relocation_out_of_area                  0            5                  0    0\n",
       "retiring                                1            3                  0    0\n",
       "return_to_school                        0            5                  0    0\n",
       "unhappy                                 1           10                  2    1"
      ]
     },
     "execution_count": 90,
     "metadata": {},
     "output_type": "execute_result"
    }
   ],
   "source": [
    "pd.crosstab(df['TermReason'], df['PerformanceScore'])"
   ]
  },
  {
   "cell_type": "markdown",
   "metadata": {},
   "source": [
    "Considering that employees classified as Needs Improvement leave more often and by their own decision than those on a PIP, perhaps there may be a need to offer more support at an earlier stage to struggling employees. However, it is important to note that the majority of employees whoa re no longer employed with the company met or exceeded expectations."
   ]
  },
  {
   "cell_type": "code",
   "execution_count": 91,
   "metadata": {
    "ExecuteTime": {
     "end_time": "2021-12-18T19:54:16.366822Z",
     "start_time": "2021-12-18T19:54:16.361372Z"
    }
   },
   "outputs": [
    {
     "data": {
      "text/plain": [
       "count    311.000000\n",
       "mean       4.110000\n",
       "std        0.789938\n",
       "min        1.120000\n",
       "25%        3.690000\n",
       "50%        4.280000\n",
       "75%        4.700000\n",
       "max        5.000000\n",
       "Name: EngagementSurvey, dtype: float64"
      ]
     },
     "execution_count": 91,
     "metadata": {},
     "output_type": "execute_result"
    }
   ],
   "source": [
    "df['EngagementSurvey'].describe()"
   ]
  },
  {
   "cell_type": "code",
   "execution_count": 92,
   "metadata": {
    "ExecuteTime": {
     "end_time": "2021-12-18T19:54:16.491913Z",
     "start_time": "2021-12-18T19:54:16.368622Z"
    },
    "scrolled": true
   },
   "outputs": [
    {
     "data": {
      "image/png": "[encoded data removed]",
      "text/plain": [
       "<Figure size 432x288 with 1 Axes>"
      ]
     },
     "metadata": {},
     "output_type": "display_data"
    }
   ],
   "source": [
    "#The engagement data are skewed left, showing that the majority of employees \n",
    "#are engaged\n",
    "df['EngagementSurvey'].hist(color=NEUTRAL)\n",
    "plt.title('Distribution of Employee Engagement');"
   ]
  },
  {
   "cell_type": "code",
   "execution_count": 93,
   "metadata": {
    "ExecuteTime": {
     "end_time": "2021-12-18T19:54:16.614428Z",
     "start_time": "2021-12-18T19:54:16.493957Z"
    },
    "scrolled": false
   },
   "outputs": [
    {
     "data": {
      "image/png": "[encoded data removed]",
      "text/plain": [
       "<Figure size 432x288 with 1 Axes>"
      ]
     },
     "metadata": {},
     "output_type": "display_data"
    }
   ],
   "source": [
    "#Take the log of the survey results\n",
    "df['engagement_log'] = np.log(df['EngagementSurvey'])\n",
    "df['engagement_log'].hist(color=NEUTRAL)\n",
    "plt.title('Distribution of Logged Employee Engagement');"
   ]
  },
  {
   "cell_type": "markdown",
   "metadata": {},
   "source": [
    "Taking the log did not improve the distribution. "
   ]
  },
  {
   "cell_type": "code",
   "execution_count": 94,
   "metadata": {
    "ExecuteTime": {
     "end_time": "2021-12-18T19:54:16.621337Z",
     "start_time": "2021-12-18T19:54:16.616864Z"
    }
   },
   "outputs": [],
   "source": [
    "#remove the log column\n",
    "df.drop('engagement_log', axis=1, inplace=True)"
   ]
  },
  {
   "cell_type": "code",
   "execution_count": 95,
   "metadata": {
    "ExecuteTime": {
     "end_time": "2021-12-18T19:54:16.628162Z",
     "start_time": "2021-12-18T19:54:16.623417Z"
    },
    "scrolled": true
   },
   "outputs": [
    {
     "data": {
      "text/plain": [
       "3    108\n",
       "5     98\n",
       "4     94\n",
       "2      9\n",
       "1      2\n",
       "Name: EmpSatisfaction, dtype: int64"
      ]
     },
     "execution_count": 95,
     "metadata": {},
     "output_type": "execute_result"
    }
   ],
   "source": [
    "df['EmpSatisfaction'].value_counts()"
   ]
  },
  {
   "cell_type": "code",
   "execution_count": 96,
   "metadata": {
    "ExecuteTime": {
     "end_time": "2021-12-18T19:54:16.643480Z",
     "start_time": "2021-12-18T19:54:16.629837Z"
    },
    "scrolled": false
   },
   "outputs": [
    {
     "data": {
      "text/html": [
       "<div>\n",
       "<style scoped>\n",
       "    .dataframe tbody tr th:only-of-type {\n",
       "        vertical-align: middle;\n",
       "    }\n",
       "\n",
       "    .dataframe tbody tr th {\n",
       "        vertical-align: top;\n",
       "    }\n",
       "\n",
       "    .dataframe thead th {\n",
       "        text-align: right;\n",
       "    }\n",
       "</style>\n",
       "<table border=\"1\" class=\"dataframe\">\n",
       "  <thead>\n",
       "    <tr style=\"text-align: right;\">\n",
       "      <th>Termd</th>\n",
       "      <th>0</th>\n",
       "      <th>1</th>\n",
       "    </tr>\n",
       "    <tr>\n",
       "      <th>EmpSatisfaction</th>\n",
       "      <th></th>\n",
       "      <th></th>\n",
       "    </tr>\n",
       "  </thead>\n",
       "  <tbody>\n",
       "    <tr>\n",
       "      <th>1</th>\n",
       "      <td>2</td>\n",
       "      <td>0</td>\n",
       "    </tr>\n",
       "    <tr>\n",
       "      <th>2</th>\n",
       "      <td>5</td>\n",
       "      <td>4</td>\n",
       "    </tr>\n",
       "    <tr>\n",
       "      <th>3</th>\n",
       "      <td>75</td>\n",
       "      <td>33</td>\n",
       "    </tr>\n",
       "    <tr>\n",
       "      <th>4</th>\n",
       "      <td>56</td>\n",
       "      <td>38</td>\n",
       "    </tr>\n",
       "    <tr>\n",
       "      <th>5</th>\n",
       "      <td>69</td>\n",
       "      <td>29</td>\n",
       "    </tr>\n",
       "  </tbody>\n",
       "</table>\n",
       "</div>"
      ],
      "text/plain": [
       "Termd             0   1\n",
       "EmpSatisfaction        \n",
       "1                 2   0\n",
       "2                 5   4\n",
       "3                75  33\n",
       "4                56  38\n",
       "5                69  29"
      ]
     },
     "execution_count": 96,
     "metadata": {},
     "output_type": "execute_result"
    }
   ],
   "source": [
    "pd.crosstab(df['EmpSatisfaction'], df['Termd'])"
   ]
  },
  {
   "cell_type": "code",
   "execution_count": 97,
   "metadata": {
    "ExecuteTime": {
     "end_time": "2021-12-18T19:54:16.648948Z",
     "start_time": "2021-12-18T19:54:16.644832Z"
    }
   },
   "outputs": [
    {
     "data": {
      "text/plain": [
       "Termd\n",
       "0    4.29\n",
       "1    4.22\n",
       "Name: EngagementSurvey, dtype: float64"
      ]
     },
     "execution_count": 97,
     "metadata": {},
     "output_type": "execute_result"
    }
   ],
   "source": [
    "#Those that terminated have a slightly slower median engagement score\n",
    "df.groupby('Termd')['EngagementSurvey'].median()"
   ]
  },
  {
   "cell_type": "code",
   "execution_count": 98,
   "metadata": {
    "ExecuteTime": {
     "end_time": "2021-12-18T19:54:16.752681Z",
     "start_time": "2021-12-18T19:54:16.650311Z"
    },
    "scrolled": true
   },
   "outputs": [
    {
     "data": {
      "image/png": "[encoded data removed]",
      "text/plain": [
       "<Figure size 432x288 with 1 Axes>"
      ]
     },
     "metadata": {},
     "output_type": "display_data"
    }
   ],
   "source": [
    "satisfaction_by_term = (\n",
    "    df.groupby('Termd')['EmpSatisfaction']\n",
    "    .value_counts(\n",
    "        normalize=True\n",
    "    )\n",
    ")\n",
    "\n",
    "satisfaction_by_term[0].plot(kind='bar', color=NEUTRAL)\n",
    "plt.title('Percent at Each Satisfaction Level for Current Employees');"
   ]
  },
  {
   "cell_type": "code",
   "execution_count": 99,
   "metadata": {
    "ExecuteTime": {
     "end_time": "2021-12-18T19:54:16.851516Z",
     "start_time": "2021-12-18T19:54:16.754694Z"
    }
   },
   "outputs": [
    {
     "data": {
      "image/png": "[encoded data removed]",
      "text/plain": [
       "<Figure size 432x288 with 1 Axes>"
      ]
     },
     "metadata": {},
     "output_type": "display_data"
    }
   ],
   "source": [
    "satisfaction_by_term[1].plot(kind='bar', color=NEUTRAL)\n",
    "plt.title('Percent at Each Satisfaction Level for Terminated Employees');"
   ]
  },
  {
   "cell_type": "code",
   "execution_count": 100,
   "metadata": {
    "ExecuteTime": {
     "end_time": "2021-12-18T19:54:16.961821Z",
     "start_time": "2021-12-18T19:54:16.853924Z"
    },
    "scrolled": true
   },
   "outputs": [
    {
     "data": {
      "image/png": "[encoded data removed]",
      "text/plain": [
       "<Figure size 432x288 with 1 Axes>"
      ]
     },
     "metadata": {},
     "output_type": "display_data"
    }
   ],
   "source": [
    "df.groupby('EmpSatisfaction')['EngagementSurvey'].median().plot(\n",
    "    kind='bar', \n",
    "    color=NEUTRAL)\n",
    "    \n",
    "plt.ylabel('Median employee engagement')\n",
    "plt.title('Median Employment Engagement by Satisfaction Level');"
   ]
  },
  {
   "cell_type": "code",
   "execution_count": 101,
   "metadata": {
    "ExecuteTime": {
     "end_time": "2021-12-18T19:54:17.254354Z",
     "start_time": "2021-12-18T19:54:16.963925Z"
    },
    "scrolled": false
   },
   "outputs": [
    {
     "data": {
      "image/png": "[encoded data removed]",
      "text/plain": [
       "<Figure size 864x576 with 1 Axes>"
      ]
     },
     "metadata": {},
     "output_type": "display_data"
    }
   ],
   "source": [
    "fig,ax = plt.subplots(figsize=(12,8))\n",
    "sns.boxplot(\n",
    "    data=df, \n",
    "    y='EngagementSurvey', \n",
    "    x='EmpSatisfaction', \n",
    "    hue='Termd',\n",
    "    palette=PALETTE\n",
    ")\n",
    "plt.title('Employee Engagement, Satisfaction and Employment Status');"
   ]
  },
  {
   "cell_type": "markdown",
   "metadata": {},
   "source": [
    "In general, there is little difference between the employed and terminated employees for the employees with high engagement and high satisfaction (4 or 5). For employees that report a satisfaction level of 3, those that have terminated their employment have more variation in their engagement than those who are still employed. There are not enough employees who rated their satisfaction at a 2 or 1 (9 and 2 respectively) to be able to make any generalizations.\n",
    "\n",
    "Overall, it seems "
   ]
  },
  {
   "cell_type": "markdown",
   "metadata": {},
   "source": [
    "I want to use the other features (excluding those that contain information about termination) to be able to predict employees' responses on the survey. It may be best to engineer a single target metric out of satisfaction and engagement. I'll start with just a sum of the two and adjust later, if needed. "
   ]
  },
  {
   "cell_type": "code",
   "execution_count": 102,
   "metadata": {
    "ExecuteTime": {
     "end_time": "2021-12-18T19:54:17.382167Z",
     "start_time": "2021-12-18T19:54:17.256172Z"
    }
   },
   "outputs": [
    {
     "data": {
      "image/png": "[encoded data removed]",
      "text/plain": [
       "<Figure size 432x288 with 1 Axes>"
      ]
     },
     "metadata": {},
     "output_type": "display_data"
    }
   ],
   "source": [
    "df['combined_target'] = df['EngagementSurvey'] * df['EmpSatisfaction']\n",
    "df['combined_target'].hist(color=NEUTRAL)\n",
    "plt.title('Distribution of Target Metric');"
   ]
  },
  {
   "cell_type": "code",
   "execution_count": 103,
   "metadata": {
    "ExecuteTime": {
     "end_time": "2021-12-18T19:54:17.389490Z",
     "start_time": "2021-12-18T19:54:17.384380Z"
    }
   },
   "outputs": [
    {
     "data": {
      "text/plain": [
       "0    241\n",
       "6     21\n",
       "5     21\n",
       "7     12\n",
       "4      9\n",
       "3      3\n",
       "8      2\n",
       "2      1\n",
       "1      1\n",
       "Name: SpecialProjectsCount, dtype: int64"
      ]
     },
     "execution_count": 103,
     "metadata": {},
     "output_type": "execute_result"
    }
   ],
   "source": [
    "df['SpecialProjectsCount'].value_counts()"
   ]
  },
  {
   "cell_type": "markdown",
   "metadata": {},
   "source": [
    "With the data clustered at 0 and the higher numbers, I am going to bin these into three categories."
   ]
  },
  {
   "cell_type": "code",
   "execution_count": 104,
   "metadata": {
    "ExecuteTime": {
     "end_time": "2021-12-18T19:54:17.397304Z",
     "start_time": "2021-12-18T19:54:17.391245Z"
    }
   },
   "outputs": [
    {
     "data": {
      "text/plain": [
       "none            241\n",
       "five_or_more     56\n",
       "below_five       14\n",
       "Name: binned_projects, dtype: int64"
      ]
     },
     "execution_count": 104,
     "metadata": {},
     "output_type": "execute_result"
    }
   ],
   "source": [
    "def bin_projects(count):\n",
    "    \"\"\"Bins the project counts into three categories.\"\"\"\n",
    "    \n",
    "    if count == 0:\n",
    "        return 'none'\n",
    "    elif count < 5:\n",
    "        return 'below_five'\n",
    "    return 'five_or_more'\n",
    "\n",
    "df['binned_projects'] = df['SpecialProjectsCount'].apply(bin_projects)\n",
    "\n",
    "df['binned_projects'].value_counts()"
   ]
  },
  {
   "cell_type": "code",
   "execution_count": 105,
   "metadata": {
    "ExecuteTime": {
     "end_time": "2021-12-18T19:54:17.418599Z",
     "start_time": "2021-12-18T19:54:17.398870Z"
    }
   },
   "outputs": [],
   "source": [
    "df['LastPerformanceReview_Date'] = pd.to_datetime(df['LastPerformanceReview_Date'])"
   ]
  },
  {
   "cell_type": "code",
   "execution_count": 106,
   "metadata": {
    "ExecuteTime": {
     "end_time": "2021-12-18T19:54:17.541843Z",
     "start_time": "2021-12-18T19:54:17.420290Z"
    }
   },
   "outputs": [
    {
     "data": {
      "image/png": "[encoded data removed]",
      "text/plain": [
       "<Figure size 432x288 with 1 Axes>"
      ]
     },
     "metadata": {},
     "output_type": "display_data"
    }
   ],
   "source": [
    "df['review_to_term'] = df['DateofTermination'] - df['LastPerformanceReview_Date'] \n",
    "df['review_to_term'] = df['review_to_term']//np.timedelta64(1,'D')\n",
    "df['review_to_term'].hist(color=NEUTRAL)\n",
    "plt.title('Number of Days Between Review and Termination');"
   ]
  },
  {
   "cell_type": "code",
   "execution_count": 107,
   "metadata": {
    "ExecuteTime": {
     "end_time": "2021-12-18T19:54:17.561333Z",
     "start_time": "2021-12-18T19:54:17.543759Z"
    }
   },
   "outputs": [
    {
     "data": {
      "text/html": [
       "<div>\n",
       "<style scoped>\n",
       "    .dataframe tbody tr th:only-of-type {\n",
       "        vertical-align: middle;\n",
       "    }\n",
       "\n",
       "    .dataframe tbody tr th {\n",
       "        vertical-align: top;\n",
       "    }\n",
       "\n",
       "    .dataframe thead th {\n",
       "        text-align: right;\n",
       "    }\n",
       "</style>\n",
       "<table border=\"1\" class=\"dataframe\">\n",
       "  <thead>\n",
       "    <tr style=\"text-align: right;\">\n",
       "      <th></th>\n",
       "      <th>Employee_Name</th>\n",
       "      <th>EmpID</th>\n",
       "      <th>MarriedID</th>\n",
       "      <th>GenderID</th>\n",
       "      <th>FromDiversityJobFairID</th>\n",
       "      <th>Salary</th>\n",
       "      <th>Termd</th>\n",
       "      <th>Position</th>\n",
       "      <th>State</th>\n",
       "      <th>Zip</th>\n",
       "      <th>...</th>\n",
       "      <th>hired_after</th>\n",
       "      <th>age_hired</th>\n",
       "      <th>age_hired_log</th>\n",
       "      <th>employment_months</th>\n",
       "      <th>age_at_termination</th>\n",
       "      <th>sig_managers</th>\n",
       "      <th>binned_rec_source</th>\n",
       "      <th>combined_target</th>\n",
       "      <th>binned_projects</th>\n",
       "      <th>review_to_term</th>\n",
       "    </tr>\n",
       "  </thead>\n",
       "  <tbody>\n",
       "    <tr>\n",
       "      <th>95</th>\n",
       "      <td>Forrest, Alex</td>\n",
       "      <td>10305</td>\n",
       "      <td>1</td>\n",
       "      <td>1</td>\n",
       "      <td>0</td>\n",
       "      <td>70187</td>\n",
       "      <td>1</td>\n",
       "      <td>Area Sales Manager</td>\n",
       "      <td>MA</td>\n",
       "      <td>2330</td>\n",
       "      <td>...</td>\n",
       "      <td>3185</td>\n",
       "      <td>39</td>\n",
       "      <td>3.663562</td>\n",
       "      <td>46.0</td>\n",
       "      <td>43.0</td>\n",
       "      <td>Lynn_Daneault</td>\n",
       "      <td>referral</td>\n",
       "      <td>10.0</td>\n",
       "      <td>none</td>\n",
       "      <td>-162.0</td>\n",
       "    </tr>\n",
       "  </tbody>\n",
       "</table>\n",
       "<p>1 rows × 44 columns</p>\n",
       "</div>"
      ],
      "text/plain": [
       "    Employee_Name  EmpID  MarriedID  GenderID  FromDiversityJobFairID  Salary  \\\n",
       "95  Forrest, Alex  10305          1         1                       0   70187   \n",
       "\n",
       "    Termd            Position State   Zip  ... hired_after age_hired  \\\n",
       "95      1  Area Sales Manager    MA  2330  ...        3185        39   \n",
       "\n",
       "   age_hired_log  employment_months age_at_termination   sig_managers  \\\n",
       "95      3.663562               46.0               43.0  Lynn_Daneault   \n",
       "\n",
       "   binned_rec_source combined_target binned_projects review_to_term  \n",
       "95          referral            10.0            none         -162.0  \n",
       "\n",
       "[1 rows x 44 columns]"
      ]
     },
     "execution_count": 107,
     "metadata": {},
     "output_type": "execute_result"
    }
   ],
   "source": [
    "df[df['review_to_term'] < 0]"
   ]
  },
  {
   "cell_type": "markdown",
   "metadata": {},
   "source": [
    "One employee has a termination date before their last review. Because I am not going to use this column in a predictive model and the rest of the data in this record looks fine, I am going to keep it for now."
   ]
  },
  {
   "cell_type": "code",
   "execution_count": 108,
   "metadata": {
    "ExecuteTime": {
     "end_time": "2021-12-18T19:54:17.566671Z",
     "start_time": "2021-12-18T19:54:17.562705Z"
    }
   },
   "outputs": [
    {
     "data": {
      "text/plain": [
       "0    278\n",
       "4      8\n",
       "6      6\n",
       "5      6\n",
       "3      6\n",
       "2      6\n",
       "1      1\n",
       "Name: DaysLateLast30, dtype: int64"
      ]
     },
     "execution_count": 108,
     "metadata": {},
     "output_type": "execute_result"
    }
   ],
   "source": [
    "df['DaysLateLast30'].value_counts()"
   ]
  },
  {
   "cell_type": "markdown",
   "metadata": {},
   "source": [
    "Because it looks like there are not excessive tardies overall, I am going to make this a binary column with yes (1) and no (0)."
   ]
  },
  {
   "cell_type": "code",
   "execution_count": 109,
   "metadata": {
    "ExecuteTime": {
     "end_time": "2021-12-18T19:54:17.570859Z",
     "start_time": "2021-12-18T19:54:17.568210Z"
    }
   },
   "outputs": [],
   "source": [
    "df['late'] = np.where(df['DaysLateLast30'] == 0, 0, 1)"
   ]
  },
  {
   "cell_type": "code",
   "execution_count": 110,
   "metadata": {
    "ExecuteTime": {
     "end_time": "2021-12-18T19:54:17.578691Z",
     "start_time": "2021-12-18T19:54:17.572395Z"
    }
   },
   "outputs": [
    {
     "data": {
      "text/plain": [
       "count    311.000000\n",
       "mean      10.237942\n",
       "std        5.852596\n",
       "min        1.000000\n",
       "25%        5.000000\n",
       "50%       10.000000\n",
       "75%       15.000000\n",
       "max       20.000000\n",
       "Name: Absences, dtype: float64"
      ]
     },
     "execution_count": 110,
     "metadata": {},
     "output_type": "execute_result"
    }
   ],
   "source": [
    "df['Absences'].describe()"
   ]
  },
  {
   "cell_type": "code",
   "execution_count": 111,
   "metadata": {
    "ExecuteTime": {
     "end_time": "2021-12-18T19:54:17.583931Z",
     "start_time": "2021-12-18T19:54:17.580432Z"
    }
   },
   "outputs": [
    {
     "data": {
      "text/plain": [
       "array([ 1, 17,  3, 15,  2, 19,  4, 16, 12,  9,  7, 20,  8, 13,  5, 14,  6,\n",
       "       11, 10, 18])"
      ]
     },
     "execution_count": 111,
     "metadata": {},
     "output_type": "execute_result"
    }
   ],
   "source": [
    "df['Absences'].unique()"
   ]
  },
  {
   "cell_type": "code",
   "execution_count": 112,
   "metadata": {
    "ExecuteTime": {
     "end_time": "2021-12-18T19:54:17.591206Z",
     "start_time": "2021-12-18T19:54:17.585336Z"
    },
    "scrolled": false
   },
   "outputs": [
    {
     "data": {
      "text/plain": [
       "five_or_fewer        86\n",
       "eleven_to_fifteen    77\n",
       "sixteen_or_more      76\n",
       "six_to_ten           72\n",
       "Name: binned_absences, dtype: int64"
      ]
     },
     "execution_count": 112,
     "metadata": {},
     "output_type": "execute_result"
    }
   ],
   "source": [
    "#Bin the number of absences\n",
    "\n",
    "def bin_absences(value):\n",
    "    if value <= 5:\n",
    "        return 'five_or_fewer'\n",
    "    elif value <= 10:\n",
    "        return 'six_to_ten'\n",
    "    elif value <= 15:\n",
    "        return 'eleven_to_fifteen'\n",
    "    return 'sixteen_or_more'\n",
    "\n",
    "df['binned_absences'] = df['Absences'].apply(bin_absences)\n",
    "\n",
    "df['binned_absences'].value_counts()"
   ]
  },
  {
   "cell_type": "code",
   "execution_count": 113,
   "metadata": {
    "ExecuteTime": {
     "end_time": "2021-12-18T19:54:17.606529Z",
     "start_time": "2021-12-18T19:54:17.592594Z"
    }
   },
   "outputs": [
    {
     "data": {
      "text/html": [
       "<div>\n",
       "<style scoped>\n",
       "    .dataframe tbody tr th:only-of-type {\n",
       "        vertical-align: middle;\n",
       "    }\n",
       "\n",
       "    .dataframe tbody tr th {\n",
       "        vertical-align: top;\n",
       "    }\n",
       "\n",
       "    .dataframe thead th {\n",
       "        text-align: right;\n",
       "    }\n",
       "</style>\n",
       "<table border=\"1\" class=\"dataframe\">\n",
       "  <thead>\n",
       "    <tr style=\"text-align: right;\">\n",
       "      <th>Termd</th>\n",
       "      <th>0</th>\n",
       "      <th>1</th>\n",
       "    </tr>\n",
       "    <tr>\n",
       "      <th>Absences</th>\n",
       "      <th></th>\n",
       "      <th></th>\n",
       "    </tr>\n",
       "  </thead>\n",
       "  <tbody>\n",
       "    <tr>\n",
       "      <th>1</th>\n",
       "      <td>11</td>\n",
       "      <td>3</td>\n",
       "    </tr>\n",
       "    <tr>\n",
       "      <th>2</th>\n",
       "      <td>15</td>\n",
       "      <td>6</td>\n",
       "    </tr>\n",
       "    <tr>\n",
       "      <th>3</th>\n",
       "      <td>12</td>\n",
       "      <td>4</td>\n",
       "    </tr>\n",
       "    <tr>\n",
       "      <th>4</th>\n",
       "      <td>18</td>\n",
       "      <td>5</td>\n",
       "    </tr>\n",
       "    <tr>\n",
       "      <th>5</th>\n",
       "      <td>8</td>\n",
       "      <td>4</td>\n",
       "    </tr>\n",
       "    <tr>\n",
       "      <th>6</th>\n",
       "      <td>9</td>\n",
       "      <td>7</td>\n",
       "    </tr>\n",
       "    <tr>\n",
       "      <th>7</th>\n",
       "      <td>14</td>\n",
       "      <td>7</td>\n",
       "    </tr>\n",
       "    <tr>\n",
       "      <th>8</th>\n",
       "      <td>8</td>\n",
       "      <td>3</td>\n",
       "    </tr>\n",
       "    <tr>\n",
       "      <th>9</th>\n",
       "      <td>8</td>\n",
       "      <td>6</td>\n",
       "    </tr>\n",
       "    <tr>\n",
       "      <th>10</th>\n",
       "      <td>6</td>\n",
       "      <td>4</td>\n",
       "    </tr>\n",
       "    <tr>\n",
       "      <th>11</th>\n",
       "      <td>10</td>\n",
       "      <td>5</td>\n",
       "    </tr>\n",
       "    <tr>\n",
       "      <th>12</th>\n",
       "      <td>5</td>\n",
       "      <td>3</td>\n",
       "    </tr>\n",
       "    <tr>\n",
       "      <th>13</th>\n",
       "      <td>13</td>\n",
       "      <td>4</td>\n",
       "    </tr>\n",
       "    <tr>\n",
       "      <th>14</th>\n",
       "      <td>14</td>\n",
       "      <td>3</td>\n",
       "    </tr>\n",
       "    <tr>\n",
       "      <th>15</th>\n",
       "      <td>13</td>\n",
       "      <td>7</td>\n",
       "    </tr>\n",
       "    <tr>\n",
       "      <th>16</th>\n",
       "      <td>12</td>\n",
       "      <td>11</td>\n",
       "    </tr>\n",
       "    <tr>\n",
       "      <th>17</th>\n",
       "      <td>8</td>\n",
       "      <td>7</td>\n",
       "    </tr>\n",
       "    <tr>\n",
       "      <th>18</th>\n",
       "      <td>5</td>\n",
       "      <td>3</td>\n",
       "    </tr>\n",
       "    <tr>\n",
       "      <th>19</th>\n",
       "      <td>10</td>\n",
       "      <td>6</td>\n",
       "    </tr>\n",
       "    <tr>\n",
       "      <th>20</th>\n",
       "      <td>8</td>\n",
       "      <td>6</td>\n",
       "    </tr>\n",
       "  </tbody>\n",
       "</table>\n",
       "</div>"
      ],
      "text/plain": [
       "Termd      0   1\n",
       "Absences        \n",
       "1         11   3\n",
       "2         15   6\n",
       "3         12   4\n",
       "4         18   5\n",
       "5          8   4\n",
       "6          9   7\n",
       "7         14   7\n",
       "8          8   3\n",
       "9          8   6\n",
       "10         6   4\n",
       "11        10   5\n",
       "12         5   3\n",
       "13        13   4\n",
       "14        14   3\n",
       "15        13   7\n",
       "16        12  11\n",
       "17         8   7\n",
       "18         5   3\n",
       "19        10   6\n",
       "20         8   6"
      ]
     },
     "execution_count": 113,
     "metadata": {},
     "output_type": "execute_result"
    }
   ],
   "source": [
    "#Absences certainly seems to be correlated with termination\n",
    "pd.crosstab(df['Absences'], df['Termd'])"
   ]
  },
  {
   "cell_type": "markdown",
   "metadata": {},
   "source": [
    "# Preparation for Modeling"
   ]
  },
  {
   "cell_type": "code",
   "execution_count": 114,
   "metadata": {
    "ExecuteTime": {
     "end_time": "2021-12-18T19:54:17.857076Z",
     "start_time": "2021-12-18T19:54:17.607736Z"
    },
    "scrolled": true
   },
   "outputs": [
    {
     "data": {
      "text/plain": [
       "<AxesSubplot:>"
      ]
     },
     "execution_count": 114,
     "metadata": {},
     "output_type": "execute_result"
    },
    {
     "data": {
      "image/png": "[encoded data removed]",
      "text/plain": [
       "<Figure size 432x288 with 2 Axes>"
      ]
     },
     "metadata": {},
     "output_type": "display_data"
    }
   ],
   "source": [
    "#Check for autocorrelation\n",
    "sns.heatmap(df.corr())"
   ]
  },
  {
   "cell_type": "markdown",
   "metadata": {},
   "source": [
    "Most of the strong correlations are the obvious ones. The list below is the features that are strongly correlated and the feature I will use for modeling is in parenthesis.\n",
    "\n",
    "- zipcode, state and in MA (in MA)\n",
    "- current age, DOB, age hired and age at termination (age hired)\n",
    "\n",
    "I will also eliminate any features that would not be known prior to termination.\n",
    "\n",
    "For the target, I will use the combined metric found by the product of engagement and satisfaction.\n",
    "\n",
    "I also need to check the categorical variables that may contain the same information: position, department and manager name."
   ]
  },
  {
   "cell_type": "code",
   "execution_count": 115,
   "metadata": {
    "ExecuteTime": {
     "end_time": "2021-12-18T19:54:17.884529Z",
     "start_time": "2021-12-18T19:54:17.859084Z"
    }
   },
   "outputs": [
    {
     "data": {
      "text/html": [
       "<div>\n",
       "<style scoped>\n",
       "    .dataframe tbody tr th:only-of-type {\n",
       "        vertical-align: middle;\n",
       "    }\n",
       "\n",
       "    .dataframe tbody tr th {\n",
       "        vertical-align: top;\n",
       "    }\n",
       "\n",
       "    .dataframe thead th {\n",
       "        text-align: right;\n",
       "    }\n",
       "</style>\n",
       "<table border=\"1\" class=\"dataframe\">\n",
       "  <thead>\n",
       "    <tr style=\"text-align: right;\">\n",
       "      <th>Position</th>\n",
       "      <th>Accountant I</th>\n",
       "      <th>Administrative Assistant</th>\n",
       "      <th>Area Sales Manager</th>\n",
       "      <th>BI Developer</th>\n",
       "      <th>BI Director</th>\n",
       "      <th>CIO</th>\n",
       "      <th>Data Analyst</th>\n",
       "      <th>Data Analyst</th>\n",
       "      <th>Data Architect</th>\n",
       "      <th>Database Administrator</th>\n",
       "      <th>...</th>\n",
       "      <th>Production Technician I</th>\n",
       "      <th>Production Technician II</th>\n",
       "      <th>Sales Manager</th>\n",
       "      <th>Senior BI Developer</th>\n",
       "      <th>Shared Services Manager</th>\n",
       "      <th>Software Engineer</th>\n",
       "      <th>Software Engineering Manager</th>\n",
       "      <th>Sr. Accountant</th>\n",
       "      <th>Sr. DBA</th>\n",
       "      <th>Sr. Network Engineer</th>\n",
       "    </tr>\n",
       "    <tr>\n",
       "      <th>Department</th>\n",
       "      <th></th>\n",
       "      <th></th>\n",
       "      <th></th>\n",
       "      <th></th>\n",
       "      <th></th>\n",
       "      <th></th>\n",
       "      <th></th>\n",
       "      <th></th>\n",
       "      <th></th>\n",
       "      <th></th>\n",
       "      <th></th>\n",
       "      <th></th>\n",
       "      <th></th>\n",
       "      <th></th>\n",
       "      <th></th>\n",
       "      <th></th>\n",
       "      <th></th>\n",
       "      <th></th>\n",
       "      <th></th>\n",
       "      <th></th>\n",
       "      <th></th>\n",
       "    </tr>\n",
       "  </thead>\n",
       "  <tbody>\n",
       "    <tr>\n",
       "      <th>Admin_Offices</th>\n",
       "      <td>3</td>\n",
       "      <td>3</td>\n",
       "      <td>0</td>\n",
       "      <td>0</td>\n",
       "      <td>0</td>\n",
       "      <td>0</td>\n",
       "      <td>0</td>\n",
       "      <td>0</td>\n",
       "      <td>0</td>\n",
       "      <td>0</td>\n",
       "      <td>...</td>\n",
       "      <td>0</td>\n",
       "      <td>0</td>\n",
       "      <td>0</td>\n",
       "      <td>0</td>\n",
       "      <td>1</td>\n",
       "      <td>0</td>\n",
       "      <td>0</td>\n",
       "      <td>2</td>\n",
       "      <td>0</td>\n",
       "      <td>0</td>\n",
       "    </tr>\n",
       "    <tr>\n",
       "      <th>Executive_Office</th>\n",
       "      <td>0</td>\n",
       "      <td>0</td>\n",
       "      <td>0</td>\n",
       "      <td>0</td>\n",
       "      <td>0</td>\n",
       "      <td>0</td>\n",
       "      <td>0</td>\n",
       "      <td>0</td>\n",
       "      <td>0</td>\n",
       "      <td>0</td>\n",
       "      <td>...</td>\n",
       "      <td>0</td>\n",
       "      <td>0</td>\n",
       "      <td>0</td>\n",
       "      <td>0</td>\n",
       "      <td>0</td>\n",
       "      <td>0</td>\n",
       "      <td>0</td>\n",
       "      <td>0</td>\n",
       "      <td>0</td>\n",
       "      <td>0</td>\n",
       "    </tr>\n",
       "    <tr>\n",
       "      <th>Production</th>\n",
       "      <td>0</td>\n",
       "      <td>0</td>\n",
       "      <td>0</td>\n",
       "      <td>0</td>\n",
       "      <td>0</td>\n",
       "      <td>0</td>\n",
       "      <td>0</td>\n",
       "      <td>0</td>\n",
       "      <td>0</td>\n",
       "      <td>0</td>\n",
       "      <td>...</td>\n",
       "      <td>137</td>\n",
       "      <td>57</td>\n",
       "      <td>0</td>\n",
       "      <td>0</td>\n",
       "      <td>0</td>\n",
       "      <td>0</td>\n",
       "      <td>0</td>\n",
       "      <td>0</td>\n",
       "      <td>0</td>\n",
       "      <td>0</td>\n",
       "    </tr>\n",
       "    <tr>\n",
       "      <th>Sales</th>\n",
       "      <td>0</td>\n",
       "      <td>0</td>\n",
       "      <td>27</td>\n",
       "      <td>0</td>\n",
       "      <td>0</td>\n",
       "      <td>0</td>\n",
       "      <td>0</td>\n",
       "      <td>0</td>\n",
       "      <td>0</td>\n",
       "      <td>0</td>\n",
       "      <td>...</td>\n",
       "      <td>0</td>\n",
       "      <td>0</td>\n",
       "      <td>3</td>\n",
       "      <td>0</td>\n",
       "      <td>0</td>\n",
       "      <td>0</td>\n",
       "      <td>0</td>\n",
       "      <td>0</td>\n",
       "      <td>0</td>\n",
       "      <td>0</td>\n",
       "    </tr>\n",
       "    <tr>\n",
       "      <th>Software_Engineering</th>\n",
       "      <td>0</td>\n",
       "      <td>0</td>\n",
       "      <td>0</td>\n",
       "      <td>0</td>\n",
       "      <td>0</td>\n",
       "      <td>0</td>\n",
       "      <td>0</td>\n",
       "      <td>0</td>\n",
       "      <td>0</td>\n",
       "      <td>0</td>\n",
       "      <td>...</td>\n",
       "      <td>0</td>\n",
       "      <td>0</td>\n",
       "      <td>0</td>\n",
       "      <td>0</td>\n",
       "      <td>0</td>\n",
       "      <td>10</td>\n",
       "      <td>1</td>\n",
       "      <td>0</td>\n",
       "      <td>0</td>\n",
       "      <td>0</td>\n",
       "    </tr>\n",
       "    <tr>\n",
       "      <th>it_is</th>\n",
       "      <td>0</td>\n",
       "      <td>0</td>\n",
       "      <td>0</td>\n",
       "      <td>4</td>\n",
       "      <td>1</td>\n",
       "      <td>1</td>\n",
       "      <td>7</td>\n",
       "      <td>1</td>\n",
       "      <td>1</td>\n",
       "      <td>5</td>\n",
       "      <td>...</td>\n",
       "      <td>0</td>\n",
       "      <td>0</td>\n",
       "      <td>0</td>\n",
       "      <td>3</td>\n",
       "      <td>0</td>\n",
       "      <td>0</td>\n",
       "      <td>0</td>\n",
       "      <td>0</td>\n",
       "      <td>2</td>\n",
       "      <td>5</td>\n",
       "    </tr>\n",
       "  </tbody>\n",
       "</table>\n",
       "<p>6 rows × 32 columns</p>\n",
       "</div>"
      ],
      "text/plain": [
       "Position              Accountant I  Administrative Assistant  \\\n",
       "Department                                                     \n",
       "Admin_Offices                    3                         3   \n",
       "Executive_Office                 0                         0   \n",
       "Production                       0                         0   \n",
       "Sales                            0                         0   \n",
       "Software_Engineering             0                         0   \n",
       "it_is                            0                         0   \n",
       "\n",
       "Position              Area Sales Manager  BI Developer  BI Director  CIO  \\\n",
       "Department                                                                 \n",
       "Admin_Offices                          0             0            0    0   \n",
       "Executive_Office                       0             0            0    0   \n",
       "Production                             0             0            0    0   \n",
       "Sales                                 27             0            0    0   \n",
       "Software_Engineering                   0             0            0    0   \n",
       "it_is                                  0             4            1    1   \n",
       "\n",
       "Position              Data Analyst  Data Analyst   Data Architect  \\\n",
       "Department                                                          \n",
       "Admin_Offices                    0              0               0   \n",
       "Executive_Office                 0              0               0   \n",
       "Production                       0              0               0   \n",
       "Sales                            0              0               0   \n",
       "Software_Engineering             0              0               0   \n",
       "it_is                            7              1               1   \n",
       "\n",
       "Position              Database Administrator  ...  Production Technician I  \\\n",
       "Department                                    ...                            \n",
       "Admin_Offices                              0  ...                        0   \n",
       "Executive_Office                           0  ...                        0   \n",
       "Production                                 0  ...                      137   \n",
       "Sales                                      0  ...                        0   \n",
       "Software_Engineering                       0  ...                        0   \n",
       "it_is                                      5  ...                        0   \n",
       "\n",
       "Position              Production Technician II  Sales Manager  \\\n",
       "Department                                                      \n",
       "Admin_Offices                                0              0   \n",
       "Executive_Office                             0              0   \n",
       "Production                                  57              0   \n",
       "Sales                                        0              3   \n",
       "Software_Engineering                         0              0   \n",
       "it_is                                        0              0   \n",
       "\n",
       "Position              Senior BI Developer  Shared Services Manager  \\\n",
       "Department                                                           \n",
       "Admin_Offices                           0                        1   \n",
       "Executive_Office                        0                        0   \n",
       "Production                              0                        0   \n",
       "Sales                                   0                        0   \n",
       "Software_Engineering                    0                        0   \n",
       "it_is                                   3                        0   \n",
       "\n",
       "Position              Software Engineer  Software Engineering Manager  \\\n",
       "Department                                                              \n",
       "Admin_Offices                         0                             0   \n",
       "Executive_Office                      0                             0   \n",
       "Production                            0                             0   \n",
       "Sales                                 0                             0   \n",
       "Software_Engineering                 10                             1   \n",
       "it_is                                 0                             0   \n",
       "\n",
       "Position              Sr. Accountant  Sr. DBA  Sr. Network Engineer  \n",
       "Department                                                           \n",
       "Admin_Offices                      2        0                     0  \n",
       "Executive_Office                   0        0                     0  \n",
       "Production                         0        0                     0  \n",
       "Sales                              0        0                     0  \n",
       "Software_Engineering               0        0                     0  \n",
       "it_is                              0        2                     5  \n",
       "\n",
       "[6 rows x 32 columns]"
      ]
     },
     "execution_count": 115,
     "metadata": {},
     "output_type": "execute_result"
    }
   ],
   "source": [
    "pd.crosstab(df['Department'], df['Position'])"
   ]
  },
  {
   "cell_type": "code",
   "execution_count": 116,
   "metadata": {
    "ExecuteTime": {
     "end_time": "2021-12-18T19:54:17.910469Z",
     "start_time": "2021-12-18T19:54:17.886460Z"
    },
    "scrolled": true
   },
   "outputs": [
    {
     "name": "stdout",
     "output_type": "stream",
     "text": [
      "Alex_Sweetwater has reports in 2 unique positions.\n",
      "Amy_Dunn has reports in 3 unique positions.\n",
      "Board_of_Directors has reports in 2 unique positions.\n",
      "Brandon_LeBlanc has reports in 3 unique positions.\n",
      "Brannon_Miller has reports in 3 unique positions.\n",
      "Brian_Champaigne has reports in 4 unique positions.\n",
      "David_Stanley has reports in 3 unique positions.\n",
      "Debra_Houlihan has reports in 2 unique positions.\n",
      "Elijiah_Gray has reports in 3 unique positions.\n",
      "Eric_Dougall has reports in 2 unique positions.\n",
      "Janet_King has reports in 3 unique positions.\n",
      "Jennifer_Zamora has reports in 3 unique positions.\n",
      "John_Smith has reports in 2 unique positions.\n",
      "Kelley_Spirea has reports in 3 unique positions.\n",
      "Ketsia_Liebig has reports in 3 unique positions.\n",
      "Kissy_Sullivan has reports in 3 unique positions.\n",
      "Lynn_Daneault has reports in 2 unique positions.\n",
      "Michael_Albert has reports in 3 unique positions.\n",
      "Peter_Monroe has reports in 3 unique positions.\n",
      "Simon_Roup has reports in 5 unique positions.\n",
      "Webster_Butler has reports in 3 unique positions.\n"
     ]
    }
   ],
   "source": [
    "managed_positions = pd.crosstab(df['ManagerName'], df['Position'])\n",
    "for manager in managed_positions.index:\n",
    "    pos = managed_positions.loc[manager,:].nunique()\n",
    "    print(f'{manager} has reports in {pos} unique positions.')"
   ]
  },
  {
   "cell_type": "markdown",
   "metadata": {},
   "source": [
    "Based on the above, department does not contain any additional information from the position. I am going to keep the less granular feature of department and remove position because it would likely lead to overfitting (many of the departments have only a single employee). I will keep the manager's name, since managers do not only manage employees in a single position. "
   ]
  },
  {
   "cell_type": "code",
   "execution_count": 117,
   "metadata": {
    "ExecuteTime": {
     "end_time": "2021-12-18T19:54:30.305868Z",
     "start_time": "2021-12-18T19:54:30.301713Z"
    }
   },
   "outputs": [
    {
     "data": {
      "text/plain": [
       "Index(['Employee_Name', 'EmpID', 'MarriedID', 'GenderID',\n",
       "       'FromDiversityJobFairID', 'Salary', 'Termd', 'Position', 'State', 'Zip',\n",
       "       'DOB', 'Sex', 'MaritalDesc', 'HispanicLatino', 'RaceDesc', 'DateofHire',\n",
       "       'DateofTermination', 'TermReason', 'EmploymentStatus', 'Department',\n",
       "       'ManagerName', 'ManagerID', 'RecruitmentSource', 'PerformanceScore',\n",
       "       'EngagementSurvey', 'EmpSatisfaction', 'SpecialProjectsCount',\n",
       "       'LastPerformanceReview_Date', 'DaysLateLast30', 'Absences',\n",
       "       'salary_log', 'in_MA', 'current_age', 'citizen', 'hired_after',\n",
       "       'age_hired', 'age_hired_log', 'employment_months', 'age_at_termination',\n",
       "       'sig_managers', 'binned_rec_source', 'combined_target',\n",
       "       'binned_projects', 'review_to_term', 'late', 'binned_absences'],\n",
       "      dtype='object')"
      ]
     },
     "execution_count": 117,
     "metadata": {},
     "output_type": "execute_result"
    }
   ],
   "source": [
    "df.columns"
   ]
  },
  {
   "cell_type": "code",
   "execution_count": 118,
   "metadata": {
    "ExecuteTime": {
     "end_time": "2021-12-18T19:55:56.104880Z",
     "start_time": "2021-12-18T19:55:56.094786Z"
    },
    "scrolled": true
   },
   "outputs": [
    {
     "name": "stdout",
     "output_type": "stream",
     "text": [
      "<class 'pandas.core.frame.DataFrame'>\n",
      "RangeIndex: 311 entries, 0 to 310\n",
      "Data columns (total 17 columns):\n",
      " #   Column                  Non-Null Count  Dtype  \n",
      "---  ------                  --------------  -----  \n",
      " 0   MarriedID               311 non-null    int64  \n",
      " 1   GenderID                311 non-null    int64  \n",
      " 2   FromDiversityJobFairID  311 non-null    int64  \n",
      " 3   salary_log              311 non-null    float64\n",
      " 4   Department              311 non-null    object \n",
      " 5   HispanicLatino          311 non-null    int64  \n",
      " 6   RaceDesc                311 non-null    object \n",
      " 7   hired_after             311 non-null    int64  \n",
      " 8   PerformanceScore        311 non-null    object \n",
      " 9   in_MA                   311 non-null    int64  \n",
      " 10  citizen                 311 non-null    int64  \n",
      " 11  age_hired_log           311 non-null    float64\n",
      " 12  sig_managers            311 non-null    object \n",
      " 13  binned_rec_source       311 non-null    object \n",
      " 14  binned_projects         311 non-null    object \n",
      " 15  late                    311 non-null    int64  \n",
      " 16  binned_absences         311 non-null    object \n",
      "dtypes: float64(2), int64(8), object(7)\n",
      "memory usage: 41.4+ KB\n"
     ]
    }
   ],
   "source": [
    "#Initial feature selection\n",
    "\n",
    "feature_cols = ['MarriedID', 'GenderID','FromDiversityJobFairID', 'salary_log', \n",
    "                'Department', 'HispanicLatino', 'RaceDesc', 'hired_after',\n",
    "                'PerformanceScore','in_MA','citizen', 'age_hired_log',\n",
    "                'sig_managers', 'binned_rec_source','binned_projects', 'late', \n",
    "                'binned_absences']\n",
    "\n",
    "\n",
    "\n",
    "#check data types\n",
    "df[feature_cols].info()"
   ]
  },
  {
   "cell_type": "code",
   "execution_count": 119,
   "metadata": {
    "ExecuteTime": {
     "end_time": "2021-12-18T19:56:02.814477Z",
     "start_time": "2021-12-18T19:56:02.810121Z"
    }
   },
   "outputs": [],
   "source": [
    "cleaned_df = df.copy()\n",
    "\n",
    "X = cleaned_df[feature_cols]\n",
    "y = cleaned_df[['combined_target']]"
   ]
  },
  {
   "cell_type": "code",
   "execution_count": 120,
   "metadata": {
    "ExecuteTime": {
     "end_time": "2021-12-18T19:56:03.773463Z",
     "start_time": "2021-12-18T19:56:03.766067Z"
    }
   },
   "outputs": [
    {
     "name": "stdout",
     "output_type": "stream",
     "text": [
      "(217, 17) (65, 17) (29, 17) (217, 1) (65, 1) (29, 1)\n"
     ]
    }
   ],
   "source": [
    "X_train, X_, y_train, y_ = train_test_split(\n",
    "    X, \n",
    "    y, \n",
    "    random_state=RANDOM, \n",
    "    test_size=.3\n",
    ")\n",
    "\n",
    "X_val, X_test, y_val, y_test = train_test_split(\n",
    "    X_, \n",
    "    y_, \n",
    "    random_state=RANDOM, \n",
    "    test_size=.3\n",
    ")\n",
    "\n",
    "print(X_train.shape, X_val.shape, X_test.shape, \n",
    "y_train.shape, y_val.shape, y_test.shape)"
   ]
  },
  {
   "cell_type": "code",
   "execution_count": 121,
   "metadata": {
    "ExecuteTime": {
     "end_time": "2021-12-18T19:56:04.452663Z",
     "start_time": "2021-12-18T19:56:04.442992Z"
    }
   },
   "outputs": [],
   "source": [
    "def process_splits(\n",
    "    X_train, \n",
    "    X_val, \n",
    "    X_test, \n",
    "    y_train, \n",
    "    y_val, \n",
    "    y_test, \n",
    "    cols_to_remove = None\n",
    "):\n",
    "    \"\"\"Takes in the train, val and test sets as well as an optional list of \n",
    "    features to remove. Removes features, if specified. One hot encodes the \n",
    "    categorical variables and scales the numeric values before returning the \n",
    "    split dataframes.\"\"\"\n",
    "    \n",
    "    #remove columns if cols_to_remove is not None\n",
    "    if cols_to_remove:\n",
    "        X_train, X_val, X_test = (\n",
    "            [X.drop(cols_to_remove, axis=1) for X in [X_train, X_val, X_test]]\n",
    "        )\n",
    "    \n",
    "    #Separate the categorical and numerical features\n",
    "    n = X_train.select_dtypes('number').columns \n",
    "    con = [n for n in n if X[n].nunique()>2]\n",
    "    bi = [n for n in n if n not in con]\n",
    "    cat = X_train.select_dtypes('object').columns\n",
    "    \n",
    "    #One hot encode the categorical variables\n",
    "    ohe = OneHotEncoder(handle_unknown='ignore', sparse=False) \n",
    "    X_train_cat = ohe.fit_transform(X_train[cat])\n",
    "    X_val_cat = ohe.transform(X_val[cat])\n",
    "    X_test_cat = ohe.transform(X_test[cat])\n",
    "    \n",
    "    X_train_cat_df, X_val_cat_df, X_test_cat_df = (\n",
    "        [pd.DataFrame(\n",
    "            X,\n",
    "            columns = ohe.get_feature_names(cat)\n",
    "        ) for X in [X_train_cat, X_val_cat, X_test_cat]\n",
    "        ]\n",
    "    )\n",
    "    \n",
    "    #Scale the continuous variables\n",
    "    scale = StandardScaler()\n",
    "    X_train_num = scale.fit_transform(X_train[con]) \n",
    "    X_val_num = scale.transform(X_val[con])\n",
    "    X_test_num = scale.transform(X_test[con])\n",
    "    \n",
    "    X_train_num_df, X_val_num_df, X_test_num_df = (\n",
    "        [pd.DataFrame(\n",
    "            X,\n",
    "            columns = con\n",
    "        ) for X in [X_train_num, X_val_num, X_test_num]\n",
    "        ]\n",
    "    )\n",
    "    \n",
    "    #Concat the processed data\n",
    "    X_train_processed = (\n",
    "        pd.concat(\n",
    "            [X_train_num_df, \n",
    "             X_train_cat_df, \n",
    "             X_train[bi].reset_index(\n",
    "                 drop=True\n",
    "             )\n",
    "            ], \n",
    "        axis=1\n",
    "        ).reset_index(\n",
    "            drop=True\n",
    "        )\n",
    "    )\n",
    "    \n",
    "    X_val_processed = (\n",
    "        pd.concat(\n",
    "            [X_val_num_df, \n",
    "             X_val_cat_df, \n",
    "             X_val[bi].reset_index(\n",
    "                 drop=True\n",
    "             )\n",
    "            ], \n",
    "        axis=1\n",
    "        ).reset_index(\n",
    "            drop=True\n",
    "        )\n",
    "    )\n",
    "    \n",
    "    X_test_processed = (\n",
    "        pd.concat(\n",
    "            [X_test_num_df, \n",
    "             X_test_cat_df, \n",
    "             X_test[bi].reset_index(\n",
    "                 drop=True\n",
    "             )\n",
    "            ], \n",
    "        axis=1\n",
    "        ).reset_index(\n",
    "            drop=True\n",
    "        )\n",
    "    )\n",
    "    \n",
    "    #Scale the target column\n",
    "    yscale = StandardScaler()\n",
    "    y_train_scaled = yscale.fit_transform(y_train).ravel()\n",
    "    y_val_scaled = yscale.transform(y_val).ravel()\n",
    "    y_test_scaled = yscale.transform(y_test).ravel()\n",
    "    \n",
    "    print(\n",
    "        X_train_processed.shape, \n",
    "        X_val_processed.shape, \n",
    "        X_test_processed.shape, \n",
    "        y_train_scaled.shape, \n",
    "        y_val_scaled.shape, \n",
    "        y_test_scaled.shape\n",
    "    )\n",
    "    \n",
    "    return (\n",
    "        X_train_processed, \n",
    "        X_val_processed, \n",
    "        X_test_processed, \n",
    "        y_train_scaled, \n",
    "        y_val_scaled, \n",
    "        y_test_scaled\n",
    "    )"
   ]
  },
  {
   "cell_type": "code",
   "execution_count": 122,
   "metadata": {
    "ExecuteTime": {
     "end_time": "2021-12-18T19:56:05.123028Z",
     "start_time": "2021-12-18T19:56:05.093760Z"
    }
   },
   "outputs": [
    {
     "name": "stdout",
     "output_type": "stream",
     "text": [
      "(217, 46) (65, 46) (29, 46) (217,) (65,) (29,)\n"
     ]
    }
   ],
   "source": [
    "(\n",
    "    X_train_proc, \n",
    "    X_val_proc, \n",
    "    X_test_proc, \n",
    "    y_train_proc, \n",
    "    y_val_proc, \n",
    "    y_test_proc\n",
    ") = process_splits(\n",
    "    X_train, \n",
    "    X_val, \n",
    "    X_test, \n",
    "    y_train, \n",
    "    y_val, \n",
    "    y_test\n",
    ")"
   ]
  },
  {
   "cell_type": "code",
   "execution_count": 123,
   "metadata": {
    "ExecuteTime": {
     "end_time": "2021-12-18T19:56:05.729465Z",
     "start_time": "2021-12-18T19:56:05.724959Z"
    }
   },
   "outputs": [],
   "source": [
    "#Concat the features and target for statsmodels\n",
    "train_df_processed = pd.concat(\n",
    "    [X_train_proc, pd.DataFrame(y_train_proc)], \n",
    "    axis = 1\n",
    ")\n",
    "train_df_processed.rename(columns = {0:'target'},  inplace=True)"
   ]
  },
  {
   "cell_type": "markdown",
   "metadata": {},
   "source": [
    "# Modeling - Regression"
   ]
  },
  {
   "cell_type": "markdown",
   "metadata": {},
   "source": [
    "## Helper Functions"
   ]
  },
  {
   "cell_type": "code",
   "execution_count": 124,
   "metadata": {
    "ExecuteTime": {
     "end_time": "2021-12-18T19:56:08.170330Z",
     "start_time": "2021-12-18T19:56:08.161842Z"
    }
   },
   "outputs": [],
   "source": [
    "def get_residuals(fitted_model, X_train, X_val):\n",
    "    \"\"\"Takes in a fitted model, the X train and validation sets and returns\n",
    "    the residuals for both the train and validation sets.\"\"\"\n",
    "    \n",
    "    y_pred_train = fitted_model.predict(X_train)\n",
    "    y_pred_val = fitted_model.predict(X_val)\n",
    "    \n",
    "    train_resid = (\n",
    "        [list(y_train)[i] - list(y_pred_train)[i] for i in range(len(y_train))]\n",
    "    )\n",
    "    \n",
    "    val_resid = (\n",
    "        [list(y_val)[i] - list(y_pred_val)[i] for i in range(len(y_val))]\n",
    "    )\n",
    "    \n",
    "    return train_resid, val_resid\n",
    "    \n",
    "\n",
    "def check_residuals(fitted_model, X_train, X_val):\n",
    "    \"\"\"Takes in a fitted model and the X train and validation sets, finds\n",
    "    the residuals and returns the Durbin-Watson scores.\"\"\"\n",
    "    \n",
    "    train_resid, val_resid = get_residuals(fitted_model, X_train, X_val)\n",
    "    \n",
    "    DW_train = durbin_watson(train_resid)\n",
    "    DW_val = durbin_watson(val_resid)\n",
    "    \n",
    "    \n",
    "    print(f'Training: The Durbin-Watson score is {DW_train}.')\n",
    "    print(f'Validation: The Durbin-Watson score is {DW_train}.')\n",
    "    \n",
    "    return  DW_train, DW_val\n",
    "\n",
    "    \n",
    "def get_high_vif(X_train, threshold=10):\n",
    "    \"\"\"Takes in X_train and a threshold and returns a dictionary with the\n",
    "    name of each feature with a VIF over the threshold and its respective VIF\n",
    "    score.\"\"\"\n",
    "    \n",
    "    vif_dict = {}\n",
    "    for i in range(len(X_train.columns)):\n",
    "        vif = variance_inflation_factor(X_train.values, i) \n",
    "        if vif >= threshold:\n",
    "            v = X_train.columns[i]\n",
    "            vif_dict[v] = vif \n",
    "    return vif_dict\n",
    "\n",
    "\n",
    "model_scores = {}\n",
    "\n",
    "def model_validation(\n",
    "    model_type, \n",
    "    fitted_model, \n",
    "    X_train, \n",
    "    y_train, \n",
    "    model_dict = model_scores\n",
    "):\n",
    "    \"\"\"Takes in the name of the model type, a fitted model and the X and y \n",
    "    training data. Performs a 5-fold cross validation and returns a dictionary\n",
    "    with the model's scores on the train and test splits.\"\"\"\n",
    "    \n",
    "    scores = cross_validate(\n",
    "        fitted_model, \n",
    "        X_train, \n",
    "        y_train, \n",
    "        cv=5, \n",
    "        scoring = (\n",
    "            'r2',\n",
    "            'neg_mean_absolute_error',\n",
    "            'neg_mean_squared_error'\n",
    "        ), \n",
    "        return_train_score=True\n",
    "    )\n",
    "    \n",
    "    metrics_dict = {}\n",
    "    \n",
    "    metrics_dict['train_R2'] = scores['train_r2'].mean() \n",
    "    metrics_dict['test_R2'] = scores['test_r2'].mean()\n",
    "    metrics_dict['train_mae'] = scores['train_neg_mean_absolute_error'].mean() \n",
    "    metrics_dict['test_mae'] = scores['test_neg_mean_absolute_error'].mean() \n",
    "    metrics_dict['train_mse'] = scores['train_neg_mean_squared_error'].mean() \n",
    "    metrics_dict['test_mse'] = scores['test_neg_mean_squared_error'].mean()\n",
    "    metrics_dict['train_rsme'] = (-1 * metrics_dict['train_mse'])**.5 \n",
    "    metrics_dict['test_rsme'] = (-1 * metrics_dict['test_mse'])**.5\n",
    "    \n",
    "    model_dict[model_type] = metrics_dict \n",
    "    \n",
    "    return model_dict"
   ]
  },
  {
   "cell_type": "markdown",
   "metadata": {},
   "source": [
    "### Baseline Regression Model"
   ]
  },
  {
   "cell_type": "code",
   "execution_count": 125,
   "metadata": {
    "ExecuteTime": {
     "end_time": "2021-12-18T19:56:09.373925Z",
     "start_time": "2021-12-18T19:56:09.356479Z"
    }
   },
   "outputs": [
    {
     "data": {
      "text/plain": [
       "{'baseline': {'train_R2': 0.0,\n",
       "  'test_R2': -0.016229090186215524,\n",
       "  'train_mae': -0.8139020097964472,\n",
       "  'test_mae': -0.8151427215659636,\n",
       "  'train_mse': -0.9992474016704938,\n",
       "  'test_mse': -1.0045707613264043,\n",
       "  'train_rsme': 0.9996236300080614,\n",
       "  'test_rsme': 1.0022827751320504}}"
      ]
     },
     "execution_count": 125,
     "metadata": {},
     "output_type": "execute_result"
    }
   ],
   "source": [
    "dummy_regr = DummyRegressor(strategy=\"mean\")\n",
    "dummy_regr.fit(X_train_proc, y_train_proc)\n",
    "\n",
    "model_validation(\n",
    "    'baseline', \n",
    "    dummy_regr, \n",
    "    X_train_proc, \n",
    "    y_train_proc, \n",
    "    )"
   ]
  },
  {
   "cell_type": "code",
   "execution_count": 126,
   "metadata": {
    "ExecuteTime": {
     "end_time": "2021-12-18T19:56:14.100762Z",
     "start_time": "2021-12-18T19:56:14.016693Z"
    },
    "scrolled": false
   },
   "outputs": [
    {
     "data": {
      "text/html": [
       "<table class=\"simpletable\">\n",
       "<caption>OLS Regression Results</caption>\n",
       "<tr>\n",
       "  <th>Dep. Variable:</th>         <td>target</td>      <th>  R-squared:         </th> <td>   0.412</td>\n",
       "</tr>\n",
       "<tr>\n",
       "  <th>Model:</th>                   <td>OLS</td>       <th>  Adj. R-squared:    </th> <td>   0.283</td>\n",
       "</tr>\n",
       "<tr>\n",
       "  <th>Method:</th>             <td>Least Squares</td>  <th>  F-statistic:       </th> <td>   3.186</td>\n",
       "</tr>\n",
       "<tr>\n",
       "  <th>Date:</th>             <td>Sat, 18 Dec 2021</td> <th>  Prob (F-statistic):</th> <td>9.85e-08</td>\n",
       "</tr>\n",
       "<tr>\n",
       "  <th>Time:</th>                 <td>14:56:14</td>     <th>  Log-Likelihood:    </th> <td> -250.20</td>\n",
       "</tr>\n",
       "<tr>\n",
       "  <th>No. Observations:</th>      <td>   217</td>      <th>  AIC:               </th> <td>   580.4</td>\n",
       "</tr>\n",
       "<tr>\n",
       "  <th>Df Residuals:</th>          <td>   177</td>      <th>  BIC:               </th> <td>   715.6</td>\n",
       "</tr>\n",
       "<tr>\n",
       "  <th>Df Model:</th>              <td>    39</td>      <th>                     </th>     <td> </td>   \n",
       "</tr>\n",
       "<tr>\n",
       "  <th>Covariance Type:</th>      <td>nonrobust</td>    <th>                     </th>     <td> </td>   \n",
       "</tr>\n",
       "</table>\n",
       "<table class=\"simpletable\">\n",
       "<tr>\n",
       "                      <td></td>                         <th>coef</th>     <th>std err</th>      <th>t</th>      <th>P>|t|</th>  <th>[0.025</th>    <th>0.975]</th>  \n",
       "</tr>\n",
       "<tr>\n",
       "  <th>Intercept</th>                                 <td>   -0.1834</td> <td>    0.219</td> <td>   -0.837</td> <td> 0.404</td> <td>   -0.616</td> <td>    0.249</td>\n",
       "</tr>\n",
       "<tr>\n",
       "  <th>salary_log</th>                                <td>   -0.0296</td> <td>    0.098</td> <td>   -0.301</td> <td> 0.764</td> <td>   -0.223</td> <td>    0.164</td>\n",
       "</tr>\n",
       "<tr>\n",
       "  <th>hired_after</th>                               <td>    0.0058</td> <td>    0.078</td> <td>    0.074</td> <td> 0.941</td> <td>   -0.148</td> <td>    0.160</td>\n",
       "</tr>\n",
       "<tr>\n",
       "  <th>age_hired_log</th>                             <td>   -0.0611</td> <td>    0.064</td> <td>   -0.961</td> <td> 0.338</td> <td>   -0.187</td> <td>    0.064</td>\n",
       "</tr>\n",
       "<tr>\n",
       "  <th>Department_Admin_Offices</th>                  <td>   -0.8159</td> <td>    0.433</td> <td>   -1.882</td> <td> 0.061</td> <td>   -1.671</td> <td>    0.039</td>\n",
       "</tr>\n",
       "<tr>\n",
       "  <th>Department_Production</th>                     <td>   -0.0433</td> <td>    0.422</td> <td>   -0.103</td> <td> 0.918</td> <td>   -0.875</td> <td>    0.789</td>\n",
       "</tr>\n",
       "<tr>\n",
       "  <th>Department_Sales</th>                          <td>    0.3700</td> <td>    0.538</td> <td>    0.688</td> <td> 0.492</td> <td>   -0.691</td> <td>    1.431</td>\n",
       "</tr>\n",
       "<tr>\n",
       "  <th>Department_Software_Engineering</th>           <td>   -0.0878</td> <td>    0.382</td> <td>   -0.230</td> <td> 0.818</td> <td>   -0.842</td> <td>    0.666</td>\n",
       "</tr>\n",
       "<tr>\n",
       "  <th>Department_it_is</th>                          <td>    0.3936</td> <td>    0.516</td> <td>    0.762</td> <td> 0.447</td> <td>   -0.625</td> <td>    1.412</td>\n",
       "</tr>\n",
       "<tr>\n",
       "  <th>RaceDesc_American_Indian_or_Alaska_Native</th> <td>    0.4362</td> <td>    0.455</td> <td>    0.958</td> <td> 0.339</td> <td>   -0.462</td> <td>    1.335</td>\n",
       "</tr>\n",
       "<tr>\n",
       "  <th>RaceDesc_Asian</th>                            <td>   -0.2476</td> <td>    0.241</td> <td>   -1.028</td> <td> 0.305</td> <td>   -0.723</td> <td>    0.228</td>\n",
       "</tr>\n",
       "<tr>\n",
       "  <th>RaceDesc_Black_or_African_American</th>        <td>    0.1992</td> <td>    0.214</td> <td>    0.933</td> <td> 0.352</td> <td>   -0.222</td> <td>    0.621</td>\n",
       "</tr>\n",
       "<tr>\n",
       "  <th>RaceDesc_Hispanic</th>                         <td>   -0.5640</td> <td>    0.773</td> <td>   -0.729</td> <td> 0.467</td> <td>   -2.090</td> <td>    0.962</td>\n",
       "</tr>\n",
       "<tr>\n",
       "  <th>RaceDesc_Two_or_more_races</th>                <td>   -0.1799</td> <td>    0.338</td> <td>   -0.533</td> <td> 0.595</td> <td>   -0.846</td> <td>    0.487</td>\n",
       "</tr>\n",
       "<tr>\n",
       "  <th>RaceDesc_White</th>                            <td>    0.1727</td> <td>    0.192</td> <td>    0.901</td> <td> 0.369</td> <td>   -0.206</td> <td>    0.551</td>\n",
       "</tr>\n",
       "<tr>\n",
       "  <th>PerformanceScore_Exceeds</th>                  <td>    0.5489</td> <td>    0.295</td> <td>    1.862</td> <td> 0.064</td> <td>   -0.033</td> <td>    1.131</td>\n",
       "</tr>\n",
       "<tr>\n",
       "  <th>PerformanceScore_Fully_Meets</th>              <td>    0.4437</td> <td>    0.253</td> <td>    1.753</td> <td> 0.081</td> <td>   -0.056</td> <td>    0.943</td>\n",
       "</tr>\n",
       "<tr>\n",
       "  <th>PerformanceScore_Needs_Improvement</th>        <td>    0.0104</td> <td>    0.356</td> <td>    0.029</td> <td> 0.977</td> <td>   -0.693</td> <td>    0.714</td>\n",
       "</tr>\n",
       "<tr>\n",
       "  <th>PerformanceScore_PIP</th>                      <td>   -1.1864</td> <td>    0.384</td> <td>   -3.086</td> <td> 0.002</td> <td>   -1.945</td> <td>   -0.428</td>\n",
       "</tr>\n",
       "<tr>\n",
       "  <th>sig_managers_Amy_Dunn</th>                     <td>    0.4923</td> <td>    0.319</td> <td>    1.544</td> <td> 0.124</td> <td>   -0.137</td> <td>    1.122</td>\n",
       "</tr>\n",
       "<tr>\n",
       "  <th>sig_managers_Board_of_Directors</th>           <td>    0.0045</td> <td>    0.942</td> <td>    0.005</td> <td> 0.996</td> <td>   -1.854</td> <td>    1.863</td>\n",
       "</tr>\n",
       "<tr>\n",
       "  <th>sig_managers_Brian_Champaigne</th>             <td>   -0.4927</td> <td>    0.444</td> <td>   -1.110</td> <td> 0.269</td> <td>   -1.369</td> <td>    0.383</td>\n",
       "</tr>\n",
       "<tr>\n",
       "  <th>sig_managers_Eric_Dougall</th>                 <td>   -0.7849</td> <td>    0.596</td> <td>   -1.316</td> <td> 0.190</td> <td>   -1.962</td> <td>    0.392</td>\n",
       "</tr>\n",
       "<tr>\n",
       "  <th>sig_managers_Kissy_Sullivan</th>               <td>    0.3539</td> <td>    0.279</td> <td>    1.270</td> <td> 0.206</td> <td>   -0.196</td> <td>    0.904</td>\n",
       "</tr>\n",
       "<tr>\n",
       "  <th>sig_managers_Lynn_Daneault</th>                <td>    0.1915</td> <td>    0.428</td> <td>    0.447</td> <td> 0.655</td> <td>   -0.653</td> <td>    1.036</td>\n",
       "</tr>\n",
       "<tr>\n",
       "  <th>sig_managers_Michael_Albert</th>               <td>    0.4539</td> <td>    0.283</td> <td>    1.605</td> <td> 0.110</td> <td>   -0.104</td> <td>    1.012</td>\n",
       "</tr>\n",
       "<tr>\n",
       "  <th>sig_managers_Peter_Monroe</th>                 <td>   -0.3593</td> <td>    0.428</td> <td>   -0.839</td> <td> 0.403</td> <td>   -1.205</td> <td>    0.486</td>\n",
       "</tr>\n",
       "<tr>\n",
       "  <th>sig_managers_Simon_Roup</th>                   <td>   -0.6061</td> <td>    0.369</td> <td>   -1.641</td> <td> 0.103</td> <td>   -1.335</td> <td>    0.123</td>\n",
       "</tr>\n",
       "<tr>\n",
       "  <th>sig_managers_Webster_Butler</th>               <td>    0.4644</td> <td>    0.298</td> <td>    1.556</td> <td> 0.122</td> <td>   -0.125</td> <td>    1.053</td>\n",
       "</tr>\n",
       "<tr>\n",
       "  <th>sig_managers_other</th>                        <td>    0.0991</td> <td>    0.204</td> <td>    0.485</td> <td> 0.629</td> <td>   -0.304</td> <td>    0.503</td>\n",
       "</tr>\n",
       "<tr>\n",
       "  <th>binned_rec_source_job_board</th>               <td>   -0.1584</td> <td>    0.119</td> <td>   -1.335</td> <td> 0.184</td> <td>   -0.392</td> <td>    0.076</td>\n",
       "</tr>\n",
       "<tr>\n",
       "  <th>binned_rec_source_other</th>                   <td>   -0.0302</td> <td>    0.136</td> <td>   -0.222</td> <td> 0.825</td> <td>   -0.299</td> <td>    0.238</td>\n",
       "</tr>\n",
       "<tr>\n",
       "  <th>binned_rec_source_referral</th>                <td>    0.0053</td> <td>    0.185</td> <td>    0.028</td> <td> 0.977</td> <td>   -0.361</td> <td>    0.371</td>\n",
       "</tr>\n",
       "<tr>\n",
       "  <th>binned_projects_below_five</th>                <td>    0.2502</td> <td>    0.273</td> <td>    0.918</td> <td> 0.360</td> <td>   -0.288</td> <td>    0.788</td>\n",
       "</tr>\n",
       "<tr>\n",
       "  <th>binned_projects_five_or_more</th>              <td>   -0.0888</td> <td>    0.335</td> <td>   -0.265</td> <td> 0.791</td> <td>   -0.750</td> <td>    0.573</td>\n",
       "</tr>\n",
       "<tr>\n",
       "  <th>binned_projects_none</th>                      <td>   -0.3447</td> <td>    0.380</td> <td>   -0.906</td> <td> 0.366</td> <td>   -1.095</td> <td>    0.406</td>\n",
       "</tr>\n",
       "<tr>\n",
       "  <th>binned_absences_eleven_to_fifteen</th>         <td>    0.0745</td> <td>    0.126</td> <td>    0.592</td> <td> 0.555</td> <td>   -0.174</td> <td>    0.323</td>\n",
       "</tr>\n",
       "<tr>\n",
       "  <th>binned_absences_five_or_fewer</th>             <td>    0.0068</td> <td>    0.120</td> <td>    0.057</td> <td> 0.955</td> <td>   -0.230</td> <td>    0.243</td>\n",
       "</tr>\n",
       "<tr>\n",
       "  <th>binned_absences_six_to_ten</th>                <td>   -0.1409</td> <td>    0.120</td> <td>   -1.174</td> <td> 0.242</td> <td>   -0.378</td> <td>    0.096</td>\n",
       "</tr>\n",
       "<tr>\n",
       "  <th>binned_absences_sixteen_or_more</th>           <td>   -0.1238</td> <td>    0.127</td> <td>   -0.974</td> <td> 0.331</td> <td>   -0.375</td> <td>    0.127</td>\n",
       "</tr>\n",
       "<tr>\n",
       "  <th>MarriedID</th>                                 <td>   -0.2871</td> <td>    0.127</td> <td>   -2.269</td> <td> 0.024</td> <td>   -0.537</td> <td>   -0.037</td>\n",
       "</tr>\n",
       "<tr>\n",
       "  <th>GenderID</th>                                  <td>    0.0030</td> <td>    0.128</td> <td>    0.024</td> <td> 0.981</td> <td>   -0.249</td> <td>    0.255</td>\n",
       "</tr>\n",
       "<tr>\n",
       "  <th>FromDiversityJobFairID</th>                    <td>   -0.4124</td> <td>    0.290</td> <td>   -1.423</td> <td> 0.157</td> <td>   -0.984</td> <td>    0.160</td>\n",
       "</tr>\n",
       "<tr>\n",
       "  <th>HispanicLatino</th>                            <td>   -0.0894</td> <td>    0.241</td> <td>   -0.370</td> <td> 0.712</td> <td>   -0.566</td> <td>    0.387</td>\n",
       "</tr>\n",
       "<tr>\n",
       "  <th>in_MA</th>                                     <td>    0.1913</td> <td>    0.406</td> <td>    0.471</td> <td> 0.638</td> <td>   -0.610</td> <td>    0.993</td>\n",
       "</tr>\n",
       "<tr>\n",
       "  <th>citizen</th>                                   <td>    0.0589</td> <td>    0.267</td> <td>    0.220</td> <td> 0.826</td> <td>   -0.468</td> <td>    0.586</td>\n",
       "</tr>\n",
       "<tr>\n",
       "  <th>late</th>                                      <td>   -0.9242</td> <td>    0.563</td> <td>   -1.642</td> <td> 0.102</td> <td>   -2.035</td> <td>    0.187</td>\n",
       "</tr>\n",
       "</table>\n",
       "<table class=\"simpletable\">\n",
       "<tr>\n",
       "  <th>Omnibus:</th>       <td> 8.837</td> <th>  Durbin-Watson:     </th> <td>   2.015</td>\n",
       "</tr>\n",
       "<tr>\n",
       "  <th>Prob(Omnibus):</th> <td> 0.012</td> <th>  Jarque-Bera (JB):  </th> <td>   4.309</td>\n",
       "</tr>\n",
       "<tr>\n",
       "  <th>Skew:</th>          <td> 0.054</td> <th>  Prob(JB):          </th> <td>   0.116</td>\n",
       "</tr>\n",
       "<tr>\n",
       "  <th>Kurtosis:</th>      <td> 2.318</td> <th>  Cond. No.          </th> <td>1.10e+16</td>\n",
       "</tr>\n",
       "</table><br/><br/>Notes:<br/>[1] Standard Errors assume that the covariance matrix of the errors is correctly specified.<br/>[2] The smallest eigenvalue is 1.13e-29. This might indicate that there are<br/>strong multicollinearity problems or that the design matrix is singular."
      ],
      "text/plain": [
       "<class 'statsmodels.iolib.summary.Summary'>\n",
       "\"\"\"\n",
       "                            OLS Regression Results                            \n",
       "==============================================================================\n",
       "Dep. Variable:                 target   R-squared:                       0.412\n",
       "Model:                            OLS   Adj. R-squared:                  0.283\n",
       "Method:                 Least Squares   F-statistic:                     3.186\n",
       "Date:                Sat, 18 Dec 2021   Prob (F-statistic):           9.85e-08\n",
       "Time:                        14:56:14   Log-Likelihood:                -250.20\n",
       "No. Observations:                 217   AIC:                             580.4\n",
       "Df Residuals:                     177   BIC:                             715.6\n",
       "Df Model:                          39                                         \n",
       "Covariance Type:            nonrobust                                         \n",
       "=============================================================================================================\n",
       "                                                coef    std err          t      P>|t|      [0.025      0.975]\n",
       "-------------------------------------------------------------------------------------------------------------\n",
       "Intercept                                    -0.1834      0.219     -0.837      0.404      -0.616       0.249\n",
       "salary_log                                   -0.0296      0.098     -0.301      0.764      -0.223       0.164\n",
       "hired_after                                   0.0058      0.078      0.074      0.941      -0.148       0.160\n",
       "age_hired_log                                -0.0611      0.064     -0.961      0.338      -0.187       0.064\n",
       "Department_Admin_Offices                     -0.8159      0.433     -1.882      0.061      -1.671       0.039\n",
       "Department_Production                        -0.0433      0.422     -0.103      0.918      -0.875       0.789\n",
       "Department_Sales                              0.3700      0.538      0.688      0.492      -0.691       1.431\n",
       "Department_Software_Engineering              -0.0878      0.382     -0.230      0.818      -0.842       0.666\n",
       "Department_it_is                              0.3936      0.516      0.762      0.447      -0.625       1.412\n",
       "RaceDesc_American_Indian_or_Alaska_Native     0.4362      0.455      0.958      0.339      -0.462       1.335\n",
       "RaceDesc_Asian                               -0.2476      0.241     -1.028      0.305      -0.723       0.228\n",
       "RaceDesc_Black_or_African_American            0.1992      0.214      0.933      0.352      -0.222       0.621\n",
       "RaceDesc_Hispanic                            -0.5640      0.773     -0.729      0.467      -2.090       0.962\n",
       "RaceDesc_Two_or_more_races                   -0.1799      0.338     -0.533      0.595      -0.846       0.487\n",
       "RaceDesc_White                                0.1727      0.192      0.901      0.369      -0.206       0.551\n",
       "PerformanceScore_Exceeds                      0.5489      0.295      1.862      0.064      -0.033       1.131\n",
       "PerformanceScore_Fully_Meets                  0.4437      0.253      1.753      0.081      -0.056       0.943\n",
       "PerformanceScore_Needs_Improvement            0.0104      0.356      0.029      0.977      -0.693       0.714\n",
       "PerformanceScore_PIP                         -1.1864      0.384     -3.086      0.002      -1.945      -0.428\n",
       "sig_managers_Amy_Dunn                         0.4923      0.319      1.544      0.124      -0.137       1.122\n",
       "sig_managers_Board_of_Directors               0.0045      0.942      0.005      0.996      -1.854       1.863\n",
       "sig_managers_Brian_Champaigne                -0.4927      0.444     -1.110      0.269      -1.369       0.383\n",
       "sig_managers_Eric_Dougall                    -0.7849      0.596     -1.316      0.190      -1.962       0.392\n",
       "sig_managers_Kissy_Sullivan                   0.3539      0.279      1.270      0.206      -0.196       0.904\n",
       "sig_managers_Lynn_Daneault                    0.1915      0.428      0.447      0.655      -0.653       1.036\n",
       "sig_managers_Michael_Albert                   0.4539      0.283      1.605      0.110      -0.104       1.012\n",
       "sig_managers_Peter_Monroe                    -0.3593      0.428     -0.839      0.403      -1.205       0.486\n",
       "sig_managers_Simon_Roup                      -0.6061      0.369     -1.641      0.103      -1.335       0.123\n",
       "sig_managers_Webster_Butler                   0.4644      0.298      1.556      0.122      -0.125       1.053\n",
       "sig_managers_other                            0.0991      0.204      0.485      0.629      -0.304       0.503\n",
       "binned_rec_source_job_board                  -0.1584      0.119     -1.335      0.184      -0.392       0.076\n",
       "binned_rec_source_other                      -0.0302      0.136     -0.222      0.825      -0.299       0.238\n",
       "binned_rec_source_referral                    0.0053      0.185      0.028      0.977      -0.361       0.371\n",
       "binned_projects_below_five                    0.2502      0.273      0.918      0.360      -0.288       0.788\n",
       "binned_projects_five_or_more                 -0.0888      0.335     -0.265      0.791      -0.750       0.573\n",
       "binned_projects_none                         -0.3447      0.380     -0.906      0.366      -1.095       0.406\n",
       "binned_absences_eleven_to_fifteen             0.0745      0.126      0.592      0.555      -0.174       0.323\n",
       "binned_absences_five_or_fewer                 0.0068      0.120      0.057      0.955      -0.230       0.243\n",
       "binned_absences_six_to_ten                   -0.1409      0.120     -1.174      0.242      -0.378       0.096\n",
       "binned_absences_sixteen_or_more              -0.1238      0.127     -0.974      0.331      -0.375       0.127\n",
       "MarriedID                                    -0.2871      0.127     -2.269      0.024      -0.537      -0.037\n",
       "GenderID                                      0.0030      0.128      0.024      0.981      -0.249       0.255\n",
       "FromDiversityJobFairID                       -0.4124      0.290     -1.423      0.157      -0.984       0.160\n",
       "HispanicLatino                               -0.0894      0.241     -0.370      0.712      -0.566       0.387\n",
       "in_MA                                         0.1913      0.406      0.471      0.638      -0.610       0.993\n",
       "citizen                                       0.0589      0.267      0.220      0.826      -0.468       0.586\n",
       "late                                         -0.9242      0.563     -1.642      0.102      -2.035       0.187\n",
       "==============================================================================\n",
       "Omnibus:                        8.837   Durbin-Watson:                   2.015\n",
       "Prob(Omnibus):                  0.012   Jarque-Bera (JB):                4.309\n",
       "Skew:                           0.054   Prob(JB):                        0.116\n",
       "Kurtosis:                       2.318   Cond. No.                     1.10e+16\n",
       "==============================================================================\n",
       "\n",
       "Notes:\n",
       "[1] Standard Errors assume that the covariance matrix of the errors is correctly specified.\n",
       "[2] The smallest eigenvalue is 1.13e-29. This might indicate that there are\n",
       "strong multicollinearity problems or that the design matrix is singular.\n",
       "\"\"\""
      ]
     },
     "execution_count": 126,
     "metadata": {},
     "output_type": "execute_result"
    }
   ],
   "source": [
    "formula = f\" target ~ {'+'.join(X_train_proc.columns)}\" \n",
    "model = ols(formula=formula, data=train_df_processed).fit() \n",
    "model.summary()"
   ]
  },
  {
   "cell_type": "code",
   "execution_count": 127,
   "metadata": {
    "ExecuteTime": {
     "end_time": "2021-12-18T19:56:42.436351Z",
     "start_time": "2021-12-18T19:56:42.432685Z"
    }
   },
   "outputs": [
    {
     "data": {
      "text/plain": [
       "Index(['MarriedID', 'GenderID', 'FromDiversityJobFairID', 'salary_log',\n",
       "       'Department', 'HispanicLatino', 'RaceDesc', 'hired_after',\n",
       "       'PerformanceScore', 'in_MA', 'citizen', 'age_hired_log', 'sig_managers',\n",
       "       'binned_rec_source', 'binned_projects', 'late', 'binned_absences'],\n",
       "      dtype='object')"
      ]
     },
     "execution_count": 127,
     "metadata": {},
     "output_type": "execute_result"
    }
   ],
   "source": [
    "X_train.columns"
   ]
  },
  {
   "cell_type": "code",
   "execution_count": 131,
   "metadata": {
    "ExecuteTime": {
     "end_time": "2021-12-18T19:57:29.516959Z",
     "start_time": "2021-12-18T19:57:29.490974Z"
    }
   },
   "outputs": [
    {
     "name": "stdout",
     "output_type": "stream",
     "text": [
      "(217, 25) (65, 25) (29, 25) (217,) (65,) (29,)\n"
     ]
    }
   ],
   "source": [
    "(X_train_red, \n",
    "X_val_red, \n",
    "X_test_red, \n",
    "y_train_red, \n",
    "y_val_red, \n",
    "y_test_red\n",
    ") = process_splits(\n",
    "    X_train, \n",
    "    X_val, \n",
    "    X_test, \n",
    "    y_train, \n",
    "    y_val, \n",
    "    y_test, \n",
    "    cols_to_remove = [ 'GenderID', 'HispanicLatino', 'RaceDesc', 'hired_after',\n",
    "       'binned_rec_source','binned_projects', 'binned_absences', 'in_MA',\n",
    "       'citizen']\n",
    ")"
   ]
  },
  {
   "cell_type": "code",
   "execution_count": 132,
   "metadata": {
    "ExecuteTime": {
     "end_time": "2021-12-18T19:57:31.792020Z",
     "start_time": "2021-12-18T19:57:31.787807Z"
    }
   },
   "outputs": [],
   "source": [
    "#Concat the features and target for statsmodels\n",
    "train_df_processed_red = pd.concat(\n",
    "    [X_train_red, pd.DataFrame(y_train_red)], \n",
    "    axis = 1\n",
    ")\n",
    "train_df_processed_red.rename(columns = {0:'target'},  inplace=True)"
   ]
  },
  {
   "cell_type": "code",
   "execution_count": 133,
   "metadata": {
    "ExecuteTime": {
     "end_time": "2021-12-18T19:57:32.704773Z",
     "start_time": "2021-12-18T19:57:32.652345Z"
    },
    "scrolled": true
   },
   "outputs": [
    {
     "data": {
      "text/html": [
       "<table class=\"simpletable\">\n",
       "<caption>OLS Regression Results</caption>\n",
       "<tr>\n",
       "  <th>Dep. Variable:</th>         <td>target</td>      <th>  R-squared:         </th> <td>   0.377</td>\n",
       "</tr>\n",
       "<tr>\n",
       "  <th>Model:</th>                   <td>OLS</td>       <th>  Adj. R-squared:    </th> <td>   0.306</td>\n",
       "</tr>\n",
       "<tr>\n",
       "  <th>Method:</th>             <td>Least Squares</td>  <th>  F-statistic:       </th> <td>   5.328</td>\n",
       "</tr>\n",
       "<tr>\n",
       "  <th>Date:</th>             <td>Sat, 18 Dec 2021</td> <th>  Prob (F-statistic):</th> <td>2.98e-11</td>\n",
       "</tr>\n",
       "<tr>\n",
       "  <th>Time:</th>                 <td>14:57:32</td>     <th>  Log-Likelihood:    </th> <td> -256.63</td>\n",
       "</tr>\n",
       "<tr>\n",
       "  <th>No. Observations:</th>      <td>   217</td>      <th>  AIC:               </th> <td>   559.3</td>\n",
       "</tr>\n",
       "<tr>\n",
       "  <th>Df Residuals:</th>          <td>   194</td>      <th>  BIC:               </th> <td>   637.0</td>\n",
       "</tr>\n",
       "<tr>\n",
       "  <th>Df Model:</th>              <td>    22</td>      <th>                     </th>     <td> </td>   \n",
       "</tr>\n",
       "<tr>\n",
       "  <th>Covariance Type:</th>      <td>nonrobust</td>    <th>                     </th>     <td> </td>   \n",
       "</tr>\n",
       "</table>\n",
       "<table class=\"simpletable\">\n",
       "<tr>\n",
       "                   <td></td>                     <th>coef</th>     <th>std err</th>      <th>t</th>      <th>P>|t|</th>  <th>[0.025</th>    <th>0.975]</th>  \n",
       "</tr>\n",
       "<tr>\n",
       "  <th>Intercept</th>                          <td>   -0.2079</td> <td>    0.198</td> <td>   -1.048</td> <td> 0.296</td> <td>   -0.599</td> <td>    0.184</td>\n",
       "</tr>\n",
       "<tr>\n",
       "  <th>salary_log</th>                         <td>   -0.0318</td> <td>    0.092</td> <td>   -0.344</td> <td> 0.731</td> <td>   -0.214</td> <td>    0.151</td>\n",
       "</tr>\n",
       "<tr>\n",
       "  <th>age_hired_log</th>                      <td>   -0.0531</td> <td>    0.059</td> <td>   -0.893</td> <td> 0.373</td> <td>   -0.170</td> <td>    0.064</td>\n",
       "</tr>\n",
       "<tr>\n",
       "  <th>Department_Admin_Offices</th>           <td>   -0.5032</td> <td>    0.328</td> <td>   -1.534</td> <td> 0.127</td> <td>   -1.150</td> <td>    0.144</td>\n",
       "</tr>\n",
       "<tr>\n",
       "  <th>Department_Production</th>              <td>   -0.2152</td> <td>    0.188</td> <td>   -1.146</td> <td> 0.253</td> <td>   -0.586</td> <td>    0.155</td>\n",
       "</tr>\n",
       "<tr>\n",
       "  <th>Department_Sales</th>                   <td>   -0.0358</td> <td>    0.249</td> <td>   -0.144</td> <td> 0.886</td> <td>   -0.526</td> <td>    0.455</td>\n",
       "</tr>\n",
       "<tr>\n",
       "  <th>Department_Software_Engineering</th>    <td>    0.0837</td> <td>    0.316</td> <td>    0.265</td> <td> 0.791</td> <td>   -0.540</td> <td>    0.707</td>\n",
       "</tr>\n",
       "<tr>\n",
       "  <th>Department_it_is</th>                   <td>    0.4626</td> <td>    0.376</td> <td>    1.229</td> <td> 0.220</td> <td>   -0.280</td> <td>    1.205</td>\n",
       "</tr>\n",
       "<tr>\n",
       "  <th>PerformanceScore_Exceeds</th>           <td>    0.6910</td> <td>    0.261</td> <td>    2.649</td> <td> 0.009</td> <td>    0.176</td> <td>    1.205</td>\n",
       "</tr>\n",
       "<tr>\n",
       "  <th>PerformanceScore_Fully_Meets</th>       <td>    0.5184</td> <td>    0.218</td> <td>    2.374</td> <td> 0.019</td> <td>    0.088</td> <td>    0.949</td>\n",
       "</tr>\n",
       "<tr>\n",
       "  <th>PerformanceScore_Needs_Improvement</th> <td>   -0.1055</td> <td>    0.334</td> <td>   -0.316</td> <td> 0.752</td> <td>   -0.764</td> <td>    0.553</td>\n",
       "</tr>\n",
       "<tr>\n",
       "  <th>PerformanceScore_PIP</th>               <td>   -1.3118</td> <td>    0.375</td> <td>   -3.499</td> <td> 0.001</td> <td>   -2.051</td> <td>   -0.572</td>\n",
       "</tr>\n",
       "<tr>\n",
       "  <th>sig_managers_Amy_Dunn</th>              <td>    0.4409</td> <td>    0.301</td> <td>    1.466</td> <td> 0.144</td> <td>   -0.152</td> <td>    1.034</td>\n",
       "</tr>\n",
       "<tr>\n",
       "  <th>sig_managers_Board_of_Directors</th>    <td>    0.2914</td> <td>    0.877</td> <td>    0.332</td> <td> 0.740</td> <td>   -1.439</td> <td>    2.022</td>\n",
       "</tr>\n",
       "<tr>\n",
       "  <th>sig_managers_Brian_Champaigne</th>      <td>   -0.6293</td> <td>    0.393</td> <td>   -1.602</td> <td> 0.111</td> <td>   -1.404</td> <td>    0.145</td>\n",
       "</tr>\n",
       "<tr>\n",
       "  <th>sig_managers_Eric_Dougall</th>          <td>   -0.8244</td> <td>    0.557</td> <td>   -1.480</td> <td> 0.141</td> <td>   -1.923</td> <td>    0.275</td>\n",
       "</tr>\n",
       "<tr>\n",
       "  <th>sig_managers_Kissy_Sullivan</th>        <td>    0.3020</td> <td>    0.264</td> <td>    1.145</td> <td> 0.254</td> <td>   -0.218</td> <td>    0.822</td>\n",
       "</tr>\n",
       "<tr>\n",
       "  <th>sig_managers_Lynn_Daneault</th>         <td>    0.2149</td> <td>    0.396</td> <td>    0.542</td> <td> 0.588</td> <td>   -0.567</td> <td>    0.996</td>\n",
       "</tr>\n",
       "<tr>\n",
       "  <th>sig_managers_Michael_Albert</th>        <td>    0.4659</td> <td>    0.263</td> <td>    1.775</td> <td> 0.078</td> <td>   -0.052</td> <td>    0.984</td>\n",
       "</tr>\n",
       "<tr>\n",
       "  <th>sig_managers_Peter_Monroe</th>          <td>   -0.3862</td> <td>    0.402</td> <td>   -0.961</td> <td> 0.338</td> <td>   -1.178</td> <td>    0.406</td>\n",
       "</tr>\n",
       "<tr>\n",
       "  <th>sig_managers_Simon_Roup</th>            <td>   -0.5660</td> <td>    0.347</td> <td>   -1.631</td> <td> 0.105</td> <td>   -1.250</td> <td>    0.118</td>\n",
       "</tr>\n",
       "<tr>\n",
       "  <th>sig_managers_Webster_Butler</th>        <td>    0.3955</td> <td>    0.281</td> <td>    1.409</td> <td> 0.160</td> <td>   -0.158</td> <td>    0.949</td>\n",
       "</tr>\n",
       "<tr>\n",
       "  <th>sig_managers_other</th>                 <td>    0.0874</td> <td>    0.193</td> <td>    0.454</td> <td> 0.650</td> <td>   -0.292</td> <td>    0.467</td>\n",
       "</tr>\n",
       "<tr>\n",
       "  <th>MarriedID</th>                          <td>   -0.2926</td> <td>    0.119</td> <td>   -2.460</td> <td> 0.015</td> <td>   -0.527</td> <td>   -0.058</td>\n",
       "</tr>\n",
       "<tr>\n",
       "  <th>FromDiversityJobFairID</th>             <td>   -0.2492</td> <td>    0.217</td> <td>   -1.148</td> <td> 0.253</td> <td>   -0.677</td> <td>    0.179</td>\n",
       "</tr>\n",
       "<tr>\n",
       "  <th>late</th>                               <td>   -0.6838</td> <td>    0.501</td> <td>   -1.366</td> <td> 0.174</td> <td>   -1.671</td> <td>    0.304</td>\n",
       "</tr>\n",
       "</table>\n",
       "<table class=\"simpletable\">\n",
       "<tr>\n",
       "  <th>Omnibus:</th>       <td> 9.525</td> <th>  Durbin-Watson:     </th> <td>   1.987</td>\n",
       "</tr>\n",
       "<tr>\n",
       "  <th>Prob(Omnibus):</th> <td> 0.009</td> <th>  Jarque-Bera (JB):  </th> <td>   5.087</td>\n",
       "</tr>\n",
       "<tr>\n",
       "  <th>Skew:</th>          <td> 0.161</td> <th>  Prob(JB):          </th> <td>  0.0786</td>\n",
       "</tr>\n",
       "<tr>\n",
       "  <th>Kurtosis:</th>      <td> 2.323</td> <th>  Cond. No.          </th> <td>1.30e+16</td>\n",
       "</tr>\n",
       "</table><br/><br/>Notes:<br/>[1] Standard Errors assume that the covariance matrix of the errors is correctly specified.<br/>[2] The smallest eigenvalue is 3.43e-30. This might indicate that there are<br/>strong multicollinearity problems or that the design matrix is singular."
      ],
      "text/plain": [
       "<class 'statsmodels.iolib.summary.Summary'>\n",
       "\"\"\"\n",
       "                            OLS Regression Results                            \n",
       "==============================================================================\n",
       "Dep. Variable:                 target   R-squared:                       0.377\n",
       "Model:                            OLS   Adj. R-squared:                  0.306\n",
       "Method:                 Least Squares   F-statistic:                     5.328\n",
       "Date:                Sat, 18 Dec 2021   Prob (F-statistic):           2.98e-11\n",
       "Time:                        14:57:32   Log-Likelihood:                -256.63\n",
       "No. Observations:                 217   AIC:                             559.3\n",
       "Df Residuals:                     194   BIC:                             637.0\n",
       "Df Model:                          22                                         \n",
       "Covariance Type:            nonrobust                                         \n",
       "======================================================================================================\n",
       "                                         coef    std err          t      P>|t|      [0.025      0.975]\n",
       "------------------------------------------------------------------------------------------------------\n",
       "Intercept                             -0.2079      0.198     -1.048      0.296      -0.599       0.184\n",
       "salary_log                            -0.0318      0.092     -0.344      0.731      -0.214       0.151\n",
       "age_hired_log                         -0.0531      0.059     -0.893      0.373      -0.170       0.064\n",
       "Department_Admin_Offices              -0.5032      0.328     -1.534      0.127      -1.150       0.144\n",
       "Department_Production                 -0.2152      0.188     -1.146      0.253      -0.586       0.155\n",
       "Department_Sales                      -0.0358      0.249     -0.144      0.886      -0.526       0.455\n",
       "Department_Software_Engineering        0.0837      0.316      0.265      0.791      -0.540       0.707\n",
       "Department_it_is                       0.4626      0.376      1.229      0.220      -0.280       1.205\n",
       "PerformanceScore_Exceeds               0.6910      0.261      2.649      0.009       0.176       1.205\n",
       "PerformanceScore_Fully_Meets           0.5184      0.218      2.374      0.019       0.088       0.949\n",
       "PerformanceScore_Needs_Improvement    -0.1055      0.334     -0.316      0.752      -0.764       0.553\n",
       "PerformanceScore_PIP                  -1.3118      0.375     -3.499      0.001      -2.051      -0.572\n",
       "sig_managers_Amy_Dunn                  0.4409      0.301      1.466      0.144      -0.152       1.034\n",
       "sig_managers_Board_of_Directors        0.2914      0.877      0.332      0.740      -1.439       2.022\n",
       "sig_managers_Brian_Champaigne         -0.6293      0.393     -1.602      0.111      -1.404       0.145\n",
       "sig_managers_Eric_Dougall             -0.8244      0.557     -1.480      0.141      -1.923       0.275\n",
       "sig_managers_Kissy_Sullivan            0.3020      0.264      1.145      0.254      -0.218       0.822\n",
       "sig_managers_Lynn_Daneault             0.2149      0.396      0.542      0.588      -0.567       0.996\n",
       "sig_managers_Michael_Albert            0.4659      0.263      1.775      0.078      -0.052       0.984\n",
       "sig_managers_Peter_Monroe             -0.3862      0.402     -0.961      0.338      -1.178       0.406\n",
       "sig_managers_Simon_Roup               -0.5660      0.347     -1.631      0.105      -1.250       0.118\n",
       "sig_managers_Webster_Butler            0.3955      0.281      1.409      0.160      -0.158       0.949\n",
       "sig_managers_other                     0.0874      0.193      0.454      0.650      -0.292       0.467\n",
       "MarriedID                             -0.2926      0.119     -2.460      0.015      -0.527      -0.058\n",
       "FromDiversityJobFairID                -0.2492      0.217     -1.148      0.253      -0.677       0.179\n",
       "late                                  -0.6838      0.501     -1.366      0.174      -1.671       0.304\n",
       "==============================================================================\n",
       "Omnibus:                        9.525   Durbin-Watson:                   1.987\n",
       "Prob(Omnibus):                  0.009   Jarque-Bera (JB):                5.087\n",
       "Skew:                           0.161   Prob(JB):                       0.0786\n",
       "Kurtosis:                       2.323   Cond. No.                     1.30e+16\n",
       "==============================================================================\n",
       "\n",
       "Notes:\n",
       "[1] Standard Errors assume that the covariance matrix of the errors is correctly specified.\n",
       "[2] The smallest eigenvalue is 3.43e-30. This might indicate that there are\n",
       "strong multicollinearity problems or that the design matrix is singular.\n",
       "\"\"\""
      ]
     },
     "execution_count": 133,
     "metadata": {},
     "output_type": "execute_result"
    }
   ],
   "source": [
    "formula_red = f\" target ~ {'+'.join(X_train_red.columns)}\" \n",
    "model_red = ols(formula=formula_red, data=train_df_processed_red).fit() \n",
    "model_red.summary()"
   ]
  },
  {
   "cell_type": "code",
   "execution_count": 137,
   "metadata": {
    "ExecuteTime": {
     "end_time": "2021-12-18T20:32:59.941052Z",
     "start_time": "2021-12-18T20:32:58.653558Z"
    }
   },
   "outputs": [],
   "source": [
    "df.to_excel('HR_df.xlsx')"
   ]
  },
  {
   "cell_type": "markdown",
   "metadata": {},
   "source": [
    "to-do:\n",
    "- rework function to accept cols to keep rather than cut\n",
    "- reduce and re-engineer features to select ones that are significant\n",
    "- start small with only the significant features and try adding back in\n",
    "- is there information anywhere else that I'm missing? maybe try employee position level? Is these external data I can bring in?\n",
    "\n"
   ]
  }
 ],
 "metadata": {
  "kernelspec": {
   "display_name": "Python (learn-env)",
   "language": "python",
   "name": "learn-env"
  },
  "language_info": {
   "codemirror_mode": {
    "name": "ipython",
    "version": 3
   },
   "file_extension": ".py",
   "mimetype": "text/x-python",
   "name": "python",
   "nbconvert_exporter": "python",
   "pygments_lexer": "ipython3",
   "version": "3.8.5"
  },
  "toc": {
   "base_numbering": 1,
   "nav_menu": {},
   "number_sections": true,
   "sideBar": true,
   "skip_h1_title": false,
   "title_cell": "Table of Contents",
   "title_sidebar": "Contents",
   "toc_cell": false,
   "toc_position": {},
   "toc_section_display": true,
   "toc_window_display": true
  }
 },
 "nbformat": 4,
 "nbformat_minor": 4
}
